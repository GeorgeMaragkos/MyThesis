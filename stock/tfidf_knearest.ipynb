{
 "cells": [
  {
   "cell_type": "code",
   "execution_count": 47,
   "id": "1d5e199b",
   "metadata": {},
   "outputs": [
    {
     "name": "stderr",
     "output_type": "stream",
     "text": [
      "[nltk_data] Downloading package wordnet to\n",
      "[nltk_data]     C:\\Users\\George\\AppData\\Roaming\\nltk_data...\n",
      "[nltk_data]   Package wordnet is already up-to-date!\n",
      "[nltk_data] Downloading package stopwords to\n",
      "[nltk_data]     C:\\Users\\George\\AppData\\Roaming\\nltk_data...\n",
      "[nltk_data]   Package stopwords is already up-to-date!\n"
     ]
    }
   ],
   "source": [
    "# all imports will be in this cell \n",
    "\n",
    "import pandas as pd\n",
    "import string\n",
    "import re\n",
    "import nltk\n",
    "from nltk.stem.porter import PorterStemmer\n",
    "from nltk.stem import WordNetLemmatizer\n",
    "\n",
    "nltk.download('wordnet')\n",
    "nltk.download('stopwords')\n",
    "stopwords = nltk.corpus.stopwords.words('english')\n",
    "porter_stemmer=PorterStemmer()\n",
    "wordnet_lemmatizer = WordNetLemmatizer()"
   ]
  },
  {
   "cell_type": "code",
   "execution_count": 48,
   "id": "857f7d6f",
   "metadata": {},
   "outputs": [
    {
     "data": {
      "text/html": [
       "<div>\n",
       "<style scoped>\n",
       "    .dataframe tbody tr th:only-of-type {\n",
       "        vertical-align: middle;\n",
       "    }\n",
       "\n",
       "    .dataframe tbody tr th {\n",
       "        vertical-align: top;\n",
       "    }\n",
       "\n",
       "    .dataframe thead th {\n",
       "        text-align: right;\n",
       "    }\n",
       "</style>\n",
       "<table border=\"1\" class=\"dataframe\">\n",
       "  <thead>\n",
       "    <tr style=\"text-align: right;\">\n",
       "      <th></th>\n",
       "      <th>No</th>\n",
       "      <th>Classes</th>\n",
       "      <th>Text</th>\n",
       "    </tr>\n",
       "  </thead>\n",
       "  <tbody>\n",
       "    <tr>\n",
       "      <th>0</th>\n",
       "      <td>1</td>\n",
       "      <td>GOOD</td>\n",
       "      <td>PARIS (Reuters) -French carmaker Renault (EPA:...</td>\n",
       "    </tr>\n",
       "    <tr>\n",
       "      <th>1</th>\n",
       "      <td>2</td>\n",
       "      <td>BAD</td>\n",
       "      <td>(Reuters) - Russia may face an \"orchestrated\" ...</td>\n",
       "    </tr>\n",
       "    <tr>\n",
       "      <th>2</th>\n",
       "      <td>3</td>\n",
       "      <td>BAD</td>\n",
       "      <td>European stock markets traded sharply lower Fr...</td>\n",
       "    </tr>\n",
       "    <tr>\n",
       "      <th>3</th>\n",
       "      <td>4</td>\n",
       "      <td>BAD</td>\n",
       "      <td>Swedish truck maker AB Volvo reported a surpri...</td>\n",
       "    </tr>\n",
       "    <tr>\n",
       "      <th>4</th>\n",
       "      <td>5</td>\n",
       "      <td>BAD</td>\n",
       "      <td>AB InBev (EBR:ABI) stock fell in early trading...</td>\n",
       "    </tr>\n",
       "    <tr>\n",
       "      <th>...</th>\n",
       "      <td>...</td>\n",
       "      <td>...</td>\n",
       "      <td>...</td>\n",
       "    </tr>\n",
       "    <tr>\n",
       "      <th>195</th>\n",
       "      <td>196</td>\n",
       "      <td>GOOD</td>\n",
       "      <td>Shares in defense group Thales (PA:TCFP) rose ...</td>\n",
       "    </tr>\n",
       "    <tr>\n",
       "      <th>196</th>\n",
       "      <td>197</td>\n",
       "      <td>NEUTRAL</td>\n",
       "      <td>The head of Japan's Hitachi Ltd (T:6501) said ...</td>\n",
       "    </tr>\n",
       "    <tr>\n",
       "      <th>197</th>\n",
       "      <td>198</td>\n",
       "      <td>GOOD</td>\n",
       "      <td>US stocks rallied on Friday amid renewed optim...</td>\n",
       "    </tr>\n",
       "    <tr>\n",
       "      <th>198</th>\n",
       "      <td>199</td>\n",
       "      <td>BAD</td>\n",
       "      <td>European shares inched lower on Friday, weighe...</td>\n",
       "    </tr>\n",
       "    <tr>\n",
       "      <th>199</th>\n",
       "      <td>200</td>\n",
       "      <td>BAD</td>\n",
       "      <td>Major U.S. stock indexes fell on Thursday, wit...</td>\n",
       "    </tr>\n",
       "  </tbody>\n",
       "</table>\n",
       "<p>200 rows × 3 columns</p>\n",
       "</div>"
      ],
      "text/plain": [
       "      No  Classes                                               Text\n",
       "0      1     GOOD  PARIS (Reuters) -French carmaker Renault (EPA:...\n",
       "1      2      BAD  (Reuters) - Russia may face an \"orchestrated\" ...\n",
       "2      3      BAD  European stock markets traded sharply lower Fr...\n",
       "3      4      BAD  Swedish truck maker AB Volvo reported a surpri...\n",
       "4      5      BAD  AB InBev (EBR:ABI) stock fell in early trading...\n",
       "..   ...      ...                                                ...\n",
       "195  196     GOOD  Shares in defense group Thales (PA:TCFP) rose ...\n",
       "196  197  NEUTRAL  The head of Japan's Hitachi Ltd (T:6501) said ...\n",
       "197  198     GOOD  US stocks rallied on Friday amid renewed optim...\n",
       "198  199      BAD  European shares inched lower on Friday, weighe...\n",
       "199  200      BAD  Major U.S. stock indexes fell on Thursday, wit...\n",
       "\n",
       "[200 rows x 3 columns]"
      ]
     },
     "execution_count": 48,
     "metadata": {},
     "output_type": "execute_result"
    }
   ],
   "source": [
    "data=pd.read_csv(\"dataset_investing_stock_market.csv\", encoding=\"ISO-8859-1\", sep=';', header=0)\n",
    "data"
   ]
  },
  {
   "cell_type": "code",
   "execution_count": 49,
   "id": "8467b1e7",
   "metadata": {},
   "outputs": [],
   "source": [
    "# helper functions - all helper functions will be reported here\n",
    "\n",
    "def remove_punctuation(text):\n",
    "    punctuationfree=\"\".join([i for i in text if i not in string.punctuation])\n",
    "    return punctuationfree\n",
    "\n",
    "def tokenization(text):\n",
    "    tokens = re.split('W+', text)\n",
    "    return tokens\n",
    "\n",
    "def remove_stopwords(text):\n",
    "    output= [i for i in text if not i in stopwords]\n",
    "    return output\n",
    "\n",
    "def stemming(text):\n",
    "    stem_text=[porter_stemmer.stem(word) for word in text]\n",
    "    return stem_text\n",
    "\n",
    "def lemmatizer(text):\n",
    "    lemm_text = [wordnet_lemmatizer.lemmatize(word) for word in text]\n",
    "    return lemm_text\n"
   ]
  },
  {
   "cell_type": "code",
   "execution_count": 50,
   "id": "44535afe",
   "metadata": {},
   "outputs": [
    {
     "data": {
      "text/html": [
       "<div>\n",
       "<style scoped>\n",
       "    .dataframe tbody tr th:only-of-type {\n",
       "        vertical-align: middle;\n",
       "    }\n",
       "\n",
       "    .dataframe tbody tr th {\n",
       "        vertical-align: top;\n",
       "    }\n",
       "\n",
       "    .dataframe thead th {\n",
       "        text-align: right;\n",
       "    }\n",
       "</style>\n",
       "<table border=\"1\" class=\"dataframe\">\n",
       "  <thead>\n",
       "    <tr style=\"text-align: right;\">\n",
       "      <th></th>\n",
       "      <th>No</th>\n",
       "      <th>Classes</th>\n",
       "      <th>Text</th>\n",
       "      <th>clean_msg</th>\n",
       "      <th>msg_lower</th>\n",
       "      <th>msg_tokenied</th>\n",
       "      <th>no_stopwords</th>\n",
       "      <th>msg_stemmed</th>\n",
       "      <th>msg_lemmatized</th>\n",
       "      <th>msg_lemmatized_string</th>\n",
       "    </tr>\n",
       "  </thead>\n",
       "  <tbody>\n",
       "    <tr>\n",
       "      <th>0</th>\n",
       "      <td>1</td>\n",
       "      <td>GOOD</td>\n",
       "      <td>PARIS (Reuters) -French carmaker Renault (EPA:...</td>\n",
       "      <td>PARIS Reuters French carmaker Renault EPARENA ...</td>\n",
       "      <td>paris reuters french carmaker renault eparena ...</td>\n",
       "      <td>[paris reuters french carmaker renault eparena...</td>\n",
       "      <td>[paris reuters french carmaker renault eparena...</td>\n",
       "      <td>[paris reuters french carmaker renault eparena...</td>\n",
       "      <td>[paris reuters french carmaker renault eparena...</td>\n",
       "      <td>paris reuters french carmaker renault eparena ...</td>\n",
       "    </tr>\n",
       "    <tr>\n",
       "      <th>1</th>\n",
       "      <td>2</td>\n",
       "      <td>BAD</td>\n",
       "      <td>(Reuters) - Russia may face an \"orchestrated\" ...</td>\n",
       "      <td>Reuters  Russia may face an orchestrated defau...</td>\n",
       "      <td>reuters  russia may face an orchestrated defau...</td>\n",
       "      <td>[reuters  russia may face an orchestrated defa...</td>\n",
       "      <td>[reuters  russia may face an orchestrated defa...</td>\n",
       "      <td>[reuters  russia may face an orchestrated defa...</td>\n",
       "      <td>[reuters  russia may face an orchestrated defa...</td>\n",
       "      <td>reuters  russia may face an orchestrated defau...</td>\n",
       "    </tr>\n",
       "    <tr>\n",
       "      <th>2</th>\n",
       "      <td>3</td>\n",
       "      <td>BAD</td>\n",
       "      <td>European stock markets traded sharply lower Fr...</td>\n",
       "      <td>European stock markets traded sharply lower Fr...</td>\n",
       "      <td>european stock markets traded sharply lower fr...</td>\n",
       "      <td>[european stock markets traded sharply lower f...</td>\n",
       "      <td>[european stock markets traded sharply lower f...</td>\n",
       "      <td>[european stock markets traded sharply lower f...</td>\n",
       "      <td>[european stock markets traded sharply lower f...</td>\n",
       "      <td>european stock markets traded sharply lower fr...</td>\n",
       "    </tr>\n",
       "    <tr>\n",
       "      <th>3</th>\n",
       "      <td>4</td>\n",
       "      <td>BAD</td>\n",
       "      <td>Swedish truck maker AB Volvo reported a surpri...</td>\n",
       "      <td>Swedish truck maker AB Volvo reported a surpri...</td>\n",
       "      <td>swedish truck maker ab volvo reported a surpri...</td>\n",
       "      <td>[swedish truck maker ab volvo reported a surpr...</td>\n",
       "      <td>[swedish truck maker ab volvo reported a surpr...</td>\n",
       "      <td>[swedish truck maker ab volvo reported a surpr...</td>\n",
       "      <td>[swedish truck maker ab volvo reported a surpr...</td>\n",
       "      <td>swedish truck maker ab volvo reported a surpri...</td>\n",
       "    </tr>\n",
       "    <tr>\n",
       "      <th>4</th>\n",
       "      <td>5</td>\n",
       "      <td>BAD</td>\n",
       "      <td>AB InBev (EBR:ABI) stock fell in early trading...</td>\n",
       "      <td>AB InBev EBRABI stock fell in early trading in...</td>\n",
       "      <td>ab inbev ebrabi stock fell in early trading in...</td>\n",
       "      <td>[ab inbev ebrabi stock fell in early trading i...</td>\n",
       "      <td>[ab inbev ebrabi stock fell in early trading i...</td>\n",
       "      <td>[ab inbev ebrabi stock fell in early trading i...</td>\n",
       "      <td>[ab inbev ebrabi stock fell in early trading i...</td>\n",
       "      <td>ab inbev ebrabi stock fell in early trading in...</td>\n",
       "    </tr>\n",
       "  </tbody>\n",
       "</table>\n",
       "</div>"
      ],
      "text/plain": [
       "   No Classes                                               Text  \\\n",
       "0   1    GOOD  PARIS (Reuters) -French carmaker Renault (EPA:...   \n",
       "1   2     BAD  (Reuters) - Russia may face an \"orchestrated\" ...   \n",
       "2   3     BAD  European stock markets traded sharply lower Fr...   \n",
       "3   4     BAD  Swedish truck maker AB Volvo reported a surpri...   \n",
       "4   5     BAD  AB InBev (EBR:ABI) stock fell in early trading...   \n",
       "\n",
       "                                           clean_msg  \\\n",
       "0  PARIS Reuters French carmaker Renault EPARENA ...   \n",
       "1  Reuters  Russia may face an orchestrated defau...   \n",
       "2  European stock markets traded sharply lower Fr...   \n",
       "3  Swedish truck maker AB Volvo reported a surpri...   \n",
       "4  AB InBev EBRABI stock fell in early trading in...   \n",
       "\n",
       "                                           msg_lower  \\\n",
       "0  paris reuters french carmaker renault eparena ...   \n",
       "1  reuters  russia may face an orchestrated defau...   \n",
       "2  european stock markets traded sharply lower fr...   \n",
       "3  swedish truck maker ab volvo reported a surpri...   \n",
       "4  ab inbev ebrabi stock fell in early trading in...   \n",
       "\n",
       "                                        msg_tokenied  \\\n",
       "0  [paris reuters french carmaker renault eparena...   \n",
       "1  [reuters  russia may face an orchestrated defa...   \n",
       "2  [european stock markets traded sharply lower f...   \n",
       "3  [swedish truck maker ab volvo reported a surpr...   \n",
       "4  [ab inbev ebrabi stock fell in early trading i...   \n",
       "\n",
       "                                        no_stopwords  \\\n",
       "0  [paris reuters french carmaker renault eparena...   \n",
       "1  [reuters  russia may face an orchestrated defa...   \n",
       "2  [european stock markets traded sharply lower f...   \n",
       "3  [swedish truck maker ab volvo reported a surpr...   \n",
       "4  [ab inbev ebrabi stock fell in early trading i...   \n",
       "\n",
       "                                         msg_stemmed  \\\n",
       "0  [paris reuters french carmaker renault eparena...   \n",
       "1  [reuters  russia may face an orchestrated defa...   \n",
       "2  [european stock markets traded sharply lower f...   \n",
       "3  [swedish truck maker ab volvo reported a surpr...   \n",
       "4  [ab inbev ebrabi stock fell in early trading i...   \n",
       "\n",
       "                                      msg_lemmatized  \\\n",
       "0  [paris reuters french carmaker renault eparena...   \n",
       "1  [reuters  russia may face an orchestrated defa...   \n",
       "2  [european stock markets traded sharply lower f...   \n",
       "3  [swedish truck maker ab volvo reported a surpr...   \n",
       "4  [ab inbev ebrabi stock fell in early trading i...   \n",
       "\n",
       "                               msg_lemmatized_string  \n",
       "0  paris reuters french carmaker renault eparena ...  \n",
       "1  reuters  russia may face an orchestrated defau...  \n",
       "2  european stock markets traded sharply lower fr...  \n",
       "3  swedish truck maker ab volvo reported a surpri...  \n",
       "4  ab inbev ebrabi stock fell in early trading in...  "
      ]
     },
     "execution_count": 50,
     "metadata": {},
     "output_type": "execute_result"
    }
   ],
   "source": [
    "# data preprocess\n",
    "\n",
    "# remove punctuation from Text column - create a new column \n",
    "data['clean_msg']=data['Text'].apply(lambda x:remove_punctuation(x))\n",
    "\n",
    "# lower all letters - create a new column \n",
    "data['msg_lower']=data['clean_msg'].apply(lambda x: x.lower())\n",
    "\n",
    "# tokenize all rows - create a new column \n",
    "data['msg_tokenied']= data['msg_lower'].apply(lambda x: tokenization(x))\n",
    "\n",
    "# remove stopwords - create a new column\n",
    "data['no_stopwords']=data['msg_tokenied'].apply(lambda x:remove_stopwords(x))\n",
    "\n",
    "# stemme texts - create a new column\n",
    "data['msg_stemmed']=data['no_stopwords'].apply(lambda x:stemming(x))\n",
    "\n",
    "# lemmatize texts - create a new column\n",
    "data['msg_lemmatized']=data['msg_stemmed'].apply(lambda x:lemmatizer(x))\n",
    "\n",
    "data['msg_lemmatized_string']=data['msg_lemmatized'].apply(lambda x: ' '.join(map(str, x)))\n",
    "\n",
    "data.head()"
   ]
  },
  {
   "cell_type": "code",
   "execution_count": 51,
   "id": "494e23d2",
   "metadata": {},
   "outputs": [],
   "source": [
    "#  Data analysis \n",
    "\n",
    "from sklearn.feature_extraction.text import TfidfVectorizer\n",
    "from sklearn.model_selection import train_test_split\n",
    "\n",
    "from sklearn.tree import DecisionTreeClassifier\n",
    "\n",
    "from sklearn.metrics import accuracy_score, recall_score, precision_score, f1_score\n",
    "from sklearn.metrics import confusion_matrix, ConfusionMatrixDisplay\n",
    "\n",
    "from sklearn.feature_extraction.text import CountVectorizer\n",
    "from sklearn.neighbors import KNeighborsClassifier"
   ]
  },
  {
   "cell_type": "code",
   "execution_count": 52,
   "id": "5e8a75d5",
   "metadata": {},
   "outputs": [
    {
     "name": "stdout",
     "output_type": "stream",
     "text": [
      "[[0.         0.         0.         ... 0.         0.         0.        ]\n",
      " [0.         0.         0.         ... 0.         0.         0.        ]\n",
      " [0.         0.         0.         ... 0.         0.         0.        ]\n",
      " ...\n",
      " [0.         0.         0.         ... 0.         0.         0.        ]\n",
      " [0.         0.         0.         ... 0.08292206 0.         0.        ]\n",
      " [0.         0.         0.         ... 0.         0.         0.        ]]\n"
     ]
    }
   ],
   "source": [
    "# TfId\n",
    "\n",
    "v = TfidfVectorizer(token_pattern=r\"\\b\\w+\\b\")\n",
    "X = v.fit_transform(data['msg_lemmatized_string'])\n",
    "\n",
    "y = data['Classes'].to_list()\n",
    "\n",
    "print(X.toarray())\n",
    "## pd.DataFrame(X).to_excel(\"TEMP.xlsx\", index=False) # save a xlsx file to see the tokenized data\n"
   ]
  },
  {
   "cell_type": "code",
   "execution_count": 53,
   "id": "9f90f350",
   "metadata": {},
   "outputs": [
    {
     "name": "stdout",
     "output_type": "stream",
     "text": [
      "  (0, 36)\t0.15079776644901569\n",
      "  (0, 3058)\t0.13216637465471276\n",
      "  (0, 3055)\t0.13216637465471276\n",
      "  (0, 44)\t0.15079776644901569\n",
      "  (0, 377)\t0.15079776644901569\n",
      "  (0, 4582)\t0.12126770911880173\n",
      "  (0, 2649)\t0.12126770911880173\n",
      "  (0, 1626)\t0.13216637465471276\n",
      "  (0, 4632)\t0.13216637465471276\n",
      "  (0, 352)\t0.13989910091310462\n",
      "  (0, 3964)\t0.13216637465471276\n",
      "  (0, 88)\t0.15079776644901569\n",
      "  (0, 256)\t0.13989910091310462\n",
      "  (0, 5382)\t0.15079776644901569\n",
      "  (0, 4051)\t0.15079776644901569\n",
      "  (0, 4437)\t0.15079776644901569\n",
      "  (0, 3247)\t0.15079776644901569\n",
      "  (0, 2105)\t0.15079776644901569\n",
      "  (0, 2859)\t0.15079776644901569\n",
      "  (0, 1637)\t0.10048481604343208\n",
      "  (0, 4575)\t0.13216637465471276\n",
      "  (0, 1269)\t0.13989910091310462\n",
      "  (0, 3053)\t0.11712422878479867\n",
      "  (0, 2759)\t0.11712422878479867\n",
      "  (0, 3836)\t0.12616840618927283\n",
      "  :\t:\n",
      "  (139, 5241)\t0.1936774417241746\n",
      "  (139, 5406)\t0.07321462554879592\n",
      "  (139, 4169)\t0.0558305198825688\n",
      "  (139, 2383)\t0.05874071261558404\n",
      "  (139, 4377)\t0.054499132715826244\n",
      "  (139, 3762)\t0.15702270039563648\n",
      "  (139, 3431)\t0.07851135019781824\n",
      "  (139, 961)\t0.10542465401778964\n",
      "  (139, 5490)\t0.0436140090410647\n",
      "  (139, 2964)\t0.11813217101582367\n",
      "  (139, 2955)\t0.048774705533289116\n",
      "  (139, 1369)\t0.06390878194476793\n",
      "  (139, 2472)\t0.040308366460874115\n",
      "  (139, 5117)\t0.12981904984935394\n",
      "  (139, 988)\t0.0887367789704906\n",
      "  (139, 3710)\t0.05064792798933829\n",
      "  (139, 2837)\t0.07750336058298671\n",
      "  (139, 771)\t0.08701220385316476\n",
      "  (139, 2847)\t0.07138781298262793\n",
      "  (139, 2967)\t0.03578363988285655\n",
      "  (139, 2419)\t0.10618350751652998\n",
      "  (139, 5060)\t0.09685594818554197\n",
      "  (139, 5058)\t0.08305181522739401\n",
      "  (139, 3739)\t0.06073900543751682\n",
      "  (139, 4469)\t0.03761830063835052\n",
      "  (0, 4369)\t0.06637266321709685\n",
      "  (0, 3950)\t0.053375199155700964\n",
      "  (0, 1624)\t0.06157568595301135\n",
      "  (0, 1100)\t0.05817217641978647\n",
      "  (0, 4242)\t0.06157568595301135\n",
      "  (0, 1955)\t0.06637266321709685\n",
      "  (0, 5441)\t0.06157568595301135\n",
      "  (0, 1608)\t0.06637266321709685\n",
      "  (0, 3011)\t0.06637266321709685\n",
      "  (0, 4598)\t0.06637266321709685\n",
      "  (0, 4263)\t0.06157568595301135\n",
      "  (0, 4670)\t0.053375199155700964\n",
      "  (0, 1745)\t0.1231513719060227\n",
      "  (0, 1825)\t0.038003639902263596\n",
      "  (0, 2373)\t0.06637266321709685\n",
      "  (0, 1902)\t0.06637266321709685\n",
      "  (0, 850)\t0.06157568595301135\n",
      "  (0, 5131)\t0.05817217641978647\n",
      "  (0, 1643)\t0.1327453264341937\n",
      "  (0, 1438)\t0.06637266321709685\n",
      "  (0, 2556)\t0.06637266321709685\n",
      "  (0, 3012)\t0.06637266321709685\n",
      "  (0, 3442)\t0.06637266321709685\n",
      "  (0, 3534)\t0.06637266321709685\n",
      "  (0, 3010)\t0.05817217641978647\n",
      "  :\t:\n",
      "  (59, 961)\t0.11239446407066091\n",
      "  (59, 5490)\t0.0371979265595029\n",
      "  (59, 1187)\t0.08523502558187042\n",
      "  (59, 2662)\t0.08619947788338109\n",
      "  (59, 5293)\t0.02094536430368956\n",
      "  (59, 2964)\t0.01679227966112076\n",
      "  (59, 1039)\t0.01718928950023121\n",
      "  (59, 2955)\t0.020799714980115677\n",
      "  (59, 1369)\t0.054507123503607376\n",
      "  (59, 2472)\t0.01718928950023121\n",
      "  (59, 5117)\t0.09964916387293311\n",
      "  (59, 1496)\t0.02872315987320537\n",
      "  (59, 3710)\t0.1079927039018886\n",
      "  (59, 2837)\t0.08813572759358615\n",
      "  (59, 771)\t0.08658041868932996\n",
      "  (59, 2847)\t0.03044295494678166\n",
      "  (59, 5337)\t0.04049709968040429\n",
      "  (59, 2088)\t0.04049709968040429\n",
      "  (59, 2967)\t0.01525974380320006\n",
      "  (59, 2419)\t0.060375192914297666\n",
      "  (59, 5060)\t0.21684445852408268\n",
      "  (59, 1022)\t0.09223390067146224\n",
      "  (59, 5058)\t0.0885425173982868\n",
      "  (59, 3739)\t0.06475456834966421\n",
      "  (59, 4469)\t0.06416850068156466\n",
      "['BAD', 'GOOD', 'NEUTRAL', 'BAD', 'GOOD', 'BAD', 'NEUTRAL', 'GOOD', 'GOOD', 'BAD', 'GOOD', 'BAD', 'BAD', 'NEUTRAL', 'NEUTRAL', 'BAD', 'GOOD', 'GOOD', 'GOOD', 'BAD', 'GOOD', 'NEUTRAL', 'NEUTRAL', 'GOOD', 'NEUTRAL', 'BAD', 'BAD', 'BAD', 'GOOD', 'GOOD', 'GOOD', 'BAD', 'GOOD', 'GOOD', 'BAD', 'BAD', 'BAD', 'GOOD', 'NEUTRAL', 'GOOD', 'NEUTRAL', 'BAD', 'GOOD', 'BAD', 'BAD', 'BAD', 'GOOD', 'NEUTRAL', 'BAD', 'BAD', 'BAD', 'GOOD', 'BAD', 'GOOD', 'BAD', 'NEUTRAL', 'NEUTRAL', 'GOOD', 'BAD', 'BAD', 'BAD', 'NEUTRAL', 'BAD', 'GOOD', 'GOOD', 'BAD', 'GOOD', 'BAD', 'GOOD', 'BAD', 'GOOD', 'BAD', 'BAD', 'BAD', 'GOOD', 'GOOD', 'BAD', 'BAD', 'BAD', 'GOOD', 'GOOD', 'GOOD', 'GOOD', 'NEUTRAL', 'NEUTRAL', 'NEUTRAL', 'GOOD', 'GOOD', 'NEUTRAL', 'GOOD', 'GOOD', 'GOOD', 'GOOD', 'BAD', 'BAD', 'GOOD', 'NEUTRAL', 'BAD', 'BAD', 'GOOD', 'BAD', 'GOOD', 'BAD', 'GOOD', 'NEUTRAL', 'BAD', 'GOOD', 'BAD', 'GOOD', 'BAD', 'GOOD', 'GOOD', 'GOOD', 'NEUTRAL', 'BAD', 'BAD', 'GOOD', 'NEUTRAL', 'GOOD', 'GOOD', 'GOOD', 'NEUTRAL', 'GOOD', 'GOOD', 'GOOD', 'BAD', 'GOOD', 'NEUTRAL', 'BAD', 'GOOD', 'BAD', 'BAD', 'GOOD', 'NEUTRAL', 'GOOD', 'NEUTRAL', 'BAD', 'GOOD', 'BAD', 'BAD']\n",
      "['BAD', 'BAD', 'GOOD', 'BAD', 'BAD', 'GOOD', 'BAD', 'NEUTRAL', 'GOOD', 'BAD', 'NEUTRAL', 'BAD', 'NEUTRAL', 'GOOD', 'NEUTRAL', 'NEUTRAL', 'BAD', 'BAD', 'BAD', 'BAD', 'GOOD', 'BAD', 'BAD', 'GOOD', 'BAD', 'BAD', 'GOOD', 'BAD', 'BAD', 'BAD', 'NEUTRAL', 'GOOD', 'BAD', 'GOOD', 'GOOD', 'BAD', 'GOOD', 'BAD', 'GOOD', 'BAD', 'GOOD', 'GOOD', 'NEUTRAL', 'GOOD', 'GOOD', 'GOOD', 'GOOD', 'NEUTRAL', 'NEUTRAL', 'BAD', 'BAD', 'BAD', 'GOOD', 'GOOD', 'BAD', 'GOOD', 'GOOD', 'BAD', 'GOOD', 'NEUTRAL']\n"
     ]
    }
   ],
   "source": [
    "# split dataset\n",
    "\n",
    "X_train , X_test , y_train , y_test = train_test_split(X, y, test_size=0.3,random_state=4)\n",
    "\n",
    "print(X_train)\n",
    "print(X_test)\n",
    "print(y_train)\n",
    "print(y_test)"
   ]
  },
  {
   "cell_type": "code",
   "execution_count": 54,
   "id": "7e559119",
   "metadata": {},
   "outputs": [
    {
     "name": "stdout",
     "output_type": "stream",
     "text": [
      "Accuracy of K-NN classifier on training set: 0.71\n",
      "Accuracy of K-NN classifier on test set: 0.58\n",
      "F1-Score: 0.552\n",
      "Precision: 0.547\n",
      "Recall: 0.583\n"
     ]
    },
    {
     "data": {
      "text/plain": [
       "<sklearn.metrics._plot.confusion_matrix.ConfusionMatrixDisplay at 0x1ac86ec1760>"
      ]
     },
     "execution_count": 54,
     "metadata": {},
     "output_type": "execute_result"
    },
    {
     "data": {
      "image/png": "[encoded data removed]",
      "text/plain": [
       "<Figure size 432x288 with 2 Axes>"
      ]
     },
     "metadata": {
      "needs_background": "light"
     },
     "output_type": "display_data"
    }
   ],
   "source": [
    "knn = KNeighborsClassifier().fit(X_train, y_train)\n",
    "y_pred = knn.predict(X_test)\n",
    "print('Accuracy of K-NN classifier on training set: {:.2f}'\n",
    "     .format(knn.score(X_train, y_train)))\n",
    "print('Accuracy of K-NN classifier on test set: {:.2f}'\n",
    "     .format(knn.score(X_test, y_test)))\n",
    "print('F1-Score: %.3f'%f1_score(y_test, y_pred, average=\"weighted\"))\n",
    "print('Precision: %.3f'%precision_score(y_test, y_pred, average=\"weighted\"))\n",
    "print('Recall: %.3f'%recall_score(y_test, y_pred, average=\"weighted\"))\n",
    "conf_mat = confusion_matrix(y_test, y_pred)\n",
    "cmd = ConfusionMatrixDisplay(conf_mat, display_labels=['BAD', 'GOOB', 'NEUTRAL'])\n",
    "cmd.plot()"
   ]
  },
  {
   "cell_type": "code",
   "execution_count": 55,
   "id": "e63c102c",
   "metadata": {},
   "outputs": [],
   "source": [
    "from sklearn.model_selection import GridSearchCV"
   ]
  },
  {
   "cell_type": "code",
   "execution_count": 56,
   "id": "77bf9544",
   "metadata": {},
   "outputs": [],
   "source": [
    "param_dist={\n",
    "    'n_neighbors': range(1,30),\n",
    "    'weights': ['uniform','distance'],\n",
    "    'metric':['manhattan','minkowski'],\n",
    "    'leaf_size':range(20,40,1),\n",
    "    'p':[1,2]\n",
    "}"
   ]
  },
  {
   "cell_type": "code",
   "execution_count": 57,
   "id": "67d969f7",
   "metadata": {},
   "outputs": [],
   "source": [
    "grid=GridSearchCV(knn,param_grid=param_dist,cv=5,n_jobs=-1,scoring = 'accuracy')"
   ]
  },
  {
   "cell_type": "code",
   "execution_count": 58,
   "id": "d2606d61",
   "metadata": {},
   "outputs": [
    {
     "data": {
      "text/plain": [
       "GridSearchCV(cv=5, estimator=KNeighborsClassifier(), n_jobs=-1,\n",
       "             param_grid={'leaf_size': range(20, 40),\n",
       "                         'metric': ['manhattan', 'minkowski'],\n",
       "                         'n_neighbors': range(1, 30), 'p': [1, 2],\n",
       "                         'weights': ['uniform', 'distance']},\n",
       "             scoring='accuracy')"
      ]
     },
     "execution_count": 58,
     "metadata": {},
     "output_type": "execute_result"
    }
   ],
   "source": [
    "grid.fit(X_train,y_train)"
   ]
  },
  {
   "cell_type": "code",
   "execution_count": 59,
   "id": "f95cc16c",
   "metadata": {},
   "outputs": [
    {
     "data": {
      "text/plain": [
       "KNeighborsClassifier(leaf_size=20, n_neighbors=3)"
      ]
     },
     "execution_count": 59,
     "metadata": {},
     "output_type": "execute_result"
    }
   ],
   "source": [
    "grid.best_estimator_"
   ]
  },
  {
   "cell_type": "code",
   "execution_count": 60,
   "id": "7d29a64d",
   "metadata": {},
   "outputs": [
    {
     "data": {
      "text/plain": [
       "0.6214285714285714"
      ]
     },
     "execution_count": 60,
     "metadata": {},
     "output_type": "execute_result"
    }
   ],
   "source": [
    "grid.best_score_"
   ]
  },
  {
   "cell_type": "code",
   "execution_count": 61,
   "id": "f1228b2b",
   "metadata": {},
   "outputs": [
    {
     "data": {
      "text/plain": [
       "{'leaf_size': 20,\n",
       " 'metric': 'minkowski',\n",
       " 'n_neighbors': 3,\n",
       " 'p': 2,\n",
       " 'weights': 'uniform'}"
      ]
     },
     "execution_count": 61,
     "metadata": {},
     "output_type": "execute_result"
    }
   ],
   "source": [
    "grid.best_params_"
   ]
  },
  {
   "cell_type": "code",
   "execution_count": 63,
   "id": "5d20abcb",
   "metadata": {},
   "outputs": [],
   "source": [
    "knn = KNeighborsClassifier(leaf_size=20, n_neighbors=3)"
   ]
  },
  {
   "cell_type": "code",
   "execution_count": 64,
   "id": "8efcd5eb",
   "metadata": {},
   "outputs": [
    {
     "name": "stderr",
     "output_type": "stream",
     "text": [
      "C:\\Users\\George\\anaconda3\\lib\\site-packages\\sklearn\\metrics\\_classification.py:1248: UndefinedMetricWarning: Precision is ill-defined and being set to 0.0 in labels with no predicted samples. Use `zero_division` parameter to control this behavior.\n",
      "  _warn_prf(average, modifier, msg_start, len(result))\n"
     ]
    },
    {
     "data": {
      "text/plain": [
       "{'fit_time': array([0.00098395, 0.00099707, 0.        , 0.        , 0.00102091]),\n",
       " 'score_time': array([0.00398898, 0.00299239, 0.00398946, 0.00598407, 0.00299573]),\n",
       " 'test_accuracy': array([0.5  , 0.575, 0.575, 0.675, 0.425]),\n",
       " 'test_f1_macro': array([0.37934905, 0.51552106, 0.45299145, 0.49250646, 0.29507246]),\n",
       " 'test_precision_macro': array([0.40952381, 0.56545455, 0.51282051, 0.46703297, 0.29757344]),\n",
       " 'test_recall_macro': array([0.40686275, 0.52415966, 0.46813725, 0.54289216, 0.33823529])}"
      ]
     },
     "execution_count": 64,
     "metadata": {},
     "output_type": "execute_result"
    }
   ],
   "source": [
    "scoring = ['accuracy','f1_macro','precision_macro', 'recall_macro']\n",
    "from sklearn.model_selection import cross_val_score\n",
    "from sklearn.model_selection import cross_validate\n",
    "from sklearn.metrics import recall_score\n",
    "scores = cross_validate(knn, X, y, cv=5,scoring=scoring)\n",
    "scores"
   ]
  },
  {
   "cell_type": "code",
   "execution_count": null,
   "id": "cf2c72e4",
   "metadata": {},
   "outputs": [],
   "source": []
  }
 ],
 "metadata": {
  "kernelspec": {
   "display_name": "Python 3 (ipykernel)",
   "language": "python",
   "name": "python3"
  },
  "language_info": {
   "codemirror_mode": {
    "name": "ipython",
    "version": 3
   },
   "file_extension": ".py",
   "mimetype": "text/x-python",
   "name": "python",
   "nbconvert_exporter": "python",
   "pygments_lexer": "ipython3",
   "version": "3.9.7"
  }
 },
 "nbformat": 4,
 "nbformat_minor": 5
}
