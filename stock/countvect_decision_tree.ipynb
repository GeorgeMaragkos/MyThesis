{
 "cells": [
  {
   "cell_type": "code",
   "execution_count": 1,
   "id": "3ded97b6",
   "metadata": {},
   "outputs": [
    {
     "name": "stderr",
     "output_type": "stream",
     "text": [
      "[nltk_data] Downloading package wordnet to\n",
      "[nltk_data]     C:\\Users\\George\\AppData\\Roaming\\nltk_data...\n",
      "[nltk_data]   Package wordnet is already up-to-date!\n",
      "[nltk_data] Downloading package stopwords to\n",
      "[nltk_data]     C:\\Users\\George\\AppData\\Roaming\\nltk_data...\n",
      "[nltk_data]   Package stopwords is already up-to-date!\n"
     ]
    }
   ],
   "source": [
    "# all imports will be in this cell \n",
    "\n",
    "import pandas as pd\n",
    "import string\n",
    "import re\n",
    "import nltk\n",
    "from nltk.stem.porter import PorterStemmer\n",
    "from nltk.stem import WordNetLemmatizer\n",
    "\n",
    "nltk.download('wordnet')\n",
    "nltk.download('stopwords')\n",
    "stopwords = nltk.corpus.stopwords.words('english')\n",
    "porter_stemmer=PorterStemmer()\n",
    "wordnet_lemmatizer = WordNetLemmatizer()"
   ]
  },
  {
   "cell_type": "code",
   "execution_count": 2,
   "id": "ea414ded",
   "metadata": {},
   "outputs": [
    {
     "data": {
      "text/html": [
       "<div>\n",
       "<style scoped>\n",
       "    .dataframe tbody tr th:only-of-type {\n",
       "        vertical-align: middle;\n",
       "    }\n",
       "\n",
       "    .dataframe tbody tr th {\n",
       "        vertical-align: top;\n",
       "    }\n",
       "\n",
       "    .dataframe thead th {\n",
       "        text-align: right;\n",
       "    }\n",
       "</style>\n",
       "<table border=\"1\" class=\"dataframe\">\n",
       "  <thead>\n",
       "    <tr style=\"text-align: right;\">\n",
       "      <th></th>\n",
       "      <th>No</th>\n",
       "      <th>Classes</th>\n",
       "      <th>Text</th>\n",
       "    </tr>\n",
       "  </thead>\n",
       "  <tbody>\n",
       "    <tr>\n",
       "      <th>0</th>\n",
       "      <td>1</td>\n",
       "      <td>GOOD</td>\n",
       "      <td>PARIS (Reuters) -French carmaker Renault (EPA:...</td>\n",
       "    </tr>\n",
       "    <tr>\n",
       "      <th>1</th>\n",
       "      <td>2</td>\n",
       "      <td>BAD</td>\n",
       "      <td>(Reuters) - Russia may face an \"orchestrated\" ...</td>\n",
       "    </tr>\n",
       "    <tr>\n",
       "      <th>2</th>\n",
       "      <td>3</td>\n",
       "      <td>BAD</td>\n",
       "      <td>European stock markets traded sharply lower Fr...</td>\n",
       "    </tr>\n",
       "    <tr>\n",
       "      <th>3</th>\n",
       "      <td>4</td>\n",
       "      <td>BAD</td>\n",
       "      <td>Swedish truck maker AB Volvo reported a surpri...</td>\n",
       "    </tr>\n",
       "    <tr>\n",
       "      <th>4</th>\n",
       "      <td>5</td>\n",
       "      <td>BAD</td>\n",
       "      <td>AB InBev (EBR:ABI) stock fell in early trading...</td>\n",
       "    </tr>\n",
       "    <tr>\n",
       "      <th>...</th>\n",
       "      <td>...</td>\n",
       "      <td>...</td>\n",
       "      <td>...</td>\n",
       "    </tr>\n",
       "    <tr>\n",
       "      <th>195</th>\n",
       "      <td>196</td>\n",
       "      <td>GOOD</td>\n",
       "      <td>Shares in defense group Thales (PA:TCFP) rose ...</td>\n",
       "    </tr>\n",
       "    <tr>\n",
       "      <th>196</th>\n",
       "      <td>197</td>\n",
       "      <td>NEUTRAL</td>\n",
       "      <td>The head of Japan's Hitachi Ltd (T:6501) said ...</td>\n",
       "    </tr>\n",
       "    <tr>\n",
       "      <th>197</th>\n",
       "      <td>198</td>\n",
       "      <td>GOOD</td>\n",
       "      <td>US stocks rallied on Friday amid renewed optim...</td>\n",
       "    </tr>\n",
       "    <tr>\n",
       "      <th>198</th>\n",
       "      <td>199</td>\n",
       "      <td>BAD</td>\n",
       "      <td>European shares inched lower on Friday, weighe...</td>\n",
       "    </tr>\n",
       "    <tr>\n",
       "      <th>199</th>\n",
       "      <td>200</td>\n",
       "      <td>BAD</td>\n",
       "      <td>Major U.S. stock indexes fell on Thursday, wit...</td>\n",
       "    </tr>\n",
       "  </tbody>\n",
       "</table>\n",
       "<p>200 rows × 3 columns</p>\n",
       "</div>"
      ],
      "text/plain": [
       "      No  Classes                                               Text\n",
       "0      1     GOOD  PARIS (Reuters) -French carmaker Renault (EPA:...\n",
       "1      2      BAD  (Reuters) - Russia may face an \"orchestrated\" ...\n",
       "2      3      BAD  European stock markets traded sharply lower Fr...\n",
       "3      4      BAD  Swedish truck maker AB Volvo reported a surpri...\n",
       "4      5      BAD  AB InBev (EBR:ABI) stock fell in early trading...\n",
       "..   ...      ...                                                ...\n",
       "195  196     GOOD  Shares in defense group Thales (PA:TCFP) rose ...\n",
       "196  197  NEUTRAL  The head of Japan's Hitachi Ltd (T:6501) said ...\n",
       "197  198     GOOD  US stocks rallied on Friday amid renewed optim...\n",
       "198  199      BAD  European shares inched lower on Friday, weighe...\n",
       "199  200      BAD  Major U.S. stock indexes fell on Thursday, wit...\n",
       "\n",
       "[200 rows x 3 columns]"
      ]
     },
     "execution_count": 2,
     "metadata": {},
     "output_type": "execute_result"
    }
   ],
   "source": [
    "data=pd.read_csv(\"dataset_investing_stock_market.csv\", encoding=\"ISO-8859-1\", sep=';', header=0)\n",
    "data"
   ]
  },
  {
   "cell_type": "code",
   "execution_count": 3,
   "id": "34814210",
   "metadata": {},
   "outputs": [],
   "source": [
    "# helper functions - all helper functions will be reported here\n",
    "\n",
    "def remove_punctuation(text):\n",
    "    punctuationfree=\"\".join([i for i in text if i not in string.punctuation])\n",
    "    return punctuationfree\n",
    "\n",
    "def tokenization(text):\n",
    "    tokens = re.split('W+', text)\n",
    "    return tokens\n",
    "\n",
    "def remove_stopwords(text):\n",
    "    output= [i for i in text if not i in stopwords]\n",
    "    return output\n",
    "\n",
    "def stemming(text):\n",
    "    stem_text=[porter_stemmer.stem(word) for word in text]\n",
    "    return stem_text\n",
    "\n",
    "def lemmatizer(text):\n",
    "    lemm_text = [wordnet_lemmatizer.lemmatize(word) for word in text]\n",
    "    return lemm_text\n"
   ]
  },
  {
   "cell_type": "code",
   "execution_count": 4,
   "id": "1d655051",
   "metadata": {},
   "outputs": [
    {
     "data": {
      "text/html": [
       "<div>\n",
       "<style scoped>\n",
       "    .dataframe tbody tr th:only-of-type {\n",
       "        vertical-align: middle;\n",
       "    }\n",
       "\n",
       "    .dataframe tbody tr th {\n",
       "        vertical-align: top;\n",
       "    }\n",
       "\n",
       "    .dataframe thead th {\n",
       "        text-align: right;\n",
       "    }\n",
       "</style>\n",
       "<table border=\"1\" class=\"dataframe\">\n",
       "  <thead>\n",
       "    <tr style=\"text-align: right;\">\n",
       "      <th></th>\n",
       "      <th>No</th>\n",
       "      <th>Classes</th>\n",
       "      <th>Text</th>\n",
       "      <th>clean_msg</th>\n",
       "      <th>msg_lower</th>\n",
       "      <th>msg_tokenied</th>\n",
       "      <th>no_stopwords</th>\n",
       "      <th>msg_stemmed</th>\n",
       "      <th>msg_lemmatized</th>\n",
       "      <th>msg_lemmatized_string</th>\n",
       "    </tr>\n",
       "  </thead>\n",
       "  <tbody>\n",
       "    <tr>\n",
       "      <th>0</th>\n",
       "      <td>1</td>\n",
       "      <td>GOOD</td>\n",
       "      <td>PARIS (Reuters) -French carmaker Renault (EPA:...</td>\n",
       "      <td>PARIS Reuters French carmaker Renault EPARENA ...</td>\n",
       "      <td>paris reuters french carmaker renault eparena ...</td>\n",
       "      <td>[paris reuters french carmaker renault eparena...</td>\n",
       "      <td>[paris reuters french carmaker renault eparena...</td>\n",
       "      <td>[paris reuters french carmaker renault eparena...</td>\n",
       "      <td>[paris reuters french carmaker renault eparena...</td>\n",
       "      <td>paris reuters french carmaker renault eparena ...</td>\n",
       "    </tr>\n",
       "    <tr>\n",
       "      <th>1</th>\n",
       "      <td>2</td>\n",
       "      <td>BAD</td>\n",
       "      <td>(Reuters) - Russia may face an \"orchestrated\" ...</td>\n",
       "      <td>Reuters  Russia may face an orchestrated defau...</td>\n",
       "      <td>reuters  russia may face an orchestrated defau...</td>\n",
       "      <td>[reuters  russia may face an orchestrated defa...</td>\n",
       "      <td>[reuters  russia may face an orchestrated defa...</td>\n",
       "      <td>[reuters  russia may face an orchestrated defa...</td>\n",
       "      <td>[reuters  russia may face an orchestrated defa...</td>\n",
       "      <td>reuters  russia may face an orchestrated defau...</td>\n",
       "    </tr>\n",
       "    <tr>\n",
       "      <th>2</th>\n",
       "      <td>3</td>\n",
       "      <td>BAD</td>\n",
       "      <td>European stock markets traded sharply lower Fr...</td>\n",
       "      <td>European stock markets traded sharply lower Fr...</td>\n",
       "      <td>european stock markets traded sharply lower fr...</td>\n",
       "      <td>[european stock markets traded sharply lower f...</td>\n",
       "      <td>[european stock markets traded sharply lower f...</td>\n",
       "      <td>[european stock markets traded sharply lower f...</td>\n",
       "      <td>[european stock markets traded sharply lower f...</td>\n",
       "      <td>european stock markets traded sharply lower fr...</td>\n",
       "    </tr>\n",
       "    <tr>\n",
       "      <th>3</th>\n",
       "      <td>4</td>\n",
       "      <td>BAD</td>\n",
       "      <td>Swedish truck maker AB Volvo reported a surpri...</td>\n",
       "      <td>Swedish truck maker AB Volvo reported a surpri...</td>\n",
       "      <td>swedish truck maker ab volvo reported a surpri...</td>\n",
       "      <td>[swedish truck maker ab volvo reported a surpr...</td>\n",
       "      <td>[swedish truck maker ab volvo reported a surpr...</td>\n",
       "      <td>[swedish truck maker ab volvo reported a surpr...</td>\n",
       "      <td>[swedish truck maker ab volvo reported a surpr...</td>\n",
       "      <td>swedish truck maker ab volvo reported a surpri...</td>\n",
       "    </tr>\n",
       "    <tr>\n",
       "      <th>4</th>\n",
       "      <td>5</td>\n",
       "      <td>BAD</td>\n",
       "      <td>AB InBev (EBR:ABI) stock fell in early trading...</td>\n",
       "      <td>AB InBev EBRABI stock fell in early trading in...</td>\n",
       "      <td>ab inbev ebrabi stock fell in early trading in...</td>\n",
       "      <td>[ab inbev ebrabi stock fell in early trading i...</td>\n",
       "      <td>[ab inbev ebrabi stock fell in early trading i...</td>\n",
       "      <td>[ab inbev ebrabi stock fell in early trading i...</td>\n",
       "      <td>[ab inbev ebrabi stock fell in early trading i...</td>\n",
       "      <td>ab inbev ebrabi stock fell in early trading in...</td>\n",
       "    </tr>\n",
       "  </tbody>\n",
       "</table>\n",
       "</div>"
      ],
      "text/plain": [
       "   No Classes                                               Text  \\\n",
       "0   1    GOOD  PARIS (Reuters) -French carmaker Renault (EPA:...   \n",
       "1   2     BAD  (Reuters) - Russia may face an \"orchestrated\" ...   \n",
       "2   3     BAD  European stock markets traded sharply lower Fr...   \n",
       "3   4     BAD  Swedish truck maker AB Volvo reported a surpri...   \n",
       "4   5     BAD  AB InBev (EBR:ABI) stock fell in early trading...   \n",
       "\n",
       "                                           clean_msg  \\\n",
       "0  PARIS Reuters French carmaker Renault EPARENA ...   \n",
       "1  Reuters  Russia may face an orchestrated defau...   \n",
       "2  European stock markets traded sharply lower Fr...   \n",
       "3  Swedish truck maker AB Volvo reported a surpri...   \n",
       "4  AB InBev EBRABI stock fell in early trading in...   \n",
       "\n",
       "                                           msg_lower  \\\n",
       "0  paris reuters french carmaker renault eparena ...   \n",
       "1  reuters  russia may face an orchestrated defau...   \n",
       "2  european stock markets traded sharply lower fr...   \n",
       "3  swedish truck maker ab volvo reported a surpri...   \n",
       "4  ab inbev ebrabi stock fell in early trading in...   \n",
       "\n",
       "                                        msg_tokenied  \\\n",
       "0  [paris reuters french carmaker renault eparena...   \n",
       "1  [reuters  russia may face an orchestrated defa...   \n",
       "2  [european stock markets traded sharply lower f...   \n",
       "3  [swedish truck maker ab volvo reported a surpr...   \n",
       "4  [ab inbev ebrabi stock fell in early trading i...   \n",
       "\n",
       "                                        no_stopwords  \\\n",
       "0  [paris reuters french carmaker renault eparena...   \n",
       "1  [reuters  russia may face an orchestrated defa...   \n",
       "2  [european stock markets traded sharply lower f...   \n",
       "3  [swedish truck maker ab volvo reported a surpr...   \n",
       "4  [ab inbev ebrabi stock fell in early trading i...   \n",
       "\n",
       "                                         msg_stemmed  \\\n",
       "0  [paris reuters french carmaker renault eparena...   \n",
       "1  [reuters  russia may face an orchestrated defa...   \n",
       "2  [european stock markets traded sharply lower f...   \n",
       "3  [swedish truck maker ab volvo reported a surpr...   \n",
       "4  [ab inbev ebrabi stock fell in early trading i...   \n",
       "\n",
       "                                      msg_lemmatized  \\\n",
       "0  [paris reuters french carmaker renault eparena...   \n",
       "1  [reuters  russia may face an orchestrated defa...   \n",
       "2  [european stock markets traded sharply lower f...   \n",
       "3  [swedish truck maker ab volvo reported a surpr...   \n",
       "4  [ab inbev ebrabi stock fell in early trading i...   \n",
       "\n",
       "                               msg_lemmatized_string  \n",
       "0  paris reuters french carmaker renault eparena ...  \n",
       "1  reuters  russia may face an orchestrated defau...  \n",
       "2  european stock markets traded sharply lower fr...  \n",
       "3  swedish truck maker ab volvo reported a surpri...  \n",
       "4  ab inbev ebrabi stock fell in early trading in...  "
      ]
     },
     "execution_count": 4,
     "metadata": {},
     "output_type": "execute_result"
    }
   ],
   "source": [
    "# data preprocess\n",
    "\n",
    "# remove punctuation from Text column - create a new column \n",
    "data['clean_msg']=data['Text'].apply(lambda x:remove_punctuation(x))\n",
    "\n",
    "# lower all letters - create a new column \n",
    "data['msg_lower']=data['clean_msg'].apply(lambda x: x.lower())\n",
    "\n",
    "# tokenize all rows - create a new column \n",
    "data['msg_tokenied']= data['msg_lower'].apply(lambda x: tokenization(x))\n",
    "\n",
    "# remove stopwords - create a new column\n",
    "data['no_stopwords']=data['msg_tokenied'].apply(lambda x:remove_stopwords(x))\n",
    "\n",
    "# stemme texts - create a new column\n",
    "data['msg_stemmed']=data['no_stopwords'].apply(lambda x:stemming(x))\n",
    "\n",
    "# lemmatize texts - create a new column\n",
    "data['msg_lemmatized']=data['msg_stemmed'].apply(lambda x:lemmatizer(x))\n",
    "\n",
    "data['msg_lemmatized_string']=data['msg_lemmatized'].apply(lambda x: ' '.join(map(str, x)))\n",
    "\n",
    "data.head()"
   ]
  },
  {
   "cell_type": "code",
   "execution_count": 5,
   "id": "bf19e04a",
   "metadata": {},
   "outputs": [],
   "source": [
    "#  Data analysis \n",
    "\n",
    "from sklearn.feature_extraction.text import TfidfVectorizer\n",
    "from sklearn.model_selection import train_test_split\n",
    "\n",
    "from sklearn.tree import DecisionTreeClassifier\n",
    "\n",
    "from sklearn.metrics import accuracy_score, recall_score, precision_score, f1_score\n",
    "from sklearn.metrics import confusion_matrix, ConfusionMatrixDisplay\n",
    "\n",
    "from sklearn.feature_extraction.text import CountVectorizer\n",
    "from sklearn import tree"
   ]
  },
  {
   "cell_type": "code",
   "execution_count": 6,
   "id": "147c36fc",
   "metadata": {},
   "outputs": [
    {
     "name": "stdout",
     "output_type": "stream",
     "text": [
      "[[0 0 0 ... 0 0 0]\n",
      " [0 0 0 ... 0 0 0]\n",
      " [0 0 0 ... 0 0 0]\n",
      " ...\n",
      " [0 0 0 ... 0 0 0]\n",
      " [0 0 0 ... 1 0 0]\n",
      " [0 0 0 ... 0 0 0]]\n"
     ]
    }
   ],
   "source": [
    "v = CountVectorizer()\n",
    "X = v.fit_transform(data['msg_lemmatized_string'])\n",
    "y = data['Classes'].to_list()\n",
    "print(X.toarray())"
   ]
  },
  {
   "cell_type": "code",
   "execution_count": 7,
   "id": "6105c00d",
   "metadata": {},
   "outputs": [
    {
     "name": "stdout",
     "output_type": "stream",
     "text": [
      "  (0, 2454)\t1\n",
      "  (0, 3724)\t1\n",
      "  (0, 5042)\t4\n",
      "  (0, 2823)\t1\n",
      "  (0, 3695)\t1\n",
      "  (0, 5436)\t1\n",
      "  (0, 2941)\t1\n",
      "  (0, 1029)\t1\n",
      "  (0, 5471)\t1\n",
      "  (0, 951)\t3\n",
      "  (0, 2371)\t1\n",
      "  (0, 860)\t1\n",
      "  (0, 2332)\t2\n",
      "  (0, 1366)\t1\n",
      "  (0, 5396)\t2\n",
      "  (0, 1990)\t3\n",
      "  (0, 3432)\t1\n",
      "  (0, 778)\t1\n",
      "  (0, 3414)\t1\n",
      "  (0, 5085)\t1\n",
      "  (0, 929)\t1\n",
      "  (0, 2182)\t1\n",
      "  (0, 2556)\t1\n",
      "  (0, 3094)\t1\n",
      "  (0, 1034)\t1\n",
      "  :\t:\n",
      "  (139, 4602)\t1\n",
      "  (139, 4301)\t1\n",
      "  (139, 3882)\t1\n",
      "  (139, 1103)\t1\n",
      "  (139, 3445)\t1\n",
      "  (139, 3427)\t1\n",
      "  (139, 4543)\t1\n",
      "  (139, 1677)\t1\n",
      "  (139, 3189)\t1\n",
      "  (139, 5378)\t1\n",
      "  (139, 4214)\t1\n",
      "  (139, 3156)\t1\n",
      "  (139, 3299)\t3\n",
      "  (139, 3957)\t1\n",
      "  (139, 1219)\t1\n",
      "  (139, 4644)\t1\n",
      "  (139, 3165)\t1\n",
      "  (139, 4331)\t1\n",
      "  (139, 5403)\t1\n",
      "  (139, 4798)\t1\n",
      "  (139, 3645)\t1\n",
      "  (139, 2292)\t1\n",
      "  (139, 755)\t1\n",
      "  (139, 3103)\t1\n",
      "  (139, 4419)\t1\n",
      "  (0, 4452)\t2\n",
      "  (0, 3724)\t1\n",
      "  (0, 2458)\t1\n",
      "  (0, 5040)\t3\n",
      "  (0, 5042)\t18\n",
      "  (0, 2407)\t3\n",
      "  (0, 2953)\t1\n",
      "  (0, 2823)\t6\n",
      "  (0, 3695)\t6\n",
      "  (0, 5099)\t5\n",
      "  (0, 2460)\t1\n",
      "  (0, 1029)\t2\n",
      "  (0, 2950)\t1\n",
      "  (0, 5471)\t1\n",
      "  (0, 951)\t2\n",
      "  (0, 4903)\t1\n",
      "  (0, 2697)\t1\n",
      "  (0, 946)\t2\n",
      "  (0, 860)\t1\n",
      "  (0, 4339)\t1\n",
      "  (0, 2594)\t1\n",
      "  (0, 5449)\t1\n",
      "  (0, 1366)\t3\n",
      "  (0, 2619)\t1\n",
      "  (0, 5396)\t2\n",
      "  :\t:\n",
      "  (59, 4276)\t1\n",
      "  (59, 856)\t1\n",
      "  (59, 2810)\t1\n",
      "  (59, 2282)\t1\n",
      "  (59, 1650)\t1\n",
      "  (59, 4275)\t1\n",
      "  (59, 2085)\t1\n",
      "  (59, 3452)\t1\n",
      "  (59, 2720)\t1\n",
      "  (59, 801)\t1\n",
      "  (59, 2435)\t1\n",
      "  (59, 4938)\t1\n",
      "  (59, 1172)\t1\n",
      "  (59, 2534)\t1\n",
      "  (59, 2659)\t1\n",
      "  (59, 2585)\t1\n",
      "  (59, 2716)\t1\n",
      "  (59, 3159)\t1\n",
      "  (59, 2597)\t1\n",
      "  (59, 4596)\t1\n",
      "  (59, 4155)\t1\n",
      "  (59, 1160)\t1\n",
      "  (59, 2948)\t1\n",
      "  (59, 4946)\t1\n",
      "  (59, 4079)\t1\n",
      "['BAD', 'GOOD', 'NEUTRAL', 'BAD', 'GOOD', 'BAD', 'NEUTRAL', 'GOOD', 'GOOD', 'BAD', 'GOOD', 'BAD', 'BAD', 'NEUTRAL', 'NEUTRAL', 'BAD', 'GOOD', 'GOOD', 'GOOD', 'BAD', 'GOOD', 'NEUTRAL', 'NEUTRAL', 'GOOD', 'NEUTRAL', 'BAD', 'BAD', 'BAD', 'GOOD', 'GOOD', 'GOOD', 'BAD', 'GOOD', 'GOOD', 'BAD', 'BAD', 'BAD', 'GOOD', 'NEUTRAL', 'GOOD', 'NEUTRAL', 'BAD', 'GOOD', 'BAD', 'BAD', 'BAD', 'GOOD', 'NEUTRAL', 'BAD', 'BAD', 'BAD', 'GOOD', 'BAD', 'GOOD', 'BAD', 'NEUTRAL', 'NEUTRAL', 'GOOD', 'BAD', 'BAD', 'BAD', 'NEUTRAL', 'BAD', 'GOOD', 'GOOD', 'BAD', 'GOOD', 'BAD', 'GOOD', 'BAD', 'GOOD', 'BAD', 'BAD', 'BAD', 'GOOD', 'GOOD', 'BAD', 'BAD', 'BAD', 'GOOD', 'GOOD', 'GOOD', 'GOOD', 'NEUTRAL', 'NEUTRAL', 'NEUTRAL', 'GOOD', 'GOOD', 'NEUTRAL', 'GOOD', 'GOOD', 'GOOD', 'GOOD', 'BAD', 'BAD', 'GOOD', 'NEUTRAL', 'BAD', 'BAD', 'GOOD', 'BAD', 'GOOD', 'BAD', 'GOOD', 'NEUTRAL', 'BAD', 'GOOD', 'BAD', 'GOOD', 'BAD', 'GOOD', 'GOOD', 'GOOD', 'NEUTRAL', 'BAD', 'BAD', 'GOOD', 'NEUTRAL', 'GOOD', 'GOOD', 'GOOD', 'NEUTRAL', 'GOOD', 'GOOD', 'GOOD', 'BAD', 'GOOD', 'NEUTRAL', 'BAD', 'GOOD', 'BAD', 'BAD', 'GOOD', 'NEUTRAL', 'GOOD', 'NEUTRAL', 'BAD', 'GOOD', 'BAD', 'BAD']\n",
      "['BAD', 'BAD', 'GOOD', 'BAD', 'BAD', 'GOOD', 'BAD', 'NEUTRAL', 'GOOD', 'BAD', 'NEUTRAL', 'BAD', 'NEUTRAL', 'GOOD', 'NEUTRAL', 'NEUTRAL', 'BAD', 'BAD', 'BAD', 'BAD', 'GOOD', 'BAD', 'BAD', 'GOOD', 'BAD', 'BAD', 'GOOD', 'BAD', 'BAD', 'BAD', 'NEUTRAL', 'GOOD', 'BAD', 'GOOD', 'GOOD', 'BAD', 'GOOD', 'BAD', 'GOOD', 'BAD', 'GOOD', 'GOOD', 'NEUTRAL', 'GOOD', 'GOOD', 'GOOD', 'GOOD', 'NEUTRAL', 'NEUTRAL', 'BAD', 'BAD', 'BAD', 'GOOD', 'GOOD', 'BAD', 'GOOD', 'GOOD', 'BAD', 'GOOD', 'NEUTRAL']\n"
     ]
    }
   ],
   "source": [
    "# split dataset\n",
    "\n",
    "X_train , X_test , y_train , y_test = train_test_split(X, y, test_size=0.3,random_state=4)\n",
    "\n",
    "print(X_train)\n",
    "print(X_test)\n",
    "print(y_train)\n",
    "print(y_test)"
   ]
  },
  {
   "cell_type": "code",
   "execution_count": 8,
   "id": "1aaaa359",
   "metadata": {},
   "outputs": [
    {
     "name": "stdout",
     "output_type": "stream",
     "text": [
      "Accuracy of training set:                   : 1.000\n",
      "Accuracy                                    : 0.517\n",
      "F1-Score                                    : 0.506\n",
      "Precision                                   : 0.500\n",
      "Recall                                      : 0.517\n"
     ]
    },
    {
     "data": {
      "text/plain": [
       "<sklearn.metrics._plot.confusion_matrix.ConfusionMatrixDisplay at 0x1f818e9f340>"
      ]
     },
     "execution_count": 8,
     "metadata": {},
     "output_type": "execute_result"
    },
    {
     "data": {
      "image/png": "[encoded data removed]",
      "text/plain": [
       "<Figure size 432x288 with 2 Axes>"
      ]
     },
     "metadata": {
      "needs_background": "light"
     },
     "output_type": "display_data"
    }
   ],
   "source": [
    "# Decision Tree classifier\n",
    "\n",
    "clf = tree.DecisionTreeClassifier().fit(X_train, y_train)\n",
    "y_pred = clf.predict(X_test)\n",
    "\n",
    "# Scores\n",
    "print('Accuracy of training set:                   : {:.3f}'.format(clf.score(X_train, y_train)))\n",
    "print('Accuracy                                    : %.3f'%accuracy_score(y_test, y_pred))\n",
    "print('F1-Score                                    : %.3f'%f1_score(y_test, y_pred, average=\"weighted\"))\n",
    "print('Precision                                   : %.3f'%precision_score(y_test, y_pred, average=\"weighted\"))\n",
    "print('Recall                                      : %.3f'%recall_score(y_test, y_pred, average=\"weighted\"))\n",
    "\n",
    "# Confusion Matrix\n",
    "conf_mat = confusion_matrix(y_test, y_pred)\n",
    "cmd = ConfusionMatrixDisplay(conf_mat, display_labels=['BAD', 'GOOB', 'NEUTRAL'])\n",
    "cmd.plot()"
   ]
  },
  {
   "cell_type": "code",
   "execution_count": 9,
   "id": "537d8327",
   "metadata": {},
   "outputs": [],
   "source": [
    "param_dist={\n",
    "     'criterion': ['gini','entropy'], \n",
    "     'splitter': ['best', 'random'], \n",
    "     'max_depth': [2,4,6,8,10,None], \n",
    "     'min_samples_split': [2,5,7,10,12], \n",
    "     'min_samples_leaf': [1,3,5,7, 10]\n",
    "}"
   ]
  },
  {
   "cell_type": "code",
   "execution_count": 10,
   "id": "3d568f36",
   "metadata": {},
   "outputs": [],
   "source": [
    "from sklearn.model_selection import GridSearchCV"
   ]
  },
  {
   "cell_type": "code",
   "execution_count": 11,
   "id": "dccc8242",
   "metadata": {},
   "outputs": [],
   "source": [
    "grid=GridSearchCV(clf,param_grid=param_dist,cv=10,n_jobs=-1)"
   ]
  },
  {
   "cell_type": "code",
   "execution_count": 12,
   "id": "1fb66eb7",
   "metadata": {},
   "outputs": [
    {
     "data": {
      "text/plain": [
       "GridSearchCV(cv=10, estimator=DecisionTreeClassifier(), n_jobs=-1,\n",
       "             param_grid={'criterion': ['gini', 'entropy'],\n",
       "                         'max_depth': [2, 4, 6, 8, 10, None],\n",
       "                         'min_samples_leaf': [1, 3, 5, 7, 10],\n",
       "                         'min_samples_split': [2, 5, 7, 10, 12],\n",
       "                         'splitter': ['best', 'random']})"
      ]
     },
     "execution_count": 12,
     "metadata": {},
     "output_type": "execute_result"
    }
   ],
   "source": [
    "grid.fit(X_train,y_train)"
   ]
  },
  {
   "cell_type": "code",
   "execution_count": 13,
   "id": "e2259e3f",
   "metadata": {},
   "outputs": [
    {
     "data": {
      "text/plain": [
       "DecisionTreeClassifier(criterion='entropy', min_samples_leaf=3,\n",
       "                       min_samples_split=5, splitter='random')"
      ]
     },
     "execution_count": 13,
     "metadata": {},
     "output_type": "execute_result"
    }
   ],
   "source": [
    "grid.best_estimator_"
   ]
  },
  {
   "cell_type": "code",
   "execution_count": 14,
   "id": "1ad9abcb",
   "metadata": {},
   "outputs": [
    {
     "data": {
      "text/plain": [
       "0.6571428571428571"
      ]
     },
     "execution_count": 14,
     "metadata": {},
     "output_type": "execute_result"
    }
   ],
   "source": [
    "grid.best_score_"
   ]
  },
  {
   "cell_type": "code",
   "execution_count": 16,
   "id": "ecf64b7e",
   "metadata": {},
   "outputs": [
    {
     "data": {
      "text/plain": [
       "DecisionTreeClassifier(criterion='entropy', min_samples_leaf=3,\n",
       "                       min_samples_split=5, splitter='random')"
      ]
     },
     "execution_count": 16,
     "metadata": {},
     "output_type": "execute_result"
    }
   ],
   "source": [
    "grid.best_estimator_"
   ]
  },
  {
   "cell_type": "code",
   "execution_count": 15,
   "id": "8360fd6e",
   "metadata": {},
   "outputs": [
    {
     "data": {
      "text/plain": [
       "{'criterion': 'entropy',\n",
       " 'max_depth': None,\n",
       " 'min_samples_leaf': 3,\n",
       " 'min_samples_split': 5,\n",
       " 'splitter': 'random'}"
      ]
     },
     "execution_count": 15,
     "metadata": {},
     "output_type": "execute_result"
    }
   ],
   "source": [
    "grid.best_params_"
   ]
  },
  {
   "cell_type": "code",
   "execution_count": 17,
   "id": "cebf44ea",
   "metadata": {},
   "outputs": [],
   "source": [
    "clf = tree.DecisionTreeClassifier(criterion='entropy', min_samples_leaf=3,\n",
    "                       min_samples_split=5, splitter='random')"
   ]
  },
  {
   "cell_type": "code",
   "execution_count": 18,
   "id": "de809437",
   "metadata": {},
   "outputs": [
    {
     "data": {
      "text/plain": [
       "{'fit_time': array([0.00895   , 0.00900364, 0.00798392, 0.00797796, 0.00897598]),\n",
       " 'score_time': array([0.00199485, 0.00199389, 0.00198913, 0.00199461, 0.00099969]),\n",
       " 'test_accuracy': array([0.6  , 0.675, 0.5  , 0.6  , 0.475]),\n",
       " 'test_f1_macro': array([0.56407337, 0.60412529, 0.45932632, 0.50462963, 0.35470085]),\n",
       " 'test_precision_macro': array([0.56679894, 0.63003096, 0.47619048, 0.50555556, 0.33333333]),\n",
       " 'test_recall_macro': array([0.56810224, 0.60136555, 0.46043417, 0.51453081, 0.38235294])}"
      ]
     },
     "execution_count": 18,
     "metadata": {},
     "output_type": "execute_result"
    }
   ],
   "source": [
    "scoring = ['accuracy','f1_macro','precision_macro', 'recall_macro']\n",
    "from sklearn.model_selection import cross_val_score\n",
    "from sklearn.model_selection import cross_validate\n",
    "from sklearn.metrics import recall_score\n",
    "scores = cross_validate(clf, X, y, cv=5,scoring=scoring)\n",
    "scores"
   ]
  },
  {
   "cell_type": "code",
   "execution_count": null,
   "id": "9d3e02e7",
   "metadata": {},
   "outputs": [],
   "source": []
  }
 ],
 "metadata": {
  "kernelspec": {
   "display_name": "Python 3 (ipykernel)",
   "language": "python",
   "name": "python3"
  },
  "language_info": {
   "codemirror_mode": {
    "name": "ipython",
    "version": 3
   },
   "file_extension": ".py",
   "mimetype": "text/x-python",
   "name": "python",
   "nbconvert_exporter": "python",
   "pygments_lexer": "ipython3",
   "version": "3.9.7"
  }
 },
 "nbformat": 4,
 "nbformat_minor": 5
}
