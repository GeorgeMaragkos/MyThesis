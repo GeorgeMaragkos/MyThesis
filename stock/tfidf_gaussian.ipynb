{
 "cells": [
  {
   "cell_type": "code",
   "execution_count": 1,
   "id": "274280c6",
   "metadata": {},
   "outputs": [
    {
     "name": "stderr",
     "output_type": "stream",
     "text": [
      "[nltk_data] Downloading package wordnet to\n",
      "[nltk_data]     C:\\Users\\George\\AppData\\Roaming\\nltk_data...\n",
      "[nltk_data]   Package wordnet is already up-to-date!\n",
      "[nltk_data] Downloading package stopwords to\n",
      "[nltk_data]     C:\\Users\\George\\AppData\\Roaming\\nltk_data...\n",
      "[nltk_data]   Package stopwords is already up-to-date!\n"
     ]
    }
   ],
   "source": [
    "# all imports will be in this cell \n",
    "\n",
    "import pandas as pd\n",
    "import string\n",
    "import re\n",
    "import nltk\n",
    "from nltk.stem.porter import PorterStemmer\n",
    "from nltk.stem import WordNetLemmatizer\n",
    "\n",
    "nltk.download('wordnet')\n",
    "nltk.download('stopwords')\n",
    "stopwords = nltk.corpus.stopwords.words('english')\n",
    "porter_stemmer=PorterStemmer()\n",
    "wordnet_lemmatizer = WordNetLemmatizer()"
   ]
  },
  {
   "cell_type": "code",
   "execution_count": 2,
   "id": "9d5ac88c",
   "metadata": {},
   "outputs": [
    {
     "data": {
      "text/html": [
       "<div>\n",
       "<style scoped>\n",
       "    .dataframe tbody tr th:only-of-type {\n",
       "        vertical-align: middle;\n",
       "    }\n",
       "\n",
       "    .dataframe tbody tr th {\n",
       "        vertical-align: top;\n",
       "    }\n",
       "\n",
       "    .dataframe thead th {\n",
       "        text-align: right;\n",
       "    }\n",
       "</style>\n",
       "<table border=\"1\" class=\"dataframe\">\n",
       "  <thead>\n",
       "    <tr style=\"text-align: right;\">\n",
       "      <th></th>\n",
       "      <th>No</th>\n",
       "      <th>Classes</th>\n",
       "      <th>Text</th>\n",
       "    </tr>\n",
       "  </thead>\n",
       "  <tbody>\n",
       "    <tr>\n",
       "      <th>0</th>\n",
       "      <td>1</td>\n",
       "      <td>GOOD</td>\n",
       "      <td>PARIS (Reuters) -French carmaker Renault (EPA:...</td>\n",
       "    </tr>\n",
       "    <tr>\n",
       "      <th>1</th>\n",
       "      <td>2</td>\n",
       "      <td>BAD</td>\n",
       "      <td>(Reuters) - Russia may face an \"orchestrated\" ...</td>\n",
       "    </tr>\n",
       "    <tr>\n",
       "      <th>2</th>\n",
       "      <td>3</td>\n",
       "      <td>BAD</td>\n",
       "      <td>European stock markets traded sharply lower Fr...</td>\n",
       "    </tr>\n",
       "    <tr>\n",
       "      <th>3</th>\n",
       "      <td>4</td>\n",
       "      <td>BAD</td>\n",
       "      <td>Swedish truck maker AB Volvo reported a surpri...</td>\n",
       "    </tr>\n",
       "    <tr>\n",
       "      <th>4</th>\n",
       "      <td>5</td>\n",
       "      <td>BAD</td>\n",
       "      <td>AB InBev (EBR:ABI) stock fell in early trading...</td>\n",
       "    </tr>\n",
       "    <tr>\n",
       "      <th>...</th>\n",
       "      <td>...</td>\n",
       "      <td>...</td>\n",
       "      <td>...</td>\n",
       "    </tr>\n",
       "    <tr>\n",
       "      <th>195</th>\n",
       "      <td>196</td>\n",
       "      <td>GOOD</td>\n",
       "      <td>Shares in defense group Thales (PA:TCFP) rose ...</td>\n",
       "    </tr>\n",
       "    <tr>\n",
       "      <th>196</th>\n",
       "      <td>197</td>\n",
       "      <td>NEUTRAL</td>\n",
       "      <td>The head of Japan's Hitachi Ltd (T:6501) said ...</td>\n",
       "    </tr>\n",
       "    <tr>\n",
       "      <th>197</th>\n",
       "      <td>198</td>\n",
       "      <td>GOOD</td>\n",
       "      <td>US stocks rallied on Friday amid renewed optim...</td>\n",
       "    </tr>\n",
       "    <tr>\n",
       "      <th>198</th>\n",
       "      <td>199</td>\n",
       "      <td>BAD</td>\n",
       "      <td>European shares inched lower on Friday, weighe...</td>\n",
       "    </tr>\n",
       "    <tr>\n",
       "      <th>199</th>\n",
       "      <td>200</td>\n",
       "      <td>BAD</td>\n",
       "      <td>Major U.S. stock indexes fell on Thursday, wit...</td>\n",
       "    </tr>\n",
       "  </tbody>\n",
       "</table>\n",
       "<p>200 rows × 3 columns</p>\n",
       "</div>"
      ],
      "text/plain": [
       "      No  Classes                                               Text\n",
       "0      1     GOOD  PARIS (Reuters) -French carmaker Renault (EPA:...\n",
       "1      2      BAD  (Reuters) - Russia may face an \"orchestrated\" ...\n",
       "2      3      BAD  European stock markets traded sharply lower Fr...\n",
       "3      4      BAD  Swedish truck maker AB Volvo reported a surpri...\n",
       "4      5      BAD  AB InBev (EBR:ABI) stock fell in early trading...\n",
       "..   ...      ...                                                ...\n",
       "195  196     GOOD  Shares in defense group Thales (PA:TCFP) rose ...\n",
       "196  197  NEUTRAL  The head of Japan's Hitachi Ltd (T:6501) said ...\n",
       "197  198     GOOD  US stocks rallied on Friday amid renewed optim...\n",
       "198  199      BAD  European shares inched lower on Friday, weighe...\n",
       "199  200      BAD  Major U.S. stock indexes fell on Thursday, wit...\n",
       "\n",
       "[200 rows x 3 columns]"
      ]
     },
     "execution_count": 2,
     "metadata": {},
     "output_type": "execute_result"
    }
   ],
   "source": [
    "data=pd.read_csv(\"dataset_investing_stock_market.csv\", encoding=\"ISO-8859-1\", sep=';', header=0)\n",
    "data"
   ]
  },
  {
   "cell_type": "code",
   "execution_count": 3,
   "id": "ddb504de",
   "metadata": {},
   "outputs": [],
   "source": [
    "# helper functions - all helper functions will be reported here\n",
    "\n",
    "def remove_punctuation(text):\n",
    "    punctuationfree=\"\".join([i for i in text if i not in string.punctuation])\n",
    "    return punctuationfree\n",
    "\n",
    "def tokenization(text):\n",
    "    tokens = re.split('W+', text)\n",
    "    return tokens\n",
    "\n",
    "def remove_stopwords(text):\n",
    "    output= [i for i in text if not i in stopwords]\n",
    "    return output\n",
    "\n",
    "def stemming(text):\n",
    "    stem_text=[porter_stemmer.stem(word) for word in text]\n",
    "    return stem_text\n",
    "\n",
    "def lemmatizer(text):\n",
    "    lemm_text = [wordnet_lemmatizer.lemmatize(word) for word in text]\n",
    "    return lemm_text"
   ]
  },
  {
   "cell_type": "code",
   "execution_count": 4,
   "id": "9c229688",
   "metadata": {},
   "outputs": [
    {
     "data": {
      "text/html": [
       "<div>\n",
       "<style scoped>\n",
       "    .dataframe tbody tr th:only-of-type {\n",
       "        vertical-align: middle;\n",
       "    }\n",
       "\n",
       "    .dataframe tbody tr th {\n",
       "        vertical-align: top;\n",
       "    }\n",
       "\n",
       "    .dataframe thead th {\n",
       "        text-align: right;\n",
       "    }\n",
       "</style>\n",
       "<table border=\"1\" class=\"dataframe\">\n",
       "  <thead>\n",
       "    <tr style=\"text-align: right;\">\n",
       "      <th></th>\n",
       "      <th>No</th>\n",
       "      <th>Classes</th>\n",
       "      <th>Text</th>\n",
       "      <th>clean_msg</th>\n",
       "      <th>msg_lower</th>\n",
       "      <th>msg_tokenied</th>\n",
       "      <th>no_stopwords</th>\n",
       "      <th>msg_stemmed</th>\n",
       "      <th>msg_lemmatized</th>\n",
       "      <th>msg_lemmatized_string</th>\n",
       "    </tr>\n",
       "  </thead>\n",
       "  <tbody>\n",
       "    <tr>\n",
       "      <th>0</th>\n",
       "      <td>1</td>\n",
       "      <td>GOOD</td>\n",
       "      <td>PARIS (Reuters) -French carmaker Renault (EPA:...</td>\n",
       "      <td>PARIS Reuters French carmaker Renault EPARENA ...</td>\n",
       "      <td>paris reuters french carmaker renault eparena ...</td>\n",
       "      <td>[paris reuters french carmaker renault eparena...</td>\n",
       "      <td>[paris reuters french carmaker renault eparena...</td>\n",
       "      <td>[paris reuters french carmaker renault eparena...</td>\n",
       "      <td>[paris reuters french carmaker renault eparena...</td>\n",
       "      <td>paris reuters french carmaker renault eparena ...</td>\n",
       "    </tr>\n",
       "    <tr>\n",
       "      <th>1</th>\n",
       "      <td>2</td>\n",
       "      <td>BAD</td>\n",
       "      <td>(Reuters) - Russia may face an \"orchestrated\" ...</td>\n",
       "      <td>Reuters  Russia may face an orchestrated defau...</td>\n",
       "      <td>reuters  russia may face an orchestrated defau...</td>\n",
       "      <td>[reuters  russia may face an orchestrated defa...</td>\n",
       "      <td>[reuters  russia may face an orchestrated defa...</td>\n",
       "      <td>[reuters  russia may face an orchestrated defa...</td>\n",
       "      <td>[reuters  russia may face an orchestrated defa...</td>\n",
       "      <td>reuters  russia may face an orchestrated defau...</td>\n",
       "    </tr>\n",
       "    <tr>\n",
       "      <th>2</th>\n",
       "      <td>3</td>\n",
       "      <td>BAD</td>\n",
       "      <td>European stock markets traded sharply lower Fr...</td>\n",
       "      <td>European stock markets traded sharply lower Fr...</td>\n",
       "      <td>european stock markets traded sharply lower fr...</td>\n",
       "      <td>[european stock markets traded sharply lower f...</td>\n",
       "      <td>[european stock markets traded sharply lower f...</td>\n",
       "      <td>[european stock markets traded sharply lower f...</td>\n",
       "      <td>[european stock markets traded sharply lower f...</td>\n",
       "      <td>european stock markets traded sharply lower fr...</td>\n",
       "    </tr>\n",
       "    <tr>\n",
       "      <th>3</th>\n",
       "      <td>4</td>\n",
       "      <td>BAD</td>\n",
       "      <td>Swedish truck maker AB Volvo reported a surpri...</td>\n",
       "      <td>Swedish truck maker AB Volvo reported a surpri...</td>\n",
       "      <td>swedish truck maker ab volvo reported a surpri...</td>\n",
       "      <td>[swedish truck maker ab volvo reported a surpr...</td>\n",
       "      <td>[swedish truck maker ab volvo reported a surpr...</td>\n",
       "      <td>[swedish truck maker ab volvo reported a surpr...</td>\n",
       "      <td>[swedish truck maker ab volvo reported a surpr...</td>\n",
       "      <td>swedish truck maker ab volvo reported a surpri...</td>\n",
       "    </tr>\n",
       "    <tr>\n",
       "      <th>4</th>\n",
       "      <td>5</td>\n",
       "      <td>BAD</td>\n",
       "      <td>AB InBev (EBR:ABI) stock fell in early trading...</td>\n",
       "      <td>AB InBev EBRABI stock fell in early trading in...</td>\n",
       "      <td>ab inbev ebrabi stock fell in early trading in...</td>\n",
       "      <td>[ab inbev ebrabi stock fell in early trading i...</td>\n",
       "      <td>[ab inbev ebrabi stock fell in early trading i...</td>\n",
       "      <td>[ab inbev ebrabi stock fell in early trading i...</td>\n",
       "      <td>[ab inbev ebrabi stock fell in early trading i...</td>\n",
       "      <td>ab inbev ebrabi stock fell in early trading in...</td>\n",
       "    </tr>\n",
       "  </tbody>\n",
       "</table>\n",
       "</div>"
      ],
      "text/plain": [
       "   No Classes                                               Text  \\\n",
       "0   1    GOOD  PARIS (Reuters) -French carmaker Renault (EPA:...   \n",
       "1   2     BAD  (Reuters) - Russia may face an \"orchestrated\" ...   \n",
       "2   3     BAD  European stock markets traded sharply lower Fr...   \n",
       "3   4     BAD  Swedish truck maker AB Volvo reported a surpri...   \n",
       "4   5     BAD  AB InBev (EBR:ABI) stock fell in early trading...   \n",
       "\n",
       "                                           clean_msg  \\\n",
       "0  PARIS Reuters French carmaker Renault EPARENA ...   \n",
       "1  Reuters  Russia may face an orchestrated defau...   \n",
       "2  European stock markets traded sharply lower Fr...   \n",
       "3  Swedish truck maker AB Volvo reported a surpri...   \n",
       "4  AB InBev EBRABI stock fell in early trading in...   \n",
       "\n",
       "                                           msg_lower  \\\n",
       "0  paris reuters french carmaker renault eparena ...   \n",
       "1  reuters  russia may face an orchestrated defau...   \n",
       "2  european stock markets traded sharply lower fr...   \n",
       "3  swedish truck maker ab volvo reported a surpri...   \n",
       "4  ab inbev ebrabi stock fell in early trading in...   \n",
       "\n",
       "                                        msg_tokenied  \\\n",
       "0  [paris reuters french carmaker renault eparena...   \n",
       "1  [reuters  russia may face an orchestrated defa...   \n",
       "2  [european stock markets traded sharply lower f...   \n",
       "3  [swedish truck maker ab volvo reported a surpr...   \n",
       "4  [ab inbev ebrabi stock fell in early trading i...   \n",
       "\n",
       "                                        no_stopwords  \\\n",
       "0  [paris reuters french carmaker renault eparena...   \n",
       "1  [reuters  russia may face an orchestrated defa...   \n",
       "2  [european stock markets traded sharply lower f...   \n",
       "3  [swedish truck maker ab volvo reported a surpr...   \n",
       "4  [ab inbev ebrabi stock fell in early trading i...   \n",
       "\n",
       "                                         msg_stemmed  \\\n",
       "0  [paris reuters french carmaker renault eparena...   \n",
       "1  [reuters  russia may face an orchestrated defa...   \n",
       "2  [european stock markets traded sharply lower f...   \n",
       "3  [swedish truck maker ab volvo reported a surpr...   \n",
       "4  [ab inbev ebrabi stock fell in early trading i...   \n",
       "\n",
       "                                      msg_lemmatized  \\\n",
       "0  [paris reuters french carmaker renault eparena...   \n",
       "1  [reuters  russia may face an orchestrated defa...   \n",
       "2  [european stock markets traded sharply lower f...   \n",
       "3  [swedish truck maker ab volvo reported a surpr...   \n",
       "4  [ab inbev ebrabi stock fell in early trading i...   \n",
       "\n",
       "                               msg_lemmatized_string  \n",
       "0  paris reuters french carmaker renault eparena ...  \n",
       "1  reuters  russia may face an orchestrated defau...  \n",
       "2  european stock markets traded sharply lower fr...  \n",
       "3  swedish truck maker ab volvo reported a surpri...  \n",
       "4  ab inbev ebrabi stock fell in early trading in...  "
      ]
     },
     "execution_count": 4,
     "metadata": {},
     "output_type": "execute_result"
    }
   ],
   "source": [
    "# data preprocess\n",
    "\n",
    "# remove punctuation from Text column - create a new column \n",
    "data['clean_msg']=data['Text'].apply(lambda x:remove_punctuation(x))\n",
    "\n",
    "# lower all letters - create a new column \n",
    "data['msg_lower']=data['clean_msg'].apply(lambda x: x.lower())\n",
    "\n",
    "# tokenize all rows - create a new column \n",
    "data['msg_tokenied']= data['msg_lower'].apply(lambda x: tokenization(x))\n",
    "\n",
    "# remove stopwords - create a new column\n",
    "data['no_stopwords']=data['msg_tokenied'].apply(lambda x:remove_stopwords(x))\n",
    "\n",
    "# stemme texts - create a new column\n",
    "data['msg_stemmed']=data['no_stopwords'].apply(lambda x:stemming(x))\n",
    "\n",
    "# lemmatize texts - create a new column\n",
    "data['msg_lemmatized']=data['msg_stemmed'].apply(lambda x:lemmatizer(x))\n",
    "\n",
    "data['msg_lemmatized_string']=data['msg_lemmatized'].apply(lambda x: ' '.join(map(str, x)))\n",
    "\n",
    "data.head()"
   ]
  },
  {
   "cell_type": "code",
   "execution_count": 5,
   "id": "f519cba4",
   "metadata": {},
   "outputs": [],
   "source": [
    "#  Data analysis \n",
    "\n",
    "from sklearn.feature_extraction.text import TfidfVectorizer\n",
    "from sklearn.model_selection import train_test_split\n",
    "\n",
    "from sklearn.tree import DecisionTreeClassifier\n",
    "\n",
    "from sklearn.metrics import accuracy_score, recall_score, precision_score, f1_score\n",
    "from sklearn.metrics import confusion_matrix, ConfusionMatrixDisplay\n",
    "\n",
    "from sklearn.feature_extraction.text import CountVectorizer\n",
    "from sklearn.neighbors import KNeighborsClassifier\n",
    "from sklearn import svm\n",
    "from sklearn.gaussian_process import GaussianProcessClassifier\n",
    "from sklearn.gaussian_process.kernels import RBF\n",
    "from sklearn.gaussian_process.kernels import RationalQuadratic\n",
    "from sklearn.gaussian_process.kernels import DotProduct\n",
    "from sklearn.gaussian_process.kernels import Matern\n",
    "from sklearn.gaussian_process.kernels import RationalQuadratic\n",
    "from sklearn.gaussian_process.kernels import WhiteKernel\n",
    "import numpy as np"
   ]
  },
  {
   "cell_type": "code",
   "execution_count": 6,
   "id": "91d3675e",
   "metadata": {},
   "outputs": [
    {
     "name": "stdout",
     "output_type": "stream",
     "text": [
      "[[0.         0.         0.         ... 0.         0.         0.        ]\n",
      " [0.         0.         0.         ... 0.         0.         0.        ]\n",
      " [0.         0.         0.         ... 0.         0.         0.        ]\n",
      " ...\n",
      " [0.         0.         0.         ... 0.         0.         0.        ]\n",
      " [0.         0.         0.         ... 0.08292206 0.         0.        ]\n",
      " [0.         0.         0.         ... 0.         0.         0.        ]]\n"
     ]
    }
   ],
   "source": [
    "# TfId\n",
    "\n",
    "v = TfidfVectorizer(token_pattern=r\"\\b\\w+\\b\")\n",
    "X = v.fit_transform(data['msg_lemmatized_string']).todense()\n",
    "\n",
    "y = data['Classes'].to_list()\n",
    "\n",
    "print(X)\n",
    "## pd.DataFrame(X).to_excel(\"TEMP.xlsx\", index=False) # save a xlsx file to see the tokenized data\n"
   ]
  },
  {
   "cell_type": "code",
   "execution_count": 7,
   "id": "11885065",
   "metadata": {},
   "outputs": [
    {
     "name": "stdout",
     "output_type": "stream",
     "text": [
      "[[0. 0. 0. ... 0. 0. 0.]\n",
      " [0. 0. 0. ... 0. 0. 0.]\n",
      " [0. 0. 0. ... 0. 0. 0.]\n",
      " ...\n",
      " [0. 0. 0. ... 0. 0. 0.]\n",
      " [0. 0. 0. ... 0. 0. 0.]\n",
      " [0. 0. 0. ... 0. 0. 0.]]\n",
      "[[0. 0. 0. ... 0. 0. 0.]\n",
      " [0. 0. 0. ... 0. 0. 0.]\n",
      " [0. 0. 0. ... 0. 0. 0.]\n",
      " ...\n",
      " [0. 0. 0. ... 0. 0. 0.]\n",
      " [0. 0. 0. ... 0. 0. 0.]\n",
      " [0. 0. 0. ... 0. 0. 0.]]\n",
      "['BAD', 'GOOD', 'NEUTRAL', 'BAD', 'GOOD', 'BAD', 'NEUTRAL', 'GOOD', 'GOOD', 'BAD', 'GOOD', 'BAD', 'BAD', 'NEUTRAL', 'NEUTRAL', 'BAD', 'GOOD', 'GOOD', 'GOOD', 'BAD', 'GOOD', 'NEUTRAL', 'NEUTRAL', 'GOOD', 'NEUTRAL', 'BAD', 'BAD', 'BAD', 'GOOD', 'GOOD', 'GOOD', 'BAD', 'GOOD', 'GOOD', 'BAD', 'BAD', 'BAD', 'GOOD', 'NEUTRAL', 'GOOD', 'NEUTRAL', 'BAD', 'GOOD', 'BAD', 'BAD', 'BAD', 'GOOD', 'NEUTRAL', 'BAD', 'BAD', 'BAD', 'GOOD', 'BAD', 'GOOD', 'BAD', 'NEUTRAL', 'NEUTRAL', 'GOOD', 'BAD', 'BAD', 'BAD', 'NEUTRAL', 'BAD', 'GOOD', 'GOOD', 'BAD', 'GOOD', 'BAD', 'GOOD', 'BAD', 'GOOD', 'BAD', 'BAD', 'BAD', 'GOOD', 'GOOD', 'BAD', 'BAD', 'BAD', 'GOOD', 'GOOD', 'GOOD', 'GOOD', 'NEUTRAL', 'NEUTRAL', 'NEUTRAL', 'GOOD', 'GOOD', 'NEUTRAL', 'GOOD', 'GOOD', 'GOOD', 'GOOD', 'BAD', 'BAD', 'GOOD', 'NEUTRAL', 'BAD', 'BAD', 'GOOD', 'BAD', 'GOOD', 'BAD', 'GOOD', 'NEUTRAL', 'BAD', 'GOOD', 'BAD', 'GOOD', 'BAD', 'GOOD', 'GOOD', 'GOOD', 'NEUTRAL', 'BAD', 'BAD', 'GOOD', 'NEUTRAL', 'GOOD', 'GOOD', 'GOOD', 'NEUTRAL', 'GOOD', 'GOOD', 'GOOD', 'BAD', 'GOOD', 'NEUTRAL', 'BAD', 'GOOD', 'BAD', 'BAD', 'GOOD', 'NEUTRAL', 'GOOD', 'NEUTRAL', 'BAD', 'GOOD', 'BAD', 'BAD']\n",
      "['BAD', 'BAD', 'GOOD', 'BAD', 'BAD', 'GOOD', 'BAD', 'NEUTRAL', 'GOOD', 'BAD', 'NEUTRAL', 'BAD', 'NEUTRAL', 'GOOD', 'NEUTRAL', 'NEUTRAL', 'BAD', 'BAD', 'BAD', 'BAD', 'GOOD', 'BAD', 'BAD', 'GOOD', 'BAD', 'BAD', 'GOOD', 'BAD', 'BAD', 'BAD', 'NEUTRAL', 'GOOD', 'BAD', 'GOOD', 'GOOD', 'BAD', 'GOOD', 'BAD', 'GOOD', 'BAD', 'GOOD', 'GOOD', 'NEUTRAL', 'GOOD', 'GOOD', 'GOOD', 'GOOD', 'NEUTRAL', 'NEUTRAL', 'BAD', 'BAD', 'BAD', 'GOOD', 'GOOD', 'BAD', 'GOOD', 'GOOD', 'BAD', 'GOOD', 'NEUTRAL']\n"
     ]
    }
   ],
   "source": [
    "# split dataset\n",
    "\n",
    "X_train , X_test , y_train , y_test = train_test_split(X, y, test_size=0.3,random_state=4)\n",
    "\n",
    "print(X_train)\n",
    "print(X_test)\n",
    "print(y_train)\n",
    "print(y_test)"
   ]
  },
  {
   "cell_type": "code",
   "execution_count": 8,
   "id": "3b8d103c",
   "metadata": {},
   "outputs": [],
   "source": [
    "kernel = 1.0 * RBF(1.0)\n",
    "gpc = GaussianProcessClassifier(kernel=kernel).fit(X_train, y_train)\n",
    "y_pred= gpc.predict(X_test)"
   ]
  },
  {
   "cell_type": "code",
   "execution_count": 9,
   "id": "67e62026",
   "metadata": {},
   "outputs": [
    {
     "name": "stdout",
     "output_type": "stream",
     "text": [
      "Accuracy of training set:                   : 0.821\n",
      "Accuracy                                    : 0.617\n",
      "F1-Score                                    : 0.558\n",
      "Precision                                   : 0.520\n",
      "Recall                                      : 0.617\n"
     ]
    },
    {
     "name": "stderr",
     "output_type": "stream",
     "text": [
      "C:\\Users\\George\\anaconda3\\lib\\site-packages\\sklearn\\metrics\\_classification.py:1248: UndefinedMetricWarning: Precision is ill-defined and being set to 0.0 in labels with no predicted samples. Use `zero_division` parameter to control this behavior.\n",
      "  _warn_prf(average, modifier, msg_start, len(result))\n"
     ]
    },
    {
     "data": {
      "text/plain": [
       "<sklearn.metrics._plot.confusion_matrix.ConfusionMatrixDisplay at 0x1730af8ce80>"
      ]
     },
     "execution_count": 9,
     "metadata": {},
     "output_type": "execute_result"
    },
    {
     "data": {
      "image/png": "[encoded data removed]",
      "text/plain": [
       "<Figure size 432x288 with 2 Axes>"
      ]
     },
     "metadata": {
      "needs_background": "light"
     },
     "output_type": "display_data"
    }
   ],
   "source": [
    "# Scores\n",
    "print('Accuracy of training set:                   : {:.3f}'.format(gpc.score(X_train, y_train)))\n",
    "print('Accuracy                                    : %.3f'%accuracy_score(y_test, y_pred))\n",
    "print('F1-Score                                    : %.3f'%f1_score(y_test, y_pred, average=\"weighted\"))\n",
    "print('Precision                                   : %.3f'%precision_score(y_test, y_pred, average=\"weighted\"))\n",
    "print('Recall                                      : %.3f'%recall_score(y_test, y_pred, average=\"weighted\"))\n",
    "\n",
    "# Confusion Matrix\n",
    "conf_mat = confusion_matrix(y_test, y_pred)\n",
    "cmd = ConfusionMatrixDisplay(conf_mat, display_labels=['BAD', 'GOOB', 'NEUTRAL'])\n",
    "cmd.plot()"
   ]
  },
  {
   "cell_type": "code",
   "execution_count": 10,
   "id": "66548bac",
   "metadata": {},
   "outputs": [],
   "source": [
    "from sklearn.model_selection import GridSearchCV"
   ]
  },
  {
   "cell_type": "code",
   "execution_count": 11,
   "id": "ee38acf9",
   "metadata": {},
   "outputs": [],
   "source": [
    "param_dist={\n",
    "    \n",
    "}"
   ]
  },
  {
   "cell_type": "code",
   "execution_count": 12,
   "id": "fef8ae40",
   "metadata": {},
   "outputs": [],
   "source": [
    "grid=GridSearchCV(gpc,param_grid=param_dist,cv=5,n_jobs=-1)"
   ]
  },
  {
   "cell_type": "code",
   "execution_count": 13,
   "id": "c3901945",
   "metadata": {},
   "outputs": [
    {
     "data": {
      "text/plain": [
       "GridSearchCV(cv=5,\n",
       "             estimator=GaussianProcessClassifier(kernel=1**2 * RBF(length_scale=1)),\n",
       "             n_jobs=-1, param_grid={})"
      ]
     },
     "execution_count": 13,
     "metadata": {},
     "output_type": "execute_result"
    }
   ],
   "source": [
    "grid.fit(X_train,y_train)"
   ]
  },
  {
   "cell_type": "code",
   "execution_count": 14,
   "id": "1f75f72c",
   "metadata": {},
   "outputs": [
    {
     "data": {
      "text/plain": [
       "GaussianProcessClassifier(kernel=1**2 * RBF(length_scale=1))"
      ]
     },
     "execution_count": 14,
     "metadata": {},
     "output_type": "execute_result"
    }
   ],
   "source": [
    "grid.best_estimator_"
   ]
  },
  {
   "cell_type": "code",
   "execution_count": 15,
   "id": "ed74add2",
   "metadata": {},
   "outputs": [
    {
     "data": {
      "text/plain": [
       "0.6142857142857142"
      ]
     },
     "execution_count": 15,
     "metadata": {},
     "output_type": "execute_result"
    }
   ],
   "source": [
    "grid.best_score_"
   ]
  },
  {
   "cell_type": "code",
   "execution_count": 16,
   "id": "491f25be",
   "metadata": {},
   "outputs": [],
   "source": [
    "gpc = GaussianProcessClassifier(kernel=kernel)"
   ]
  },
  {
   "cell_type": "code",
   "execution_count": 17,
   "id": "fdd1c66f",
   "metadata": {},
   "outputs": [
    {
     "name": "stderr",
     "output_type": "stream",
     "text": [
      "C:\\Users\\George\\anaconda3\\lib\\site-packages\\sklearn\\metrics\\_classification.py:1248: UndefinedMetricWarning: Precision is ill-defined and being set to 0.0 in labels with no predicted samples. Use `zero_division` parameter to control this behavior.\n",
      "  _warn_prf(average, modifier, msg_start, len(result))\n",
      "C:\\Users\\George\\anaconda3\\lib\\site-packages\\sklearn\\metrics\\_classification.py:1248: UndefinedMetricWarning: Precision is ill-defined and being set to 0.0 in labels with no predicted samples. Use `zero_division` parameter to control this behavior.\n",
      "  _warn_prf(average, modifier, msg_start, len(result))\n",
      "C:\\Users\\George\\anaconda3\\lib\\site-packages\\sklearn\\metrics\\_classification.py:1248: UndefinedMetricWarning: Precision is ill-defined and being set to 0.0 in labels with no predicted samples. Use `zero_division` parameter to control this behavior.\n",
      "  _warn_prf(average, modifier, msg_start, len(result))\n",
      "C:\\Users\\George\\anaconda3\\lib\\site-packages\\sklearn\\metrics\\_classification.py:1248: UndefinedMetricWarning: Precision is ill-defined and being set to 0.0 in labels with no predicted samples. Use `zero_division` parameter to control this behavior.\n",
      "  _warn_prf(average, modifier, msg_start, len(result))\n",
      "C:\\Users\\George\\anaconda3\\lib\\site-packages\\sklearn\\metrics\\_classification.py:1248: UndefinedMetricWarning: Precision is ill-defined and being set to 0.0 in labels with no predicted samples. Use `zero_division` parameter to control this behavior.\n",
      "  _warn_prf(average, modifier, msg_start, len(result))\n"
     ]
    },
    {
     "data": {
      "text/plain": [
       "{'fit_time': array([4.48830175, 4.50146747, 4.31319451, 6.55841208, 4.61366391]),\n",
       " 'score_time': array([0.21000171, 0.2099998 , 0.22539473, 0.22130346, 0.23429394]),\n",
       " 'test_accuracy': array([0.625, 0.675, 0.7  , 0.65 , 0.675]),\n",
       " 'test_f1_macro': array([0.45909091, 0.49242424, 0.51201201, 0.47306911, 0.49323308]),\n",
       " 'test_precision_macro': array([0.43055556, 0.45268542, 0.4695071 , 0.44444444, 0.4502924 ]),\n",
       " 'test_recall_macro': array([0.50612745, 0.54411765, 0.56495098, 0.52818627, 0.54534314])}"
      ]
     },
     "execution_count": 17,
     "metadata": {},
     "output_type": "execute_result"
    }
   ],
   "source": [
    "scoring = ['accuracy','f1_macro','precision_macro', 'recall_macro']\n",
    "from sklearn.model_selection import cross_val_score\n",
    "from sklearn.model_selection import cross_validate\n",
    "from sklearn.metrics import recall_score\n",
    "scores = cross_validate(gpc, X, y, cv=5,scoring=scoring)\n",
    "scores"
   ]
  },
  {
   "cell_type": "code",
   "execution_count": null,
   "id": "c8b137c1",
   "metadata": {},
   "outputs": [],
   "source": []
  }
 ],
 "metadata": {
  "kernelspec": {
   "display_name": "Python 3 (ipykernel)",
   "language": "python",
   "name": "python3"
  },
  "language_info": {
   "codemirror_mode": {
    "name": "ipython",
    "version": 3
   },
   "file_extension": ".py",
   "mimetype": "text/x-python",
   "name": "python",
   "nbconvert_exporter": "python",
   "pygments_lexer": "ipython3",
   "version": "3.9.7"
  }
 },
 "nbformat": 4,
 "nbformat_minor": 5
}
