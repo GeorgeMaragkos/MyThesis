{
 "cells": [
  {
   "cell_type": "code",
   "execution_count": 15,
   "id": "0e08a09c",
   "metadata": {},
   "outputs": [
    {
     "name": "stderr",
     "output_type": "stream",
     "text": [
      "[nltk_data] Downloading package wordnet to\n",
      "[nltk_data]     C:\\Users\\George\\AppData\\Roaming\\nltk_data...\n",
      "[nltk_data]   Package wordnet is already up-to-date!\n",
      "[nltk_data] Downloading package stopwords to\n",
      "[nltk_data]     C:\\Users\\George\\AppData\\Roaming\\nltk_data...\n",
      "[nltk_data]   Package stopwords is already up-to-date!\n"
     ]
    }
   ],
   "source": [
    "# all imports will be in this cell \n",
    "\n",
    "import pandas as pd\n",
    "import string\n",
    "import re\n",
    "import nltk\n",
    "from nltk.stem.porter import PorterStemmer\n",
    "from nltk.stem import WordNetLemmatizer\n",
    "\n",
    "nltk.download('wordnet')\n",
    "nltk.download('stopwords')\n",
    "stopwords = nltk.corpus.stopwords.words('english')\n",
    "porter_stemmer=PorterStemmer()\n",
    "wordnet_lemmatizer = WordNetLemmatizer()"
   ]
  },
  {
   "cell_type": "code",
   "execution_count": 16,
   "id": "28a73b42",
   "metadata": {},
   "outputs": [
    {
     "data": {
      "text/html": [
       "<div>\n",
       "<style scoped>\n",
       "    .dataframe tbody tr th:only-of-type {\n",
       "        vertical-align: middle;\n",
       "    }\n",
       "\n",
       "    .dataframe tbody tr th {\n",
       "        vertical-align: top;\n",
       "    }\n",
       "\n",
       "    .dataframe thead th {\n",
       "        text-align: right;\n",
       "    }\n",
       "</style>\n",
       "<table border=\"1\" class=\"dataframe\">\n",
       "  <thead>\n",
       "    <tr style=\"text-align: right;\">\n",
       "      <th></th>\n",
       "      <th>No</th>\n",
       "      <th>Classes</th>\n",
       "      <th>Text</th>\n",
       "    </tr>\n",
       "  </thead>\n",
       "  <tbody>\n",
       "    <tr>\n",
       "      <th>0</th>\n",
       "      <td>1</td>\n",
       "      <td>GOOD</td>\n",
       "      <td>PARIS (Reuters) -French carmaker Renault (EPA:...</td>\n",
       "    </tr>\n",
       "    <tr>\n",
       "      <th>1</th>\n",
       "      <td>2</td>\n",
       "      <td>BAD</td>\n",
       "      <td>(Reuters) - Russia may face an \"orchestrated\" ...</td>\n",
       "    </tr>\n",
       "    <tr>\n",
       "      <th>2</th>\n",
       "      <td>3</td>\n",
       "      <td>BAD</td>\n",
       "      <td>European stock markets traded sharply lower Fr...</td>\n",
       "    </tr>\n",
       "    <tr>\n",
       "      <th>3</th>\n",
       "      <td>4</td>\n",
       "      <td>BAD</td>\n",
       "      <td>Swedish truck maker AB Volvo reported a surpri...</td>\n",
       "    </tr>\n",
       "    <tr>\n",
       "      <th>4</th>\n",
       "      <td>5</td>\n",
       "      <td>BAD</td>\n",
       "      <td>AB InBev (EBR:ABI) stock fell in early trading...</td>\n",
       "    </tr>\n",
       "    <tr>\n",
       "      <th>...</th>\n",
       "      <td>...</td>\n",
       "      <td>...</td>\n",
       "      <td>...</td>\n",
       "    </tr>\n",
       "    <tr>\n",
       "      <th>195</th>\n",
       "      <td>196</td>\n",
       "      <td>GOOD</td>\n",
       "      <td>Shares in defense group Thales (PA:TCFP) rose ...</td>\n",
       "    </tr>\n",
       "    <tr>\n",
       "      <th>196</th>\n",
       "      <td>197</td>\n",
       "      <td>NEUTRAL</td>\n",
       "      <td>The head of Japan's Hitachi Ltd (T:6501) said ...</td>\n",
       "    </tr>\n",
       "    <tr>\n",
       "      <th>197</th>\n",
       "      <td>198</td>\n",
       "      <td>GOOD</td>\n",
       "      <td>US stocks rallied on Friday amid renewed optim...</td>\n",
       "    </tr>\n",
       "    <tr>\n",
       "      <th>198</th>\n",
       "      <td>199</td>\n",
       "      <td>BAD</td>\n",
       "      <td>European shares inched lower on Friday, weighe...</td>\n",
       "    </tr>\n",
       "    <tr>\n",
       "      <th>199</th>\n",
       "      <td>200</td>\n",
       "      <td>BAD</td>\n",
       "      <td>Major U.S. stock indexes fell on Thursday, wit...</td>\n",
       "    </tr>\n",
       "  </tbody>\n",
       "</table>\n",
       "<p>200 rows × 3 columns</p>\n",
       "</div>"
      ],
      "text/plain": [
       "      No  Classes                                               Text\n",
       "0      1     GOOD  PARIS (Reuters) -French carmaker Renault (EPA:...\n",
       "1      2      BAD  (Reuters) - Russia may face an \"orchestrated\" ...\n",
       "2      3      BAD  European stock markets traded sharply lower Fr...\n",
       "3      4      BAD  Swedish truck maker AB Volvo reported a surpri...\n",
       "4      5      BAD  AB InBev (EBR:ABI) stock fell in early trading...\n",
       "..   ...      ...                                                ...\n",
       "195  196     GOOD  Shares in defense group Thales (PA:TCFP) rose ...\n",
       "196  197  NEUTRAL  The head of Japan's Hitachi Ltd (T:6501) said ...\n",
       "197  198     GOOD  US stocks rallied on Friday amid renewed optim...\n",
       "198  199      BAD  European shares inched lower on Friday, weighe...\n",
       "199  200      BAD  Major U.S. stock indexes fell on Thursday, wit...\n",
       "\n",
       "[200 rows x 3 columns]"
      ]
     },
     "execution_count": 16,
     "metadata": {},
     "output_type": "execute_result"
    }
   ],
   "source": [
    "data=pd.read_csv(\"dataset_investing_stock_market.csv\", encoding=\"ISO-8859-1\", sep=';', header=0)\n",
    "data"
   ]
  },
  {
   "cell_type": "code",
   "execution_count": 17,
   "id": "c41b480e",
   "metadata": {},
   "outputs": [],
   "source": [
    "# helper functions - all helper functions will be reported here\n",
    "\n",
    "def remove_punctuation(text):\n",
    "    punctuationfree=\"\".join([i for i in text if i not in string.punctuation])\n",
    "    return punctuationfree\n",
    "\n",
    "def tokenization(text):\n",
    "    tokens = re.split('W+', text)\n",
    "    return tokens\n",
    "\n",
    "def remove_stopwords(text):\n",
    "    output= [i for i in text if not i in stopwords]\n",
    "    return output\n",
    "\n",
    "def stemming(text):\n",
    "    stem_text=[porter_stemmer.stem(word) for word in text]\n",
    "    return stem_text\n",
    "\n",
    "def lemmatizer(text):\n",
    "    lemm_text = [wordnet_lemmatizer.lemmatize(word) for word in text]\n",
    "    return lemm_text\n"
   ]
  },
  {
   "cell_type": "code",
   "execution_count": 18,
   "id": "c39bfb36",
   "metadata": {},
   "outputs": [
    {
     "data": {
      "text/html": [
       "<div>\n",
       "<style scoped>\n",
       "    .dataframe tbody tr th:only-of-type {\n",
       "        vertical-align: middle;\n",
       "    }\n",
       "\n",
       "    .dataframe tbody tr th {\n",
       "        vertical-align: top;\n",
       "    }\n",
       "\n",
       "    .dataframe thead th {\n",
       "        text-align: right;\n",
       "    }\n",
       "</style>\n",
       "<table border=\"1\" class=\"dataframe\">\n",
       "  <thead>\n",
       "    <tr style=\"text-align: right;\">\n",
       "      <th></th>\n",
       "      <th>No</th>\n",
       "      <th>Classes</th>\n",
       "      <th>Text</th>\n",
       "      <th>clean_msg</th>\n",
       "      <th>msg_lower</th>\n",
       "      <th>msg_tokenied</th>\n",
       "      <th>no_stopwords</th>\n",
       "      <th>msg_stemmed</th>\n",
       "      <th>msg_lemmatized</th>\n",
       "      <th>msg_lemmatized_string</th>\n",
       "    </tr>\n",
       "  </thead>\n",
       "  <tbody>\n",
       "    <tr>\n",
       "      <th>0</th>\n",
       "      <td>1</td>\n",
       "      <td>GOOD</td>\n",
       "      <td>PARIS (Reuters) -French carmaker Renault (EPA:...</td>\n",
       "      <td>PARIS Reuters French carmaker Renault EPARENA ...</td>\n",
       "      <td>paris reuters french carmaker renault eparena ...</td>\n",
       "      <td>[paris reuters french carmaker renault eparena...</td>\n",
       "      <td>[paris reuters french carmaker renault eparena...</td>\n",
       "      <td>[paris reuters french carmaker renault eparena...</td>\n",
       "      <td>[paris reuters french carmaker renault eparena...</td>\n",
       "      <td>paris reuters french carmaker renault eparena ...</td>\n",
       "    </tr>\n",
       "    <tr>\n",
       "      <th>1</th>\n",
       "      <td>2</td>\n",
       "      <td>BAD</td>\n",
       "      <td>(Reuters) - Russia may face an \"orchestrated\" ...</td>\n",
       "      <td>Reuters  Russia may face an orchestrated defau...</td>\n",
       "      <td>reuters  russia may face an orchestrated defau...</td>\n",
       "      <td>[reuters  russia may face an orchestrated defa...</td>\n",
       "      <td>[reuters  russia may face an orchestrated defa...</td>\n",
       "      <td>[reuters  russia may face an orchestrated defa...</td>\n",
       "      <td>[reuters  russia may face an orchestrated defa...</td>\n",
       "      <td>reuters  russia may face an orchestrated defau...</td>\n",
       "    </tr>\n",
       "    <tr>\n",
       "      <th>2</th>\n",
       "      <td>3</td>\n",
       "      <td>BAD</td>\n",
       "      <td>European stock markets traded sharply lower Fr...</td>\n",
       "      <td>European stock markets traded sharply lower Fr...</td>\n",
       "      <td>european stock markets traded sharply lower fr...</td>\n",
       "      <td>[european stock markets traded sharply lower f...</td>\n",
       "      <td>[european stock markets traded sharply lower f...</td>\n",
       "      <td>[european stock markets traded sharply lower f...</td>\n",
       "      <td>[european stock markets traded sharply lower f...</td>\n",
       "      <td>european stock markets traded sharply lower fr...</td>\n",
       "    </tr>\n",
       "    <tr>\n",
       "      <th>3</th>\n",
       "      <td>4</td>\n",
       "      <td>BAD</td>\n",
       "      <td>Swedish truck maker AB Volvo reported a surpri...</td>\n",
       "      <td>Swedish truck maker AB Volvo reported a surpri...</td>\n",
       "      <td>swedish truck maker ab volvo reported a surpri...</td>\n",
       "      <td>[swedish truck maker ab volvo reported a surpr...</td>\n",
       "      <td>[swedish truck maker ab volvo reported a surpr...</td>\n",
       "      <td>[swedish truck maker ab volvo reported a surpr...</td>\n",
       "      <td>[swedish truck maker ab volvo reported a surpr...</td>\n",
       "      <td>swedish truck maker ab volvo reported a surpri...</td>\n",
       "    </tr>\n",
       "    <tr>\n",
       "      <th>4</th>\n",
       "      <td>5</td>\n",
       "      <td>BAD</td>\n",
       "      <td>AB InBev (EBR:ABI) stock fell in early trading...</td>\n",
       "      <td>AB InBev EBRABI stock fell in early trading in...</td>\n",
       "      <td>ab inbev ebrabi stock fell in early trading in...</td>\n",
       "      <td>[ab inbev ebrabi stock fell in early trading i...</td>\n",
       "      <td>[ab inbev ebrabi stock fell in early trading i...</td>\n",
       "      <td>[ab inbev ebrabi stock fell in early trading i...</td>\n",
       "      <td>[ab inbev ebrabi stock fell in early trading i...</td>\n",
       "      <td>ab inbev ebrabi stock fell in early trading in...</td>\n",
       "    </tr>\n",
       "  </tbody>\n",
       "</table>\n",
       "</div>"
      ],
      "text/plain": [
       "   No Classes                                               Text  \\\n",
       "0   1    GOOD  PARIS (Reuters) -French carmaker Renault (EPA:...   \n",
       "1   2     BAD  (Reuters) - Russia may face an \"orchestrated\" ...   \n",
       "2   3     BAD  European stock markets traded sharply lower Fr...   \n",
       "3   4     BAD  Swedish truck maker AB Volvo reported a surpri...   \n",
       "4   5     BAD  AB InBev (EBR:ABI) stock fell in early trading...   \n",
       "\n",
       "                                           clean_msg  \\\n",
       "0  PARIS Reuters French carmaker Renault EPARENA ...   \n",
       "1  Reuters  Russia may face an orchestrated defau...   \n",
       "2  European stock markets traded sharply lower Fr...   \n",
       "3  Swedish truck maker AB Volvo reported a surpri...   \n",
       "4  AB InBev EBRABI stock fell in early trading in...   \n",
       "\n",
       "                                           msg_lower  \\\n",
       "0  paris reuters french carmaker renault eparena ...   \n",
       "1  reuters  russia may face an orchestrated defau...   \n",
       "2  european stock markets traded sharply lower fr...   \n",
       "3  swedish truck maker ab volvo reported a surpri...   \n",
       "4  ab inbev ebrabi stock fell in early trading in...   \n",
       "\n",
       "                                        msg_tokenied  \\\n",
       "0  [paris reuters french carmaker renault eparena...   \n",
       "1  [reuters  russia may face an orchestrated defa...   \n",
       "2  [european stock markets traded sharply lower f...   \n",
       "3  [swedish truck maker ab volvo reported a surpr...   \n",
       "4  [ab inbev ebrabi stock fell in early trading i...   \n",
       "\n",
       "                                        no_stopwords  \\\n",
       "0  [paris reuters french carmaker renault eparena...   \n",
       "1  [reuters  russia may face an orchestrated defa...   \n",
       "2  [european stock markets traded sharply lower f...   \n",
       "3  [swedish truck maker ab volvo reported a surpr...   \n",
       "4  [ab inbev ebrabi stock fell in early trading i...   \n",
       "\n",
       "                                         msg_stemmed  \\\n",
       "0  [paris reuters french carmaker renault eparena...   \n",
       "1  [reuters  russia may face an orchestrated defa...   \n",
       "2  [european stock markets traded sharply lower f...   \n",
       "3  [swedish truck maker ab volvo reported a surpr...   \n",
       "4  [ab inbev ebrabi stock fell in early trading i...   \n",
       "\n",
       "                                      msg_lemmatized  \\\n",
       "0  [paris reuters french carmaker renault eparena...   \n",
       "1  [reuters  russia may face an orchestrated defa...   \n",
       "2  [european stock markets traded sharply lower f...   \n",
       "3  [swedish truck maker ab volvo reported a surpr...   \n",
       "4  [ab inbev ebrabi stock fell in early trading i...   \n",
       "\n",
       "                               msg_lemmatized_string  \n",
       "0  paris reuters french carmaker renault eparena ...  \n",
       "1  reuters  russia may face an orchestrated defau...  \n",
       "2  european stock markets traded sharply lower fr...  \n",
       "3  swedish truck maker ab volvo reported a surpri...  \n",
       "4  ab inbev ebrabi stock fell in early trading in...  "
      ]
     },
     "execution_count": 18,
     "metadata": {},
     "output_type": "execute_result"
    }
   ],
   "source": [
    "# data preprocess\n",
    "\n",
    "# remove punctuation from Text column - create a new column \n",
    "data['clean_msg']=data['Text'].apply(lambda x:remove_punctuation(x))\n",
    "\n",
    "# lower all letters - create a new column \n",
    "data['msg_lower']=data['clean_msg'].apply(lambda x: x.lower())\n",
    "\n",
    "# tokenize all rows - create a new column \n",
    "data['msg_tokenied']= data['msg_lower'].apply(lambda x: tokenization(x))\n",
    "\n",
    "# remove stopwords - create a new column\n",
    "data['no_stopwords']=data['msg_tokenied'].apply(lambda x:remove_stopwords(x))\n",
    "\n",
    "# stemme texts - create a new column\n",
    "data['msg_stemmed']=data['no_stopwords'].apply(lambda x:stemming(x))\n",
    "\n",
    "# lemmatize texts - create a new column\n",
    "data['msg_lemmatized']=data['msg_stemmed'].apply(lambda x:lemmatizer(x))\n",
    "\n",
    "data['msg_lemmatized_string']=data['msg_lemmatized'].apply(lambda x: ' '.join(map(str, x)))\n",
    "\n",
    "data.head()"
   ]
  },
  {
   "cell_type": "code",
   "execution_count": 19,
   "id": "495c4231",
   "metadata": {},
   "outputs": [],
   "source": [
    "#  Data analysis \n",
    "\n",
    "from sklearn.feature_extraction.text import TfidfVectorizer\n",
    "from sklearn.model_selection import train_test_split\n",
    "\n",
    "from sklearn.tree import DecisionTreeClassifier\n",
    "\n",
    "from sklearn.metrics import accuracy_score, recall_score, precision_score, f1_score\n",
    "from sklearn.metrics import confusion_matrix, ConfusionMatrixDisplay\n",
    "\n",
    "from sklearn.feature_extraction.text import CountVectorizer\n",
    "from sklearn.neighbors import KNeighborsClassifier\n",
    "from sklearn.svm import SVC\n",
    "from sklearn.naive_bayes import GaussianNB\n",
    "from sklearn.discriminant_analysis import LinearDiscriminantAnalysis"
   ]
  },
  {
   "cell_type": "code",
   "execution_count": 20,
   "id": "836e7def",
   "metadata": {},
   "outputs": [
    {
     "name": "stdout",
     "output_type": "stream",
     "text": [
      "[[0.         0.         0.         ... 0.         0.         0.        ]\n",
      " [0.         0.         0.         ... 0.         0.         0.        ]\n",
      " [0.         0.         0.         ... 0.         0.         0.        ]\n",
      " ...\n",
      " [0.         0.         0.         ... 0.         0.         0.        ]\n",
      " [0.         0.         0.         ... 0.08292206 0.         0.        ]\n",
      " [0.         0.         0.         ... 0.         0.         0.        ]]\n"
     ]
    }
   ],
   "source": [
    "# TfId\n",
    "\n",
    "v = TfidfVectorizer(token_pattern=r\"\\b\\w+\\b\")\n",
    "X = v.fit_transform(data['msg_lemmatized_string']).todense()\n",
    "\n",
    "y = data['Classes'].to_list()\n",
    "\n",
    "print(X)\n",
    "## pd.DataFrame(X).to_excel(\"TEMP.xlsx\", index=False) # save a xlsx file to see the tokenized data\n"
   ]
  },
  {
   "cell_type": "code",
   "execution_count": 21,
   "id": "9da4da99",
   "metadata": {},
   "outputs": [
    {
     "name": "stdout",
     "output_type": "stream",
     "text": [
      "[[0. 0. 0. ... 0. 0. 0.]\n",
      " [0. 0. 0. ... 0. 0. 0.]\n",
      " [0. 0. 0. ... 0. 0. 0.]\n",
      " ...\n",
      " [0. 0. 0. ... 0. 0. 0.]\n",
      " [0. 0. 0. ... 0. 0. 0.]\n",
      " [0. 0. 0. ... 0. 0. 0.]]\n",
      "[[0. 0. 0. ... 0. 0. 0.]\n",
      " [0. 0. 0. ... 0. 0. 0.]\n",
      " [0. 0. 0. ... 0. 0. 0.]\n",
      " ...\n",
      " [0. 0. 0. ... 0. 0. 0.]\n",
      " [0. 0. 0. ... 0. 0. 0.]\n",
      " [0. 0. 0. ... 0. 0. 0.]]\n",
      "['BAD', 'GOOD', 'NEUTRAL', 'BAD', 'GOOD', 'BAD', 'NEUTRAL', 'GOOD', 'GOOD', 'BAD', 'GOOD', 'BAD', 'BAD', 'NEUTRAL', 'NEUTRAL', 'BAD', 'GOOD', 'GOOD', 'GOOD', 'BAD', 'GOOD', 'NEUTRAL', 'NEUTRAL', 'GOOD', 'NEUTRAL', 'BAD', 'BAD', 'BAD', 'GOOD', 'GOOD', 'GOOD', 'BAD', 'GOOD', 'GOOD', 'BAD', 'BAD', 'BAD', 'GOOD', 'NEUTRAL', 'GOOD', 'NEUTRAL', 'BAD', 'GOOD', 'BAD', 'BAD', 'BAD', 'GOOD', 'NEUTRAL', 'BAD', 'BAD', 'BAD', 'GOOD', 'BAD', 'GOOD', 'BAD', 'NEUTRAL', 'NEUTRAL', 'GOOD', 'BAD', 'BAD', 'BAD', 'NEUTRAL', 'BAD', 'GOOD', 'GOOD', 'BAD', 'GOOD', 'BAD', 'GOOD', 'BAD', 'GOOD', 'BAD', 'BAD', 'BAD', 'GOOD', 'GOOD', 'BAD', 'BAD', 'BAD', 'GOOD', 'GOOD', 'GOOD', 'GOOD', 'NEUTRAL', 'NEUTRAL', 'NEUTRAL', 'GOOD', 'GOOD', 'NEUTRAL', 'GOOD', 'GOOD', 'GOOD', 'GOOD', 'BAD', 'BAD', 'GOOD', 'NEUTRAL', 'BAD', 'BAD', 'GOOD', 'BAD', 'GOOD', 'BAD', 'GOOD', 'NEUTRAL', 'BAD', 'GOOD', 'BAD', 'GOOD', 'BAD', 'GOOD', 'GOOD', 'GOOD', 'NEUTRAL', 'BAD', 'BAD', 'GOOD', 'NEUTRAL', 'GOOD', 'GOOD', 'GOOD', 'NEUTRAL', 'GOOD', 'GOOD', 'GOOD', 'BAD', 'GOOD', 'NEUTRAL', 'BAD', 'GOOD', 'BAD', 'BAD', 'GOOD', 'NEUTRAL', 'GOOD', 'NEUTRAL', 'BAD', 'GOOD', 'BAD', 'BAD']\n",
      "['BAD', 'BAD', 'GOOD', 'BAD', 'BAD', 'GOOD', 'BAD', 'NEUTRAL', 'GOOD', 'BAD', 'NEUTRAL', 'BAD', 'NEUTRAL', 'GOOD', 'NEUTRAL', 'NEUTRAL', 'BAD', 'BAD', 'BAD', 'BAD', 'GOOD', 'BAD', 'BAD', 'GOOD', 'BAD', 'BAD', 'GOOD', 'BAD', 'BAD', 'BAD', 'NEUTRAL', 'GOOD', 'BAD', 'GOOD', 'GOOD', 'BAD', 'GOOD', 'BAD', 'GOOD', 'BAD', 'GOOD', 'GOOD', 'NEUTRAL', 'GOOD', 'GOOD', 'GOOD', 'GOOD', 'NEUTRAL', 'NEUTRAL', 'BAD', 'BAD', 'BAD', 'GOOD', 'GOOD', 'BAD', 'GOOD', 'GOOD', 'BAD', 'GOOD', 'NEUTRAL']\n"
     ]
    }
   ],
   "source": [
    "# split dataset\n",
    "\n",
    "X_train , X_test , y_train , y_test = train_test_split(X, y, test_size=0.3,random_state=4)\n",
    "\n",
    "print(X_train)\n",
    "print(X_test)\n",
    "print(y_train)\n",
    "print(y_test)"
   ]
  },
  {
   "cell_type": "code",
   "execution_count": 22,
   "id": "717d9ec0",
   "metadata": {},
   "outputs": [
    {
     "name": "stdout",
     "output_type": "stream",
     "text": [
      "Accuracy of LDA classifier on training set: 0.71\n",
      "Accuracy of LDA classifier on test set: 0.52\n",
      "F1-Score: 0.468\n",
      "Precision: 0.478\n",
      "Recall: 0.517\n"
     ]
    },
    {
     "data": {
      "text/plain": [
       "<sklearn.metrics._plot.confusion_matrix.ConfusionMatrixDisplay at 0x2c30a5c1a00>"
      ]
     },
     "execution_count": 22,
     "metadata": {},
     "output_type": "execute_result"
    },
    {
     "data": {
      "image/png": "[encoded data removed]",
      "text/plain": [
       "<Figure size 432x288 with 2 Axes>"
      ]
     },
     "metadata": {
      "needs_background": "light"
     },
     "output_type": "display_data"
    }
   ],
   "source": [
    "lda = LinearDiscriminantAnalysis().fit(X_train, y_train)\n",
    "y_pred = lda.predict(X_test)\n",
    "print('Accuracy of LDA classifier on training set: {:.2f}'\n",
    "     .format(lda.score(X_train, y_train)))\n",
    "print('Accuracy of LDA classifier on test set: {:.2f}'\n",
    "     .format(lda.score(X_test, y_test)))\n",
    "print('F1-Score: %.3f'%f1_score(y_test, y_pred, average=\"weighted\"))\n",
    "print('Precision: %.3f'%precision_score(y_test, y_pred, average=\"weighted\"))\n",
    "print('Recall: %.3f'%recall_score(y_test, y_pred, average=\"weighted\"))\n",
    "conf_mat = confusion_matrix(y_test, y_pred)\n",
    "cmd = ConfusionMatrixDisplay(conf_mat, display_labels=['BAD', 'GOOB', 'NEUTRAL'])\n",
    "cmd.plot()"
   ]
  },
  {
   "cell_type": "code",
   "execution_count": 23,
   "id": "7064faf2",
   "metadata": {},
   "outputs": [],
   "source": [
    "from sklearn.model_selection import GridSearchCV"
   ]
  },
  {
   "cell_type": "code",
   "execution_count": 24,
   "id": "a1702402",
   "metadata": {},
   "outputs": [],
   "source": [
    "param_dist={\n",
    "    'solver' : ['svd'],\n",
    "    'tol' : [0.0001,0.0002,0.0003]\n",
    "}"
   ]
  },
  {
   "cell_type": "code",
   "execution_count": 25,
   "id": "dd60d58d",
   "metadata": {},
   "outputs": [],
   "source": [
    "grid=GridSearchCV(lda,param_grid=param_dist,cv=10,scoring = 'accuracy',n_jobs=-1)"
   ]
  },
  {
   "cell_type": "code",
   "execution_count": 26,
   "id": "1b83874f",
   "metadata": {},
   "outputs": [
    {
     "data": {
      "text/plain": [
       "GridSearchCV(cv=10, estimator=LinearDiscriminantAnalysis(), n_jobs=-1,\n",
       "             param_grid={'solver': ['svd'], 'tol': [0.0001, 0.0002, 0.0003]},\n",
       "             scoring='accuracy')"
      ]
     },
     "execution_count": 26,
     "metadata": {},
     "output_type": "execute_result"
    }
   ],
   "source": [
    "grid.fit(X_train,y_train)"
   ]
  },
  {
   "cell_type": "code",
   "execution_count": 27,
   "id": "4c661a2c",
   "metadata": {},
   "outputs": [
    {
     "data": {
      "text/plain": [
       "LinearDiscriminantAnalysis()"
      ]
     },
     "execution_count": 27,
     "metadata": {},
     "output_type": "execute_result"
    }
   ],
   "source": [
    "grid.best_estimator_"
   ]
  },
  {
   "cell_type": "code",
   "execution_count": 28,
   "id": "6772e82a",
   "metadata": {},
   "outputs": [
    {
     "data": {
      "text/plain": [
       "0.5714285714285714"
      ]
     },
     "execution_count": 28,
     "metadata": {},
     "output_type": "execute_result"
    }
   ],
   "source": [
    "grid.best_score_"
   ]
  },
  {
   "cell_type": "code",
   "execution_count": 29,
   "id": "024cf0d9",
   "metadata": {},
   "outputs": [],
   "source": [
    "lda = LinearDiscriminantAnalysis()"
   ]
  },
  {
   "cell_type": "code",
   "execution_count": 31,
   "id": "5ea56d9b",
   "metadata": {},
   "outputs": [
    {
     "name": "stderr",
     "output_type": "stream",
     "text": [
      "C:\\Users\\George\\anaconda3\\lib\\site-packages\\sklearn\\metrics\\_classification.py:1248: UndefinedMetricWarning: Precision is ill-defined and being set to 0.0 in labels with no predicted samples. Use `zero_division` parameter to control this behavior.\n",
      "  _warn_prf(average, modifier, msg_start, len(result))\n",
      "C:\\Users\\George\\anaconda3\\lib\\site-packages\\sklearn\\metrics\\_classification.py:1248: UndefinedMetricWarning: Precision is ill-defined and being set to 0.0 in labels with no predicted samples. Use `zero_division` parameter to control this behavior.\n",
      "  _warn_prf(average, modifier, msg_start, len(result))\n",
      "C:\\Users\\George\\anaconda3\\lib\\site-packages\\sklearn\\metrics\\_classification.py:1248: UndefinedMetricWarning: Precision is ill-defined and being set to 0.0 in labels with no predicted samples. Use `zero_division` parameter to control this behavior.\n",
      "  _warn_prf(average, modifier, msg_start, len(result))\n"
     ]
    },
    {
     "data": {
      "text/plain": [
       "{'fit_time': array([0.08178067, 0.09474707, 0.09374976, 0.08676815, 0.09375024]),\n",
       " 'score_time': array([0.00199437, 0.00398946, 0.00199389, 0.00299168, 0.00299025]),\n",
       " 'test_accuracy': array([0.425, 0.475, 0.625, 0.6  , 0.6  ]),\n",
       " 'test_f1_macro': array([0.31313926, 0.32777778, 0.52812098, 0.43793794, 0.43597561]),\n",
       " 'test_precision_macro': array([0.3       , 0.33572282, 0.74603175, 0.39933166, 0.40277778]),\n",
       " 'test_recall_macro': array([0.34558824, 0.37867647, 0.53291317, 0.48651961, 0.48284314])}"
      ]
     },
     "execution_count": 31,
     "metadata": {},
     "output_type": "execute_result"
    }
   ],
   "source": [
    "scoring = ['accuracy','f1_macro','precision_macro', 'recall_macro']\n",
    "from sklearn.model_selection import cross_val_score\n",
    "from sklearn.model_selection import cross_validate\n",
    "from sklearn.metrics import recall_score\n",
    "scores = cross_validate(lda, X, y, cv=5,scoring=scoring)\n",
    "scores"
   ]
  },
  {
   "cell_type": "code",
   "execution_count": null,
   "id": "634af178",
   "metadata": {},
   "outputs": [],
   "source": []
  }
 ],
 "metadata": {
  "kernelspec": {
   "display_name": "Python 3 (ipykernel)",
   "language": "python",
   "name": "python3"
  },
  "language_info": {
   "codemirror_mode": {
    "name": "ipython",
    "version": 3
   },
   "file_extension": ".py",
   "mimetype": "text/x-python",
   "name": "python",
   "nbconvert_exporter": "python",
   "pygments_lexer": "ipython3",
   "version": "3.9.7"
  }
 },
 "nbformat": 4,
 "nbformat_minor": 5
}
