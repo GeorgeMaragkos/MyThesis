{
 "cells": [
  {
   "cell_type": "code",
   "execution_count": 18,
   "id": "5b598c17",
   "metadata": {},
   "outputs": [
    {
     "name": "stderr",
     "output_type": "stream",
     "text": [
      "[nltk_data] Downloading package wordnet to\n",
      "[nltk_data]     C:\\Users\\George\\AppData\\Roaming\\nltk_data...\n",
      "[nltk_data]   Package wordnet is already up-to-date!\n",
      "[nltk_data] Downloading package stopwords to\n",
      "[nltk_data]     C:\\Users\\George\\AppData\\Roaming\\nltk_data...\n",
      "[nltk_data]   Package stopwords is already up-to-date!\n"
     ]
    }
   ],
   "source": [
    "# all imports will be in this cell \n",
    "\n",
    "import pandas as pd\n",
    "import string\n",
    "import re\n",
    "import nltk\n",
    "from nltk.stem.porter import PorterStemmer\n",
    "from nltk.stem import WordNetLemmatizer\n",
    "\n",
    "nltk.download('wordnet')\n",
    "nltk.download('stopwords')\n",
    "stopwords = nltk.corpus.stopwords.words('english')\n",
    "porter_stemmer=PorterStemmer()\n",
    "wordnet_lemmatizer = WordNetLemmatizer()"
   ]
  },
  {
   "cell_type": "code",
   "execution_count": 19,
   "id": "4fea783b",
   "metadata": {},
   "outputs": [
    {
     "data": {
      "text/html": [
       "<div>\n",
       "<style scoped>\n",
       "    .dataframe tbody tr th:only-of-type {\n",
       "        vertical-align: middle;\n",
       "    }\n",
       "\n",
       "    .dataframe tbody tr th {\n",
       "        vertical-align: top;\n",
       "    }\n",
       "\n",
       "    .dataframe thead th {\n",
       "        text-align: right;\n",
       "    }\n",
       "</style>\n",
       "<table border=\"1\" class=\"dataframe\">\n",
       "  <thead>\n",
       "    <tr style=\"text-align: right;\">\n",
       "      <th></th>\n",
       "      <th>CLASSES</th>\n",
       "      <th>TEXT</th>\n",
       "    </tr>\n",
       "  </thead>\n",
       "  <tbody>\n",
       "    <tr>\n",
       "      <th>0</th>\n",
       "      <td>GOOD</td>\n",
       "      <td>While P2E gaming platforms combine the metaver...</td>\n",
       "    </tr>\n",
       "    <tr>\n",
       "      <th>1</th>\n",
       "      <td>BAD</td>\n",
       "      <td>Ethereum's co-founder Gavin Wood said cryptoc...</td>\n",
       "    </tr>\n",
       "    <tr>\n",
       "      <th>2</th>\n",
       "      <td>GOOD</td>\n",
       "      <td>Binance Coins (BNB) price posted 1.63% gains ...</td>\n",
       "    </tr>\n",
       "    <tr>\n",
       "      <th>3</th>\n",
       "      <td>BAD</td>\n",
       "      <td>Digital asset investment products saw $141 mil...</td>\n",
       "    </tr>\n",
       "    <tr>\n",
       "      <th>4</th>\n",
       "      <td>BAD</td>\n",
       "      <td>Cardano was trading at $0.4936 by 10:11 (14:1...</td>\n",
       "    </tr>\n",
       "    <tr>\n",
       "      <th>...</th>\n",
       "      <td>...</td>\n",
       "      <td>...</td>\n",
       "    </tr>\n",
       "    <tr>\n",
       "      <th>262</th>\n",
       "      <td>GOOD</td>\n",
       "      <td>In its first major financing round, Ethereum s...</td>\n",
       "    </tr>\n",
       "    <tr>\n",
       "      <th>263</th>\n",
       "      <td>GOOD</td>\n",
       "      <td>Cryptocurrencies traded in the green early tod...</td>\n",
       "    </tr>\n",
       "    <tr>\n",
       "      <th>264</th>\n",
       "      <td>GOOD</td>\n",
       "      <td>One of the methods through which the governmen...</td>\n",
       "    </tr>\n",
       "    <tr>\n",
       "      <th>265</th>\n",
       "      <td>GOOD</td>\n",
       "      <td>Cryptocurrencies traded in the green early on ...</td>\n",
       "    </tr>\n",
       "    <tr>\n",
       "      <th>266</th>\n",
       "      <td>GOOD</td>\n",
       "      <td>Major cryptocurrencies were trading in the gre...</td>\n",
       "    </tr>\n",
       "  </tbody>\n",
       "</table>\n",
       "<p>267 rows × 2 columns</p>\n",
       "</div>"
      ],
      "text/plain": [
       "    CLASSES                                               TEXT\n",
       "0      GOOD  While P2E gaming platforms combine the metaver...\n",
       "1       BAD   Ethereum's co-founder Gavin Wood said cryptoc...\n",
       "2      GOOD  Binance Coins (BNB) price posted 1.63% gains ...\n",
       "3       BAD  Digital asset investment products saw $141 mil...\n",
       "4       BAD   Cardano was trading at $0.4936 by 10:11 (14:1...\n",
       "..      ...                                                ...\n",
       "262    GOOD  In its first major financing round, Ethereum s...\n",
       "263    GOOD  Cryptocurrencies traded in the green early tod...\n",
       "264    GOOD  One of the methods through which the governmen...\n",
       "265    GOOD  Cryptocurrencies traded in the green early on ...\n",
       "266    GOOD  Major cryptocurrencies were trading in the gre...\n",
       "\n",
       "[267 rows x 2 columns]"
      ]
     },
     "execution_count": 19,
     "metadata": {},
     "output_type": "execute_result"
    }
   ],
   "source": [
    "data=pd.read_csv(\"dataset_test_investing_crypto.csv\", encoding=\"ISO-8859-1\", sep=';', header=0)\n",
    "data"
   ]
  },
  {
   "cell_type": "code",
   "execution_count": 20,
   "id": "b2bb868b",
   "metadata": {},
   "outputs": [],
   "source": [
    "# helper functions - all helper functions will be reported here\n",
    "\n",
    "def remove_punctuation(text):\n",
    "    punctuationfree=\"\".join([i for i in text if i not in string.punctuation])\n",
    "    return punctuationfree\n",
    "\n",
    "def tokenization(text):\n",
    "    tokens = re.split('W+', text)\n",
    "    return tokens\n",
    "\n",
    "def remove_stopwords(text):\n",
    "    output= [i for i in text if not i in stopwords]\n",
    "    return output\n",
    "\n",
    "def stemming(text):\n",
    "    stem_text=[porter_stemmer.stem(word) for word in text]\n",
    "    return stem_text\n",
    "\n",
    "def lemmatizer(text):\n",
    "    lemm_text = [wordnet_lemmatizer.lemmatize(word) for word in text]\n",
    "    return lemm_text"
   ]
  },
  {
   "cell_type": "code",
   "execution_count": 21,
   "id": "0268fa1c",
   "metadata": {},
   "outputs": [
    {
     "data": {
      "text/html": [
       "<div>\n",
       "<style scoped>\n",
       "    .dataframe tbody tr th:only-of-type {\n",
       "        vertical-align: middle;\n",
       "    }\n",
       "\n",
       "    .dataframe tbody tr th {\n",
       "        vertical-align: top;\n",
       "    }\n",
       "\n",
       "    .dataframe thead th {\n",
       "        text-align: right;\n",
       "    }\n",
       "</style>\n",
       "<table border=\"1\" class=\"dataframe\">\n",
       "  <thead>\n",
       "    <tr style=\"text-align: right;\">\n",
       "      <th></th>\n",
       "      <th>CLASSES</th>\n",
       "      <th>TEXT</th>\n",
       "      <th>clean_msg</th>\n",
       "      <th>msg_lower</th>\n",
       "      <th>no_stopwords</th>\n",
       "      <th>no_stopwords2</th>\n",
       "      <th>msg_stemmed</th>\n",
       "      <th>msg_lemmatized</th>\n",
       "      <th>msg_lemmatized_string</th>\n",
       "    </tr>\n",
       "  </thead>\n",
       "  <tbody>\n",
       "    <tr>\n",
       "      <th>0</th>\n",
       "      <td>GOOD</td>\n",
       "      <td>While P2E gaming platforms combine the metaver...</td>\n",
       "      <td>While P2E gaming platforms combine the metaver...</td>\n",
       "      <td>while p2e gaming platforms combine the metaver...</td>\n",
       "      <td>[while, gaming, platforms, combine, the, metav...</td>\n",
       "      <td>[gaming, platforms, combine, metaverse, web, o...</td>\n",
       "      <td>[game, platform, combin, metavers, web, offer,...</td>\n",
       "      <td>[game, platform, combin, metavers, web, offer,...</td>\n",
       "      <td>game platform combin metavers web offer medium...</td>\n",
       "    </tr>\n",
       "    <tr>\n",
       "      <th>1</th>\n",
       "      <td>BAD</td>\n",
       "      <td>Ethereum's co-founder Gavin Wood said cryptoc...</td>\n",
       "      <td>Ethereums cofounder Gavin Wood said cryptocur...</td>\n",
       "      <td>ethereums cofounder gavin wood said cryptocur...</td>\n",
       "      <td>[ethereums, cofounder, gavin, wood, said, cryp...</td>\n",
       "      <td>[ethereums, cofounder, gavin, wood, said, cryp...</td>\n",
       "      <td>[ethereum, cofound, gavin, wood, said, cryptoc...</td>\n",
       "      <td>[ethereum, cofound, gavin, wood, said, cryptoc...</td>\n",
       "      <td>ethereum cofound gavin wood said cryptocurr in...</td>\n",
       "    </tr>\n",
       "    <tr>\n",
       "      <th>2</th>\n",
       "      <td>GOOD</td>\n",
       "      <td>Binance Coins (BNB) price posted 1.63% gains ...</td>\n",
       "      <td>Binance Coins BNB price posted 163 gains in t...</td>\n",
       "      <td>binance coins bnb price posted 163 gains in t...</td>\n",
       "      <td>[binance, coin, bnb, price, posted, gains, in,...</td>\n",
       "      <td>[binance, coin, bnb, price, posted, gains, las...</td>\n",
       "      <td>[binanc, coin, bnb, price, post, gain, last, h...</td>\n",
       "      <td>[binanc, coin, bnb, price, post, gain, last, h...</td>\n",
       "      <td>binanc coin bnb price post gain last hour take...</td>\n",
       "    </tr>\n",
       "    <tr>\n",
       "      <th>3</th>\n",
       "      <td>BAD</td>\n",
       "      <td>Digital asset investment products saw $141 mil...</td>\n",
       "      <td>Digital asset investment products saw 141 mill...</td>\n",
       "      <td>digital asset investment products saw 141 mill...</td>\n",
       "      <td>[digital, asset, investment, products, saw, mi...</td>\n",
       "      <td>[digital, asset, investment, products, saw, mi...</td>\n",
       "      <td>[digit, asset, invest, product, saw, million, ...</td>\n",
       "      <td>[digit, asset, invest, product, saw, million, ...</td>\n",
       "      <td>digit asset invest product saw million outflow...</td>\n",
       "    </tr>\n",
       "    <tr>\n",
       "      <th>4</th>\n",
       "      <td>BAD</td>\n",
       "      <td>Cardano was trading at $0.4936 by 10:11 (14:1...</td>\n",
       "      <td>Cardano was trading at 04936 by 1011 1411 GMT...</td>\n",
       "      <td>cardano was trading at 04936 by 1011 1411 gmt...</td>\n",
       "      <td>[cardano, was, trading, at, by, gmt, on, the, ...</td>\n",
       "      <td>[cardano, trading, gmt, investingcom, index, t...</td>\n",
       "      <td>[cardano, trade, gmt, investingcom, index, tue...</td>\n",
       "      <td>[cardano, trade, gmt, investingcom, index, tue...</td>\n",
       "      <td>cardano trade gmt investingcom index tuesday d...</td>\n",
       "    </tr>\n",
       "  </tbody>\n",
       "</table>\n",
       "</div>"
      ],
      "text/plain": [
       "  CLASSES                                               TEXT  \\\n",
       "0    GOOD  While P2E gaming platforms combine the metaver...   \n",
       "1     BAD   Ethereum's co-founder Gavin Wood said cryptoc...   \n",
       "2    GOOD  Binance Coins (BNB) price posted 1.63% gains ...   \n",
       "3     BAD  Digital asset investment products saw $141 mil...   \n",
       "4     BAD   Cardano was trading at $0.4936 by 10:11 (14:1...   \n",
       "\n",
       "                                           clean_msg  \\\n",
       "0  While P2E gaming platforms combine the metaver...   \n",
       "1   Ethereums cofounder Gavin Wood said cryptocur...   \n",
       "2  Binance Coins BNB price posted 163 gains in t...   \n",
       "3  Digital asset investment products saw 141 mill...   \n",
       "4   Cardano was trading at 04936 by 1011 1411 GMT...   \n",
       "\n",
       "                                           msg_lower  \\\n",
       "0  while p2e gaming platforms combine the metaver...   \n",
       "1   ethereums cofounder gavin wood said cryptocur...   \n",
       "2  binance coins bnb price posted 163 gains in t...   \n",
       "3  digital asset investment products saw 141 mill...   \n",
       "4   cardano was trading at 04936 by 1011 1411 gmt...   \n",
       "\n",
       "                                        no_stopwords  \\\n",
       "0  [while, gaming, platforms, combine, the, metav...   \n",
       "1  [ethereums, cofounder, gavin, wood, said, cryp...   \n",
       "2  [binance, coin, bnb, price, posted, gains, in,...   \n",
       "3  [digital, asset, investment, products, saw, mi...   \n",
       "4  [cardano, was, trading, at, by, gmt, on, the, ...   \n",
       "\n",
       "                                       no_stopwords2  \\\n",
       "0  [gaming, platforms, combine, metaverse, web, o...   \n",
       "1  [ethereums, cofounder, gavin, wood, said, cryp...   \n",
       "2  [binance, coin, bnb, price, posted, gains, las...   \n",
       "3  [digital, asset, investment, products, saw, mi...   \n",
       "4  [cardano, trading, gmt, investingcom, index, t...   \n",
       "\n",
       "                                         msg_stemmed  \\\n",
       "0  [game, platform, combin, metavers, web, offer,...   \n",
       "1  [ethereum, cofound, gavin, wood, said, cryptoc...   \n",
       "2  [binanc, coin, bnb, price, post, gain, last, h...   \n",
       "3  [digit, asset, invest, product, saw, million, ...   \n",
       "4  [cardano, trade, gmt, investingcom, index, tue...   \n",
       "\n",
       "                                      msg_lemmatized  \\\n",
       "0  [game, platform, combin, metavers, web, offer,...   \n",
       "1  [ethereum, cofound, gavin, wood, said, cryptoc...   \n",
       "2  [binanc, coin, bnb, price, post, gain, last, h...   \n",
       "3  [digit, asset, invest, product, saw, million, ...   \n",
       "4  [cardano, trade, gmt, investingcom, index, tue...   \n",
       "\n",
       "                               msg_lemmatized_string  \n",
       "0  game platform combin metavers web offer medium...  \n",
       "1  ethereum cofound gavin wood said cryptocurr in...  \n",
       "2  binanc coin bnb price post gain last hour take...  \n",
       "3  digit asset invest product saw million outflow...  \n",
       "4  cardano trade gmt investingcom index tuesday d...  "
      ]
     },
     "execution_count": 21,
     "metadata": {},
     "output_type": "execute_result"
    }
   ],
   "source": [
    "# data preprocess\n",
    "\n",
    "# remove punctuation from Text column - create a new column \n",
    "data['clean_msg']=data['TEXT'].apply(lambda x:remove_punctuation(x))\n",
    "\n",
    "# lower all letters - create a new column \n",
    "data['msg_lower']=data['clean_msg'].apply(lambda x: x.lower())\n",
    "\n",
    "import gensim\n",
    "data['no_stopwords']=data['msg_lower'].apply(gensim.utils.simple_preprocess)\n",
    "\n",
    "# tokenize all rows - create a new column \n",
    "#data['msg_tokenied']= data['msg_lower'].apply(lambda x: tokenization(x))\n",
    "\n",
    "# remove stopwords - create a new column\n",
    "data['no_stopwords2']=data['no_stopwords'].apply(lambda x:remove_stopwords(x))\n",
    "\n",
    "# stemme texts - create a new column\n",
    "data['msg_stemmed']=data['no_stopwords2'].apply(lambda x:stemming(x))\n",
    "\n",
    "# lemmatize texts - create a new column\n",
    "data['msg_lemmatized']=data['msg_stemmed'].apply(lambda x:lemmatizer(x))\n",
    "\n",
    "data['msg_lemmatized_string']=data['msg_lemmatized'].apply(lambda x: ' '.join(map(str, x)))\n",
    "\n",
    "data.head()"
   ]
  },
  {
   "cell_type": "code",
   "execution_count": 22,
   "id": "22dfd793",
   "metadata": {},
   "outputs": [],
   "source": [
    "#  Data analysis \n",
    "\n",
    "from sklearn.feature_extraction.text import TfidfVectorizer\n",
    "from sklearn.model_selection import train_test_split\n",
    "\n",
    "from sklearn.tree import DecisionTreeClassifier\n",
    "\n",
    "from sklearn.metrics import accuracy_score, recall_score, precision_score, f1_score\n",
    "from sklearn.metrics import confusion_matrix, ConfusionMatrixDisplay\n",
    "\n",
    "from sklearn.feature_extraction.text import CountVectorizer\n",
    "from sklearn.neural_network import MLPClassifier"
   ]
  },
  {
   "cell_type": "code",
   "execution_count": 23,
   "id": "2338ba48",
   "metadata": {},
   "outputs": [
    {
     "name": "stdout",
     "output_type": "stream",
     "text": [
      "[[0. 0. 0. ... 0. 0. 0.]\n",
      " [0. 0. 0. ... 0. 0. 0.]\n",
      " [0. 0. 0. ... 0. 0. 0.]\n",
      " ...\n",
      " [0. 0. 0. ... 0. 0. 0.]\n",
      " [0. 0. 0. ... 0. 0. 0.]\n",
      " [0. 0. 0. ... 0. 0. 0.]]\n"
     ]
    }
   ],
   "source": [
    "# TfId\n",
    "\n",
    "v = TfidfVectorizer(token_pattern=r\"\\b\\w+\\b\")\n",
    "X = v.fit_transform(data['msg_lemmatized_string'])\n",
    "\n",
    "y = data['CLASSES'].to_list()\n",
    "\n",
    "print(X.toarray())\n",
    "## pd.DataFrame(X).to_excel(\"TEMP.xlsx\", index=False) # save a xlsx file to see the tokenized data\n"
   ]
  },
  {
   "cell_type": "code",
   "execution_count": 24,
   "id": "9e98845d",
   "metadata": {},
   "outputs": [
    {
     "name": "stdout",
     "output_type": "stream",
     "text": [
      "  (0, 2730)\t0.1094828253743471\n",
      "  (0, 1105)\t0.1020879506833831\n",
      "  (0, 1301)\t0.12962075773614576\n",
      "  (0, 488)\t0.12962075773614576\n",
      "  (0, 1551)\t0.12070958070672119\n",
      "  (0, 310)\t0.2592415154722915\n",
      "  (0, 3050)\t0.1020879506833831\n",
      "  (0, 1575)\t0.1094828253743471\n",
      "  (0, 31)\t0.10547582295568818\n",
      "  (0, 3373)\t0.08533789059388953\n",
      "  (0, 483)\t0.21095164591137636\n",
      "  (0, 2649)\t0.08848291324871652\n",
      "  (0, 1685)\t0.11438699998511276\n",
      "  (0, 2794)\t0.0942490676233141\n",
      "  (0, 2694)\t0.08258709674722202\n",
      "  (0, 1612)\t0.1094828253743471\n",
      "  (0, 1397)\t0.0921543722525942\n",
      "  (0, 597)\t0.17370838586470017\n",
      "  (0, 1518)\t0.07162043518131707\n",
      "  (0, 1952)\t0.2041759013667662\n",
      "  (0, 2681)\t0.09915324223407976\n",
      "  (0, 3284)\t0.07794301590292552\n",
      "  (0, 1710)\t0.07241971114580606\n",
      "  (0, 3251)\t0.06735333899618902\n",
      "  (0, 1813)\t0.11438699998511276\n",
      "  :\t:\n",
      "  (185, 1518)\t0.06636388888219066\n",
      "  (185, 2998)\t0.09459525620321717\n",
      "  (185, 495)\t0.06564926724976097\n",
      "  (185, 622)\t0.05375738641866218\n",
      "  (185, 3005)\t0.09773447727129803\n",
      "  (185, 850)\t0.08733170407536568\n",
      "  (185, 2528)\t0.08361879361078478\n",
      "  (185, 3077)\t0.08947733165785544\n",
      "  (185, 2112)\t0.1507232959946844\n",
      "  (185, 2405)\t0.09459525620321717\n",
      "  (185, 2078)\t0.0753616479973422\n",
      "  (185, 3173)\t0.07222242692926133\n",
      "  (185, 2247)\t0.07127506417139248\n",
      "  (185, 2495)\t0.1789546633157109\n",
      "  (185, 2345)\t0.08947733165785544\n",
      "  (185, 1762)\t0.0753616479973422\n",
      "  (185, 1583)\t0.09773447727129803\n",
      "  (185, 2040)\t0.05375738641866218\n",
      "  (185, 582)\t0.06240997410406141\n",
      "  (185, 2199)\t0.06364457190320089\n",
      "  (185, 3264)\t0.05625413695482056\n",
      "  (185, 451)\t0.10144738773587893\n",
      "  (185, 2046)\t0.05762755347019981\n",
      "  (185, 2089)\t0.07652565776457466\n",
      "  (185, 2250)\t0.05625413695482056\n",
      "  (0, 3386)\t0.10346094951728384\n",
      "  (0, 2685)\t0.11109877603762348\n",
      "  (0, 1863)\t0.08750023196284994\n",
      "  (0, 1948)\t0.11109877603762348\n",
      "  (0, 1962)\t0.10346094951728384\n",
      "  (0, 187)\t0.0904039988393796\n",
      "  (0, 2395)\t0.11109877603762348\n",
      "  (0, 2086)\t0.10346094951728384\n",
      "  (0, 1225)\t0.10346094951728384\n",
      "  (0, 2987)\t0.10346094951728384\n",
      "  (0, 2151)\t0.10346094951728384\n",
      "  (0, 2716)\t0.09804182535971927\n",
      "  (0, 61)\t0.20692189903456767\n",
      "  (0, 320)\t0.31038284855185144\n",
      "  (0, 225)\t0.09804182535971927\n",
      "  (0, 2941)\t0.18767685220588662\n",
      "  (0, 3140)\t0.33993949872726026\n",
      "  (0, 1491)\t0.08276617231903997\n",
      "  (0, 2520)\t0.09383842610294331\n",
      "  (0, 2133)\t0.08750023196284994\n",
      "  (0, 1535)\t0.08750023196284994\n",
      "  (0, 2019)\t0.0904039988393796\n",
      "  (0, 2197)\t0.10346094951728384\n",
      "  (0, 21)\t0.09804182535971927\n",
      "  (0, 2127)\t0.08750023196284994\n",
      "  :\t:\n",
      "  (80, 952)\t0.18497142571676922\n",
      "  (80, 3300)\t0.18014237183135487\n",
      "  (80, 2341)\t0.18014237183135487\n",
      "  (80, 490)\t0.1591987406074752\n",
      "  (80, 1096)\t0.10983637262075517\n",
      "  (80, 36)\t0.15655268895392882\n",
      "  (80, 2112)\t0.15172363506851447\n",
      "  (80, 2172)\t0.15406710549190533\n",
      "  (80, 2558)\t0.15406710549190533\n",
      "  (80, 1668)\t0.1591987406074752\n",
      "  (80, 3095)\t0.09845359063638208\n",
      "  (80, 186)\t0.10446427012614228\n",
      "  (80, 443)\t0.1350997397443871\n",
      "  (80, 1438)\t0.2588712703779414\n",
      "  (80, 1469)\t0.11698478662566292\n",
      "  (80, 799)\t0.13825510938359553\n",
      "  (80, 853)\t0.21339016247960957\n",
      "  (80, 1594)\t0.10822834022299865\n",
      "  (80, 740)\t0.09005710765741938\n",
      "  (80, 3122)\t0.09160444489887129\n",
      "  (80, 2820)\t0.14950690221311\n",
      "  (80, 1850)\t0.15652453243741277\n",
      "  (80, 737)\t0.07097741424896507\n",
      "  (80, 93)\t0.09604115540178326\n",
      "  (80, 1591)\t0.12813395219108845\n",
      "['GOOD', 'BAD', 'BAD', 'BAD', 'BAD', 'GOOD', 'NEUTRAL', 'GOOD', 'GOOD', 'NEUTRAL', 'GOOD', 'NEUTRAL', 'GOOD', 'GOOD', 'NEUTRAL', 'GOOD', 'BAD', 'NEUTRAL', 'GOOD', 'NEUTRAL', 'BAD', 'NEUTRAL', 'NEUTRAL', 'BAD', 'BAD', 'BAD', 'GOOD', 'GOOD', 'GOOD', 'NEUTRAL', 'BAD', 'BAD', 'NEUTRAL', 'NEUTRAL', 'NEUTRAL', 'GOOD', 'GOOD', 'NEUTRAL', 'BAD', 'NEUTRAL', 'BAD', 'BAD', 'NEUTRAL', 'NEUTRAL', 'NEUTRAL', 'BAD', 'BAD', 'GOOD', 'GOOD', 'BAD', 'BAD', 'BAD', 'GOOD', 'BAD', 'BAD', 'BAD', 'BAD', 'BAD', 'GOOD', 'BAD', 'BAD', 'GOOD', 'GOOD', 'NEUTRAL', 'BAD', 'NEUTRAL', 'NEUTRAL', 'BAD', 'BAD', 'GOOD', 'GOOD', 'BAD', 'NEUTRAL', 'NEUTRAL', 'GOOD', 'NEUTRAL', 'GOOD', 'BAD', 'GOOD', 'NEUTRAL', 'BAD', 'NEUTRAL', 'GOOD', 'NEUTRAL', 'BAD', 'GOOD', 'GOOD', 'GOOD', 'BAD', 'NEUTRAL', 'BAD', 'NEUTRAL', 'BAD', 'GOOD', 'BAD', 'NEUTRAL', 'GOOD', 'NEUTRAL', 'BAD', 'NEUTRAL', 'GOOD', 'NEUTRAL', 'GOOD', 'BAD', 'NEUTRAL', 'GOOD', 'GOOD', 'BAD', 'NEUTRAL', 'NEUTRAL', 'NEUTRAL', 'GOOD', 'GOOD', 'GOOD', 'BAD', 'NEUTRAL', 'GOOD', 'BAD', 'GOOD', 'NEUTRAL', 'BAD', 'GOOD', 'NEUTRAL', 'NEUTRAL', 'GOOD', 'GOOD', 'BAD', 'NEUTRAL', 'NEUTRAL', 'BAD', 'BAD', 'BAD', 'NEUTRAL', 'BAD', 'GOOD', 'NEUTRAL', 'NEUTRAL', 'BAD', 'GOOD', 'BAD', 'GOOD', 'GOOD', 'GOOD', 'GOOD', 'NEUTRAL', 'NEUTRAL', 'BAD', 'BAD', 'BAD', 'BAD', 'BAD', 'BAD', 'NEUTRAL', 'GOOD', 'BAD', 'GOOD', 'GOOD', 'NEUTRAL', 'NEUTRAL', 'GOOD', 'BAD', 'GOOD', 'GOOD', 'BAD', 'BAD', 'BAD', 'GOOD', 'NEUTRAL', 'BAD', 'BAD', 'BAD', 'GOOD', 'GOOD', 'NEUTRAL', 'NEUTRAL', 'NEUTRAL', 'GOOD', 'GOOD', 'BAD', 'NEUTRAL', 'NEUTRAL', 'NEUTRAL', 'GOOD', 'BAD', 'BAD', 'BAD']\n",
      "['BAD', 'GOOD', 'NEUTRAL', 'BAD', 'BAD', 'BAD', 'GOOD', 'BAD', 'GOOD', 'GOOD', 'NEUTRAL', 'GOOD', 'BAD', 'NEUTRAL', 'BAD', 'GOOD', 'GOOD', 'GOOD', 'GOOD', 'GOOD', 'BAD', 'NEUTRAL', 'BAD', 'NEUTRAL', 'BAD', 'GOOD', 'NEUTRAL', 'GOOD', 'NEUTRAL', 'GOOD', 'NEUTRAL', 'BAD', 'GOOD', 'BAD', 'BAD', 'GOOD', 'GOOD', 'NEUTRAL', 'NEUTRAL', 'GOOD', 'BAD', 'NEUTRAL', 'BAD', 'NEUTRAL', 'NEUTRAL', 'NEUTRAL', 'BAD', 'GOOD', 'GOOD', 'NEUTRAL', 'GOOD', 'GOOD', 'GOOD', 'NEUTRAL', 'NEUTRAL', 'BAD', 'BAD', 'BAD', 'NEUTRAL', 'NEUTRAL', 'BAD', 'NEUTRAL', 'NEUTRAL', 'GOOD', 'BAD', 'BAD', 'BAD', 'GOOD', 'BAD', 'BAD', 'BAD', 'GOOD', 'NEUTRAL', 'NEUTRAL', 'BAD', 'NEUTRAL', 'BAD', 'NEUTRAL', 'NEUTRAL', 'BAD', 'NEUTRAL']\n"
     ]
    }
   ],
   "source": [
    "# split dataset\n",
    "\n",
    "X_train , X_test , y_train , y_test = train_test_split(X, y, test_size=0.3,random_state=4)\n",
    "\n",
    "print(X_train)\n",
    "print(X_test)\n",
    "print(y_train)\n",
    "print(y_test)"
   ]
  },
  {
   "cell_type": "code",
   "execution_count": 25,
   "id": "0cbd6bc8",
   "metadata": {},
   "outputs": [],
   "source": [
    "clf = MLPClassifier(max_iter=300).fit(X_train, y_train)\n",
    "y_pred=clf.predict(X_test)"
   ]
  },
  {
   "cell_type": "code",
   "execution_count": 26,
   "id": "f30749d2",
   "metadata": {},
   "outputs": [
    {
     "name": "stdout",
     "output_type": "stream",
     "text": [
      "Accuracy of training set:                   : 1.000\n",
      "Accuracy                                    : 0.506\n",
      "F1-Score                                    : 0.507\n",
      "Precision                                   : 0.512\n",
      "Recall                                      : 0.506\n"
     ]
    },
    {
     "data": {
      "text/plain": [
       "<sklearn.metrics._plot.confusion_matrix.ConfusionMatrixDisplay at 0x20d87993790>"
      ]
     },
     "execution_count": 26,
     "metadata": {},
     "output_type": "execute_result"
    },
    {
     "data": {
      "image/png": "[encoded data removed]",
      "text/plain": [
       "<Figure size 432x288 with 2 Axes>"
      ]
     },
     "metadata": {
      "needs_background": "light"
     },
     "output_type": "display_data"
    }
   ],
   "source": [
    "# Scores\n",
    "print('Accuracy of training set:                   : {:.3f}'.format(clf.score(X_train, y_train)))\n",
    "print('Accuracy                                    : %.3f'%accuracy_score(y_test, y_pred))\n",
    "print('F1-Score                                    : %.3f'%f1_score(y_test, y_pred, average=\"weighted\"))\n",
    "print('Precision                                   : %.3f'%precision_score(y_test, y_pred, average=\"weighted\"))\n",
    "print('Recall                                      : %.3f'%recall_score(y_test, y_pred, average=\"weighted\"))\n",
    "\n",
    "# Confusion Matrix\n",
    "conf_mat = confusion_matrix(y_test, y_pred)\n",
    "cmd = ConfusionMatrixDisplay(conf_mat, display_labels=['BAD', 'GOOB', 'NEUTRAL'])\n",
    "cmd.plot()"
   ]
  },
  {
   "cell_type": "code",
   "execution_count": 27,
   "id": "65b30788",
   "metadata": {},
   "outputs": [],
   "source": [
    "from sklearn.model_selection import GridSearchCV"
   ]
  },
  {
   "cell_type": "code",
   "execution_count": 28,
   "id": "d368d5a2",
   "metadata": {},
   "outputs": [],
   "source": [
    "param_dist={\n",
    "    'hidden_layer_sizes': [(50,50,50), (50,100,50), (100,)],\n",
    "    'activation': ['tanh', 'relu'],\n",
    "    'solver': ['sgd', 'adam'],\n",
    "    'alpha': [0.0001, 0.05],\n",
    "    'learning_rate': ['constant','adaptive']\n",
    "}"
   ]
  },
  {
   "cell_type": "code",
   "execution_count": 29,
   "id": "2bb279a9",
   "metadata": {},
   "outputs": [],
   "source": [
    "grid=GridSearchCV(clf,param_grid=param_dist,cv=10,n_jobs=-1)"
   ]
  },
  {
   "cell_type": "code",
   "execution_count": 30,
   "id": "d3a43b99",
   "metadata": {},
   "outputs": [
    {
     "data": {
      "text/plain": [
       "GridSearchCV(cv=10, estimator=MLPClassifier(max_iter=300), n_jobs=-1,\n",
       "             param_grid={'activation': ['tanh', 'relu'],\n",
       "                         'alpha': [0.0001, 0.05],\n",
       "                         'hidden_layer_sizes': [(50, 50, 50), (50, 100, 50),\n",
       "                                                (100,)],\n",
       "                         'learning_rate': ['constant', 'adaptive'],\n",
       "                         'solver': ['sgd', 'adam']})"
      ]
     },
     "execution_count": 30,
     "metadata": {},
     "output_type": "execute_result"
    }
   ],
   "source": [
    "grid.fit(X_train,y_train)"
   ]
  },
  {
   "cell_type": "code",
   "execution_count": 31,
   "id": "95003442",
   "metadata": {},
   "outputs": [
    {
     "data": {
      "text/plain": [
       "MLPClassifier(hidden_layer_sizes=(50, 100, 50), max_iter=300)"
      ]
     },
     "execution_count": 31,
     "metadata": {},
     "output_type": "execute_result"
    }
   ],
   "source": [
    "grid.best_estimator_"
   ]
  },
  {
   "cell_type": "code",
   "execution_count": 32,
   "id": "88865874",
   "metadata": {},
   "outputs": [
    {
     "data": {
      "text/plain": [
       "0.6669590643274854"
      ]
     },
     "execution_count": 32,
     "metadata": {},
     "output_type": "execute_result"
    }
   ],
   "source": [
    "grid.best_score_"
   ]
  },
  {
   "cell_type": "code",
   "execution_count": 35,
   "id": "3526f4d5",
   "metadata": {},
   "outputs": [
    {
     "data": {
      "text/plain": [
       "{'activation': 'relu',\n",
       " 'alpha': 0.0001,\n",
       " 'hidden_layer_sizes': (50, 100, 50),\n",
       " 'learning_rate': 'constant',\n",
       " 'solver': 'adam'}"
      ]
     },
     "execution_count": 35,
     "metadata": {},
     "output_type": "execute_result"
    }
   ],
   "source": [
    "grid.best_params_"
   ]
  },
  {
   "cell_type": "code",
   "execution_count": 36,
   "id": "9d16e1b4",
   "metadata": {},
   "outputs": [],
   "source": [
    "clf = MLPClassifier(activation='relu', alpha=0.0001, hidden_layer_sizes=(50, 100, 50),learning_rate='constant',solver='adam',max_iter=300)"
   ]
  },
  {
   "cell_type": "code",
   "execution_count": 37,
   "id": "ce82d66c",
   "metadata": {},
   "outputs": [
    {
     "data": {
      "text/plain": [
       "{'fit_time': array([1.30451703, 1.41462564, 1.17235446, 1.01651669, 1.32471085]),\n",
       " 'score_time': array([0.00199485, 0.00299144, 0.0019908 , 0.00199485, 0.00199366]),\n",
       " 'test_accuracy': array([0.59259259, 0.48148148, 0.64150943, 0.56603774, 0.60377358]),\n",
       " 'test_f1_macro': array([0.58665224, 0.48394452, 0.63343519, 0.54239878, 0.57458685]),\n",
       " 'test_precision_macro': array([0.59280303, 0.52749212, 0.64624183, 0.54759358, 0.57107843]),\n",
       " 'test_recall_macro': array([0.58852196, 0.48627451, 0.63235294, 0.55727554, 0.59236326])}"
      ]
     },
     "execution_count": 37,
     "metadata": {},
     "output_type": "execute_result"
    }
   ],
   "source": [
    "scoring = ['accuracy','f1_macro','precision_macro', 'recall_macro']\n",
    "from sklearn.model_selection import cross_val_score\n",
    "from sklearn.model_selection import cross_validate\n",
    "from sklearn.metrics import recall_score\n",
    "scores = cross_validate(clf, X, y, cv=5,scoring=scoring)\n",
    "scores"
   ]
  },
  {
   "cell_type": "code",
   "execution_count": null,
   "id": "6425556c",
   "metadata": {},
   "outputs": [],
   "source": []
  }
 ],
 "metadata": {
  "kernelspec": {
   "display_name": "Python 3 (ipykernel)",
   "language": "python",
   "name": "python3"
  },
  "language_info": {
   "codemirror_mode": {
    "name": "ipython",
    "version": 3
   },
   "file_extension": ".py",
   "mimetype": "text/x-python",
   "name": "python",
   "nbconvert_exporter": "python",
   "pygments_lexer": "ipython3",
   "version": "3.9.7"
  }
 },
 "nbformat": 4,
 "nbformat_minor": 5
}
