{
 "cells": [
  {
   "cell_type": "code",
   "execution_count": 61,
   "id": "a994d73b",
   "metadata": {},
   "outputs": [
    {
     "name": "stderr",
     "output_type": "stream",
     "text": [
      "[nltk_data] Downloading package wordnet to\n",
      "[nltk_data]     C:\\Users\\George\\AppData\\Roaming\\nltk_data...\n",
      "[nltk_data]   Package wordnet is already up-to-date!\n",
      "[nltk_data] Downloading package stopwords to\n",
      "[nltk_data]     C:\\Users\\George\\AppData\\Roaming\\nltk_data...\n",
      "[nltk_data]   Package stopwords is already up-to-date!\n"
     ]
    }
   ],
   "source": [
    "# all imports will be in this cell \n",
    "\n",
    "import pandas as pd\n",
    "import string\n",
    "import re\n",
    "import nltk\n",
    "from nltk.stem.porter import PorterStemmer\n",
    "from nltk.stem import WordNetLemmatizer\n",
    "\n",
    "nltk.download('wordnet')\n",
    "nltk.download('stopwords')\n",
    "stopwords = nltk.corpus.stopwords.words('english')\n",
    "porter_stemmer=PorterStemmer()\n",
    "wordnet_lemmatizer = WordNetLemmatizer()"
   ]
  },
  {
   "cell_type": "code",
   "execution_count": 62,
   "id": "f0baf4ae",
   "metadata": {},
   "outputs": [
    {
     "data": {
      "text/html": [
       "<div>\n",
       "<style scoped>\n",
       "    .dataframe tbody tr th:only-of-type {\n",
       "        vertical-align: middle;\n",
       "    }\n",
       "\n",
       "    .dataframe tbody tr th {\n",
       "        vertical-align: top;\n",
       "    }\n",
       "\n",
       "    .dataframe thead th {\n",
       "        text-align: right;\n",
       "    }\n",
       "</style>\n",
       "<table border=\"1\" class=\"dataframe\">\n",
       "  <thead>\n",
       "    <tr style=\"text-align: right;\">\n",
       "      <th></th>\n",
       "      <th>CLASSES</th>\n",
       "      <th>TEXT</th>\n",
       "    </tr>\n",
       "  </thead>\n",
       "  <tbody>\n",
       "    <tr>\n",
       "      <th>0</th>\n",
       "      <td>GOOD</td>\n",
       "      <td>While P2E gaming platforms combine the metaver...</td>\n",
       "    </tr>\n",
       "    <tr>\n",
       "      <th>1</th>\n",
       "      <td>BAD</td>\n",
       "      <td>Ethereum's co-founder Gavin Wood said cryptoc...</td>\n",
       "    </tr>\n",
       "    <tr>\n",
       "      <th>2</th>\n",
       "      <td>GOOD</td>\n",
       "      <td>Binance Coins (BNB) price posted 1.63% gains ...</td>\n",
       "    </tr>\n",
       "    <tr>\n",
       "      <th>3</th>\n",
       "      <td>BAD</td>\n",
       "      <td>Digital asset investment products saw $141 mil...</td>\n",
       "    </tr>\n",
       "    <tr>\n",
       "      <th>4</th>\n",
       "      <td>BAD</td>\n",
       "      <td>Cardano was trading at $0.4936 by 10:11 (14:1...</td>\n",
       "    </tr>\n",
       "    <tr>\n",
       "      <th>...</th>\n",
       "      <td>...</td>\n",
       "      <td>...</td>\n",
       "    </tr>\n",
       "    <tr>\n",
       "      <th>262</th>\n",
       "      <td>GOOD</td>\n",
       "      <td>In its first major financing round, Ethereum s...</td>\n",
       "    </tr>\n",
       "    <tr>\n",
       "      <th>263</th>\n",
       "      <td>GOOD</td>\n",
       "      <td>Cryptocurrencies traded in the green early tod...</td>\n",
       "    </tr>\n",
       "    <tr>\n",
       "      <th>264</th>\n",
       "      <td>GOOD</td>\n",
       "      <td>One of the methods through which the governmen...</td>\n",
       "    </tr>\n",
       "    <tr>\n",
       "      <th>265</th>\n",
       "      <td>GOOD</td>\n",
       "      <td>Cryptocurrencies traded in the green early on ...</td>\n",
       "    </tr>\n",
       "    <tr>\n",
       "      <th>266</th>\n",
       "      <td>GOOD</td>\n",
       "      <td>Major cryptocurrencies were trading in the gre...</td>\n",
       "    </tr>\n",
       "  </tbody>\n",
       "</table>\n",
       "<p>267 rows × 2 columns</p>\n",
       "</div>"
      ],
      "text/plain": [
       "    CLASSES                                               TEXT\n",
       "0      GOOD  While P2E gaming platforms combine the metaver...\n",
       "1       BAD   Ethereum's co-founder Gavin Wood said cryptoc...\n",
       "2      GOOD  Binance Coins (BNB) price posted 1.63% gains ...\n",
       "3       BAD  Digital asset investment products saw $141 mil...\n",
       "4       BAD   Cardano was trading at $0.4936 by 10:11 (14:1...\n",
       "..      ...                                                ...\n",
       "262    GOOD  In its first major financing round, Ethereum s...\n",
       "263    GOOD  Cryptocurrencies traded in the green early tod...\n",
       "264    GOOD  One of the methods through which the governmen...\n",
       "265    GOOD  Cryptocurrencies traded in the green early on ...\n",
       "266    GOOD  Major cryptocurrencies were trading in the gre...\n",
       "\n",
       "[267 rows x 2 columns]"
      ]
     },
     "execution_count": 62,
     "metadata": {},
     "output_type": "execute_result"
    }
   ],
   "source": [
    "data=pd.read_csv(\"dataset_test_investing_crypto.csv\", encoding=\"ISO-8859-1\", sep=';', header=0)\n",
    "data"
   ]
  },
  {
   "cell_type": "code",
   "execution_count": 63,
   "id": "2769f0d4",
   "metadata": {},
   "outputs": [],
   "source": [
    "# helper functions - all helper functions will be reported here\n",
    "\n",
    "def remove_punctuation(text):\n",
    "    punctuationfree=\"\".join([i for i in text if i not in string.punctuation])\n",
    "    return punctuationfree\n",
    "\n",
    "def tokenization(text):\n",
    "    tokens = re.split('W+', text)\n",
    "    return tokens\n",
    "\n",
    "def remove_stopwords(text):\n",
    "    output= [i for i in text if not i in stopwords]\n",
    "    return output\n",
    "\n",
    "def stemming(text):\n",
    "    stem_text=[porter_stemmer.stem(word) for word in text]\n",
    "    return stem_text\n",
    "\n",
    "def lemmatizer(text):\n",
    "    lemm_text = [wordnet_lemmatizer.lemmatize(word) for word in text]\n",
    "    return lemm_text"
   ]
  },
  {
   "cell_type": "code",
   "execution_count": 64,
   "id": "eb3270b1",
   "metadata": {},
   "outputs": [
    {
     "data": {
      "text/html": [
       "<div>\n",
       "<style scoped>\n",
       "    .dataframe tbody tr th:only-of-type {\n",
       "        vertical-align: middle;\n",
       "    }\n",
       "\n",
       "    .dataframe tbody tr th {\n",
       "        vertical-align: top;\n",
       "    }\n",
       "\n",
       "    .dataframe thead th {\n",
       "        text-align: right;\n",
       "    }\n",
       "</style>\n",
       "<table border=\"1\" class=\"dataframe\">\n",
       "  <thead>\n",
       "    <tr style=\"text-align: right;\">\n",
       "      <th></th>\n",
       "      <th>CLASSES</th>\n",
       "      <th>TEXT</th>\n",
       "      <th>clean_msg</th>\n",
       "      <th>msg_lower</th>\n",
       "      <th>no_stopwords</th>\n",
       "      <th>no_stopwords2</th>\n",
       "      <th>msg_stemmed</th>\n",
       "      <th>msg_lemmatized</th>\n",
       "      <th>msg_lemmatized_string</th>\n",
       "    </tr>\n",
       "  </thead>\n",
       "  <tbody>\n",
       "    <tr>\n",
       "      <th>0</th>\n",
       "      <td>GOOD</td>\n",
       "      <td>While P2E gaming platforms combine the metaver...</td>\n",
       "      <td>While P2E gaming platforms combine the metaver...</td>\n",
       "      <td>while p2e gaming platforms combine the metaver...</td>\n",
       "      <td>[while, gaming, platforms, combine, the, metav...</td>\n",
       "      <td>[gaming, platforms, combine, metaverse, web, o...</td>\n",
       "      <td>[game, platform, combin, metavers, web, offer,...</td>\n",
       "      <td>[game, platform, combin, metavers, web, offer,...</td>\n",
       "      <td>game platform combin metavers web offer medium...</td>\n",
       "    </tr>\n",
       "    <tr>\n",
       "      <th>1</th>\n",
       "      <td>BAD</td>\n",
       "      <td>Ethereum's co-founder Gavin Wood said cryptoc...</td>\n",
       "      <td>Ethereums cofounder Gavin Wood said cryptocur...</td>\n",
       "      <td>ethereums cofounder gavin wood said cryptocur...</td>\n",
       "      <td>[ethereums, cofounder, gavin, wood, said, cryp...</td>\n",
       "      <td>[ethereums, cofounder, gavin, wood, said, cryp...</td>\n",
       "      <td>[ethereum, cofound, gavin, wood, said, cryptoc...</td>\n",
       "      <td>[ethereum, cofound, gavin, wood, said, cryptoc...</td>\n",
       "      <td>ethereum cofound gavin wood said cryptocurr in...</td>\n",
       "    </tr>\n",
       "    <tr>\n",
       "      <th>2</th>\n",
       "      <td>GOOD</td>\n",
       "      <td>Binance Coins (BNB) price posted 1.63% gains ...</td>\n",
       "      <td>Binance Coins BNB price posted 163 gains in t...</td>\n",
       "      <td>binance coins bnb price posted 163 gains in t...</td>\n",
       "      <td>[binance, coin, bnb, price, posted, gains, in,...</td>\n",
       "      <td>[binance, coin, bnb, price, posted, gains, las...</td>\n",
       "      <td>[binanc, coin, bnb, price, post, gain, last, h...</td>\n",
       "      <td>[binanc, coin, bnb, price, post, gain, last, h...</td>\n",
       "      <td>binanc coin bnb price post gain last hour take...</td>\n",
       "    </tr>\n",
       "    <tr>\n",
       "      <th>3</th>\n",
       "      <td>BAD</td>\n",
       "      <td>Digital asset investment products saw $141 mil...</td>\n",
       "      <td>Digital asset investment products saw 141 mill...</td>\n",
       "      <td>digital asset investment products saw 141 mill...</td>\n",
       "      <td>[digital, asset, investment, products, saw, mi...</td>\n",
       "      <td>[digital, asset, investment, products, saw, mi...</td>\n",
       "      <td>[digit, asset, invest, product, saw, million, ...</td>\n",
       "      <td>[digit, asset, invest, product, saw, million, ...</td>\n",
       "      <td>digit asset invest product saw million outflow...</td>\n",
       "    </tr>\n",
       "    <tr>\n",
       "      <th>4</th>\n",
       "      <td>BAD</td>\n",
       "      <td>Cardano was trading at $0.4936 by 10:11 (14:1...</td>\n",
       "      <td>Cardano was trading at 04936 by 1011 1411 GMT...</td>\n",
       "      <td>cardano was trading at 04936 by 1011 1411 gmt...</td>\n",
       "      <td>[cardano, was, trading, at, by, gmt, on, the, ...</td>\n",
       "      <td>[cardano, trading, gmt, investingcom, index, t...</td>\n",
       "      <td>[cardano, trade, gmt, investingcom, index, tue...</td>\n",
       "      <td>[cardano, trade, gmt, investingcom, index, tue...</td>\n",
       "      <td>cardano trade gmt investingcom index tuesday d...</td>\n",
       "    </tr>\n",
       "  </tbody>\n",
       "</table>\n",
       "</div>"
      ],
      "text/plain": [
       "  CLASSES                                               TEXT  \\\n",
       "0    GOOD  While P2E gaming platforms combine the metaver...   \n",
       "1     BAD   Ethereum's co-founder Gavin Wood said cryptoc...   \n",
       "2    GOOD  Binance Coins (BNB) price posted 1.63% gains ...   \n",
       "3     BAD  Digital asset investment products saw $141 mil...   \n",
       "4     BAD   Cardano was trading at $0.4936 by 10:11 (14:1...   \n",
       "\n",
       "                                           clean_msg  \\\n",
       "0  While P2E gaming platforms combine the metaver...   \n",
       "1   Ethereums cofounder Gavin Wood said cryptocur...   \n",
       "2  Binance Coins BNB price posted 163 gains in t...   \n",
       "3  Digital asset investment products saw 141 mill...   \n",
       "4   Cardano was trading at 04936 by 1011 1411 GMT...   \n",
       "\n",
       "                                           msg_lower  \\\n",
       "0  while p2e gaming platforms combine the metaver...   \n",
       "1   ethereums cofounder gavin wood said cryptocur...   \n",
       "2  binance coins bnb price posted 163 gains in t...   \n",
       "3  digital asset investment products saw 141 mill...   \n",
       "4   cardano was trading at 04936 by 1011 1411 gmt...   \n",
       "\n",
       "                                        no_stopwords  \\\n",
       "0  [while, gaming, platforms, combine, the, metav...   \n",
       "1  [ethereums, cofounder, gavin, wood, said, cryp...   \n",
       "2  [binance, coin, bnb, price, posted, gains, in,...   \n",
       "3  [digital, asset, investment, products, saw, mi...   \n",
       "4  [cardano, was, trading, at, by, gmt, on, the, ...   \n",
       "\n",
       "                                       no_stopwords2  \\\n",
       "0  [gaming, platforms, combine, metaverse, web, o...   \n",
       "1  [ethereums, cofounder, gavin, wood, said, cryp...   \n",
       "2  [binance, coin, bnb, price, posted, gains, las...   \n",
       "3  [digital, asset, investment, products, saw, mi...   \n",
       "4  [cardano, trading, gmt, investingcom, index, t...   \n",
       "\n",
       "                                         msg_stemmed  \\\n",
       "0  [game, platform, combin, metavers, web, offer,...   \n",
       "1  [ethereum, cofound, gavin, wood, said, cryptoc...   \n",
       "2  [binanc, coin, bnb, price, post, gain, last, h...   \n",
       "3  [digit, asset, invest, product, saw, million, ...   \n",
       "4  [cardano, trade, gmt, investingcom, index, tue...   \n",
       "\n",
       "                                      msg_lemmatized  \\\n",
       "0  [game, platform, combin, metavers, web, offer,...   \n",
       "1  [ethereum, cofound, gavin, wood, said, cryptoc...   \n",
       "2  [binanc, coin, bnb, price, post, gain, last, h...   \n",
       "3  [digit, asset, invest, product, saw, million, ...   \n",
       "4  [cardano, trade, gmt, investingcom, index, tue...   \n",
       "\n",
       "                               msg_lemmatized_string  \n",
       "0  game platform combin metavers web offer medium...  \n",
       "1  ethereum cofound gavin wood said cryptocurr in...  \n",
       "2  binanc coin bnb price post gain last hour take...  \n",
       "3  digit asset invest product saw million outflow...  \n",
       "4  cardano trade gmt investingcom index tuesday d...  "
      ]
     },
     "execution_count": 64,
     "metadata": {},
     "output_type": "execute_result"
    }
   ],
   "source": [
    "# data preprocess\n",
    "\n",
    "# remove punctuation from Text column - create a new column \n",
    "data['clean_msg']=data['TEXT'].apply(lambda x:remove_punctuation(x))\n",
    "\n",
    "# lower all letters - create a new column \n",
    "data['msg_lower']=data['clean_msg'].apply(lambda x: x.lower())\n",
    "\n",
    "import gensim\n",
    "data['no_stopwords']=data['msg_lower'].apply(gensim.utils.simple_preprocess)\n",
    "\n",
    "# tokenize all rows - create a new column \n",
    "#data['msg_tokenied']= data['msg_lower'].apply(lambda x: tokenization(x))\n",
    "\n",
    "# remove stopwords - create a new column\n",
    "data['no_stopwords2']=data['no_stopwords'].apply(lambda x:remove_stopwords(x))\n",
    "\n",
    "# stemme texts - create a new column\n",
    "data['msg_stemmed']=data['no_stopwords2'].apply(lambda x:stemming(x))\n",
    "\n",
    "# lemmatize texts - create a new column\n",
    "data['msg_lemmatized']=data['msg_stemmed'].apply(lambda x:lemmatizer(x))\n",
    "\n",
    "data['msg_lemmatized_string']=data['msg_lemmatized'].apply(lambda x: ' '.join(map(str, x)))\n",
    "\n",
    "data.head()"
   ]
  },
  {
   "cell_type": "code",
   "execution_count": 65,
   "id": "ec0139c1",
   "metadata": {},
   "outputs": [],
   "source": [
    "#  Data analysis \n",
    "\n",
    "from sklearn.feature_extraction.text import TfidfVectorizer\n",
    "from sklearn.model_selection import train_test_split\n",
    "\n",
    "from sklearn.tree import DecisionTreeClassifier\n",
    "\n",
    "from sklearn.metrics import accuracy_score, recall_score, precision_score, f1_score\n",
    "from sklearn.metrics import confusion_matrix, ConfusionMatrixDisplay\n",
    "\n",
    "from sklearn.feature_extraction.text import CountVectorizer\n",
    "from sklearn import tree"
   ]
  },
  {
   "cell_type": "code",
   "execution_count": 66,
   "id": "0a7f563b",
   "metadata": {},
   "outputs": [
    {
     "name": "stdout",
     "output_type": "stream",
     "text": [
      "[[0 0 0 ... 0 0 0]\n",
      " [0 0 0 ... 0 0 0]\n",
      " [0 0 0 ... 0 0 0]\n",
      " ...\n",
      " [0 0 0 ... 0 0 0]\n",
      " [0 0 0 ... 0 0 0]\n",
      " [0 0 0 ... 0 0 0]]\n"
     ]
    }
   ],
   "source": [
    "v = CountVectorizer()\n",
    "X = v.fit_transform(data['msg_lemmatized_string'])\n",
    "y = data['CLASSES'].to_list()\n",
    "print(X.toarray())"
   ]
  },
  {
   "cell_type": "code",
   "execution_count": 67,
   "id": "43272e74",
   "metadata": {},
   "outputs": [
    {
     "name": "stdout",
     "output_type": "stream",
     "text": [
      "  (0, 1298)\t3\n",
      "  (0, 2046)\t4\n",
      "  (0, 3121)\t1\n",
      "  (0, 1307)\t1\n",
      "  (0, 1192)\t1\n",
      "  (0, 2040)\t2\n",
      "  (0, 3250)\t1\n",
      "  (0, 788)\t1\n",
      "  (0, 868)\t2\n",
      "  (0, 186)\t2\n",
      "  (0, 2687)\t1\n",
      "  (0, 2247)\t1\n",
      "  (0, 138)\t2\n",
      "  (0, 83)\t2\n",
      "  (0, 3094)\t1\n",
      "  (0, 2173)\t1\n",
      "  (0, 2059)\t1\n",
      "  (0, 1795)\t4\n",
      "  (0, 3303)\t3\n",
      "  (0, 1813)\t1\n",
      "  (0, 3249)\t1\n",
      "  (0, 1710)\t1\n",
      "  (0, 3282)\t1\n",
      "  (0, 2680)\t1\n",
      "  (0, 1952)\t2\n",
      "  :\t:\n",
      "  (185, 3326)\t1\n",
      "  (185, 1100)\t2\n",
      "  (185, 886)\t1\n",
      "  (185, 2222)\t2\n",
      "  (185, 1940)\t1\n",
      "  (185, 3090)\t1\n",
      "  (185, 2541)\t1\n",
      "  (185, 156)\t1\n",
      "  (185, 377)\t1\n",
      "  (185, 166)\t1\n",
      "  (185, 1739)\t1\n",
      "  (185, 1007)\t1\n",
      "  (185, 534)\t1\n",
      "  (185, 2966)\t1\n",
      "  (185, 522)\t1\n",
      "  (185, 1767)\t1\n",
      "  (185, 389)\t1\n",
      "  (185, 1488)\t1\n",
      "  (185, 2033)\t1\n",
      "  (185, 3222)\t1\n",
      "  (185, 2511)\t1\n",
      "  (185, 1944)\t1\n",
      "  (185, 3115)\t1\n",
      "  (185, 3382)\t1\n",
      "  (185, 133)\t1\n",
      "  (0, 93)\t1\n",
      "  (0, 1702)\t1\n",
      "  (0, 3400)\t1\n",
      "  (0, 1459)\t1\n",
      "  (0, 2001)\t1\n",
      "  (0, 976)\t1\n",
      "  (0, 975)\t1\n",
      "  (0, 414)\t1\n",
      "  (0, 846)\t1\n",
      "  (0, 2040)\t1\n",
      "  (0, 1733)\t1\n",
      "  (0, 72)\t1\n",
      "  (0, 681)\t1\n",
      "  (0, 3017)\t2\n",
      "  (0, 17)\t1\n",
      "  (0, 312)\t1\n",
      "  (0, 761)\t1\n",
      "  (0, 186)\t2\n",
      "  (0, 120)\t1\n",
      "  (0, 1933)\t1\n",
      "  (0, 2112)\t4\n",
      "  (0, 2661)\t1\n",
      "  (0, 2596)\t2\n",
      "  (0, 2598)\t3\n",
      "  (0, 1165)\t1\n",
      "  :\t:\n",
      "  (80, 1469)\t1\n",
      "  (80, 1438)\t2\n",
      "  (80, 443)\t1\n",
      "  (80, 186)\t1\n",
      "  (80, 3094)\t1\n",
      "  (80, 1668)\t1\n",
      "  (80, 2557)\t1\n",
      "  (80, 2172)\t1\n",
      "  (80, 2112)\t1\n",
      "  (80, 36)\t1\n",
      "  (80, 1096)\t1\n",
      "  (80, 490)\t1\n",
      "  (80, 2341)\t1\n",
      "  (80, 3298)\t1\n",
      "  (80, 952)\t1\n",
      "  (80, 1838)\t1\n",
      "  (80, 3361)\t1\n",
      "  (80, 2019)\t1\n",
      "  (80, 2778)\t1\n",
      "  (80, 859)\t1\n",
      "  (80, 3086)\t1\n",
      "  (80, 2148)\t1\n",
      "  (80, 3005)\t1\n",
      "  (80, 246)\t1\n",
      "  (80, 1040)\t1\n",
      "['GOOD', 'BAD', 'BAD', 'BAD', 'BAD', 'GOOD', 'NEUTRAL', 'GOOD', 'GOOD', 'NEUTRAL', 'GOOD', 'NEUTRAL', 'GOOD', 'GOOD', 'NEUTRAL', 'GOOD', 'BAD', 'NEUTRAL', 'GOOD', 'NEUTRAL', 'BAD', 'NEUTRAL', 'NEUTRAL', 'BAD', 'BAD', 'BAD', 'GOOD', 'GOOD', 'GOOD', 'NEUTRAL', 'BAD', 'BAD', 'NEUTRAL', 'NEUTRAL', 'NEUTRAL', 'GOOD', 'GOOD', 'NEUTRAL', 'BAD', 'NEUTRAL', 'BAD', 'BAD', 'NEUTRAL', 'NEUTRAL', 'NEUTRAL', 'BAD', 'BAD', 'GOOD', 'GOOD', 'BAD', 'BAD', 'BAD', 'GOOD', 'BAD', 'BAD', 'BAD', 'BAD', 'BAD', 'GOOD', 'BAD', 'BAD', 'GOOD', 'GOOD', 'NEUTRAL', 'BAD', 'NEUTRAL', 'NEUTRAL', 'BAD', 'BAD', 'GOOD', 'GOOD', 'BAD', 'NEUTRAL', 'NEUTRAL', 'GOOD', 'NEUTRAL', 'GOOD', 'BAD', 'GOOD', 'NEUTRAL', 'BAD', 'NEUTRAL', 'GOOD', 'NEUTRAL', 'BAD', 'GOOD', 'GOOD', 'GOOD', 'BAD', 'NEUTRAL', 'BAD', 'NEUTRAL', 'BAD', 'GOOD', 'BAD', 'NEUTRAL', 'GOOD', 'NEUTRAL', 'BAD', 'NEUTRAL', 'GOOD', 'NEUTRAL', 'GOOD', 'BAD', 'NEUTRAL', 'GOOD', 'GOOD', 'BAD', 'NEUTRAL', 'NEUTRAL', 'NEUTRAL', 'GOOD', 'GOOD', 'GOOD', 'BAD', 'NEUTRAL', 'GOOD', 'BAD', 'GOOD', 'NEUTRAL', 'BAD', 'GOOD', 'NEUTRAL', 'NEUTRAL', 'GOOD', 'GOOD', 'BAD', 'NEUTRAL', 'NEUTRAL', 'BAD', 'BAD', 'BAD', 'NEUTRAL', 'BAD', 'GOOD', 'NEUTRAL', 'NEUTRAL', 'BAD', 'GOOD', 'BAD', 'GOOD', 'GOOD', 'GOOD', 'GOOD', 'NEUTRAL', 'NEUTRAL', 'BAD', 'BAD', 'BAD', 'BAD', 'BAD', 'BAD', 'NEUTRAL', 'GOOD', 'BAD', 'GOOD', 'GOOD', 'NEUTRAL', 'NEUTRAL', 'GOOD', 'BAD', 'GOOD', 'GOOD', 'BAD', 'BAD', 'BAD', 'GOOD', 'NEUTRAL', 'BAD', 'BAD', 'BAD', 'GOOD', 'GOOD', 'NEUTRAL', 'NEUTRAL', 'NEUTRAL', 'GOOD', 'GOOD', 'BAD', 'NEUTRAL', 'NEUTRAL', 'NEUTRAL', 'GOOD', 'BAD', 'BAD', 'BAD']\n",
      "['BAD', 'GOOD', 'NEUTRAL', 'BAD', 'BAD', 'BAD', 'GOOD', 'BAD', 'GOOD', 'GOOD', 'NEUTRAL', 'GOOD', 'BAD', 'NEUTRAL', 'BAD', 'GOOD', 'GOOD', 'GOOD', 'GOOD', 'GOOD', 'BAD', 'NEUTRAL', 'BAD', 'NEUTRAL', 'BAD', 'GOOD', 'NEUTRAL', 'GOOD', 'NEUTRAL', 'GOOD', 'NEUTRAL', 'BAD', 'GOOD', 'BAD', 'BAD', 'GOOD', 'GOOD', 'NEUTRAL', 'NEUTRAL', 'GOOD', 'BAD', 'NEUTRAL', 'BAD', 'NEUTRAL', 'NEUTRAL', 'NEUTRAL', 'BAD', 'GOOD', 'GOOD', 'NEUTRAL', 'GOOD', 'GOOD', 'GOOD', 'NEUTRAL', 'NEUTRAL', 'BAD', 'BAD', 'BAD', 'NEUTRAL', 'NEUTRAL', 'BAD', 'NEUTRAL', 'NEUTRAL', 'GOOD', 'BAD', 'BAD', 'BAD', 'GOOD', 'BAD', 'BAD', 'BAD', 'GOOD', 'NEUTRAL', 'NEUTRAL', 'BAD', 'NEUTRAL', 'BAD', 'NEUTRAL', 'NEUTRAL', 'BAD', 'NEUTRAL']\n"
     ]
    }
   ],
   "source": [
    "# split dataset\n",
    "\n",
    "X_train , X_test , y_train , y_test = train_test_split(X, y, test_size=0.3,random_state=4)\n",
    "\n",
    "print(X_train)\n",
    "print(X_test)\n",
    "print(y_train)\n",
    "print(y_test)"
   ]
  },
  {
   "cell_type": "code",
   "execution_count": 68,
   "id": "46503594",
   "metadata": {},
   "outputs": [
    {
     "name": "stdout",
     "output_type": "stream",
     "text": [
      "Accuracy of training set:                   : 1.000\n",
      "Accuracy                                    : 0.432\n",
      "F1-Score                                    : 0.422\n",
      "Precision                                   : 0.448\n",
      "Recall                                      : 0.432\n"
     ]
    },
    {
     "data": {
      "text/plain": [
       "<sklearn.metrics._plot.confusion_matrix.ConfusionMatrixDisplay at 0x1b2f35f4e20>"
      ]
     },
     "execution_count": 68,
     "metadata": {},
     "output_type": "execute_result"
    },
    {
     "data": {
      "image/png": "[encoded data removed]",
      "text/plain": [
       "<Figure size 432x288 with 2 Axes>"
      ]
     },
     "metadata": {
      "needs_background": "light"
     },
     "output_type": "display_data"
    }
   ],
   "source": [
    "# Decision Tree classifier\n",
    "\n",
    "clf = tree.DecisionTreeClassifier().fit(X_train, y_train)\n",
    "y_pred = clf.predict(X_test)\n",
    "\n",
    "# Scores\n",
    "print('Accuracy of training set:                   : {:.3f}'.format(clf.score(X_train, y_train)))\n",
    "print('Accuracy                                    : %.3f'%accuracy_score(y_test, y_pred))\n",
    "print('F1-Score                                    : %.3f'%f1_score(y_test, y_pred, average=\"weighted\"))\n",
    "print('Precision                                   : %.3f'%precision_score(y_test, y_pred, average=\"weighted\"))\n",
    "print('Recall                                      : %.3f'%recall_score(y_test, y_pred, average=\"weighted\"))\n",
    "\n",
    "# Confusion Matrix\n",
    "conf_mat = confusion_matrix(y_test, y_pred)\n",
    "cmd = ConfusionMatrixDisplay(conf_mat, display_labels=['BAD', 'GOOB', 'NEUTRAL'])\n",
    "cmd.plot()"
   ]
  },
  {
   "cell_type": "code",
   "execution_count": 69,
   "id": "574ea529",
   "metadata": {},
   "outputs": [],
   "source": [
    "param_dist={\n",
    "     'criterion': ['gini','entropy'], \n",
    "     'splitter': ['best', 'random'], \n",
    "     'max_depth': [2,4,6,8,10], \n",
    "     'min_samples_split': [2,5,7,10,12], \n",
    "     'min_samples_leaf': [1,3,5,7, 10]\n",
    "}"
   ]
  },
  {
   "cell_type": "code",
   "execution_count": 70,
   "id": "5de7cb2d",
   "metadata": {},
   "outputs": [
    {
     "data": {
      "text/plain": [
       "GridSearchCV(cv=5, estimator=DecisionTreeClassifier(), n_jobs=-1,\n",
       "             param_grid={'criterion': ['gini', 'entropy'],\n",
       "                         'max_depth': [2, 4, 6, 8, 10],\n",
       "                         'min_samples_leaf': [1, 3, 5, 7, 10],\n",
       "                         'min_samples_split': [2, 5, 7, 10, 12],\n",
       "                         'splitter': ['best', 'random']})"
      ]
     },
     "execution_count": 70,
     "metadata": {},
     "output_type": "execute_result"
    }
   ],
   "source": [
    "from sklearn.model_selection import GridSearchCV\n",
    "grid=GridSearchCV(clf,param_grid=param_dist,cv=5,n_jobs=-1)\n",
    "grid.fit(X_train,y_train)"
   ]
  },
  {
   "cell_type": "code",
   "execution_count": 71,
   "id": "23ac0729",
   "metadata": {},
   "outputs": [
    {
     "data": {
      "text/plain": [
       "DecisionTreeClassifier(criterion='entropy', max_depth=10, min_samples_leaf=7,\n",
       "                       min_samples_split=12, splitter='random')"
      ]
     },
     "execution_count": 71,
     "metadata": {},
     "output_type": "execute_result"
    }
   ],
   "source": [
    "grid.best_estimator_"
   ]
  },
  {
   "cell_type": "code",
   "execution_count": 72,
   "id": "71c0b5ac",
   "metadata": {},
   "outputs": [
    {
     "data": {
      "text/plain": [
       "0.5598862019914652"
      ]
     },
     "execution_count": 72,
     "metadata": {},
     "output_type": "execute_result"
    }
   ],
   "source": [
    "grid.best_score_"
   ]
  },
  {
   "cell_type": "code",
   "execution_count": 73,
   "id": "f32fa717",
   "metadata": {},
   "outputs": [
    {
     "data": {
      "text/plain": [
       "{'criterion': 'entropy',\n",
       " 'max_depth': 10,\n",
       " 'min_samples_leaf': 7,\n",
       " 'min_samples_split': 12,\n",
       " 'splitter': 'random'}"
      ]
     },
     "execution_count": 73,
     "metadata": {},
     "output_type": "execute_result"
    }
   ],
   "source": [
    "grid.best_params_"
   ]
  },
  {
   "cell_type": "code",
   "execution_count": 77,
   "id": "e128dec7",
   "metadata": {},
   "outputs": [
    {
     "ename": "SyntaxError",
     "evalue": "invalid syntax (Temp/ipykernel_13536/285650806.py, line 2)",
     "output_type": "error",
     "traceback": [
      "\u001b[1;36m  File \u001b[1;32m\"C:\\Users\\George\\AppData\\Local\\Temp/ipykernel_13536/285650806.py\"\u001b[1;36m, line \u001b[1;32m2\u001b[0m\n\u001b[1;33m    min_samples_split=12, splitter='random')\u001b[0m\n\u001b[1;37m    ^\u001b[0m\n\u001b[1;31mSyntaxError\u001b[0m\u001b[1;31m:\u001b[0m invalid syntax\n"
     ]
    }
   ],
   "source": [
    "clf = tree.DecisionTreeClassifier(criterion='entropy', min_samples_leaf=7,max_depth=10,\n",
    "                       min_samples_split=12, splitter='random')"
   ]
  },
  {
   "cell_type": "code",
   "execution_count": 75,
   "id": "75eaa9a4",
   "metadata": {},
   "outputs": [
    {
     "data": {
      "text/plain": [
       "{'fit_time': array([0.04487681, 0.01695275, 0.01112461, 0.00909019, 0.00809836]),\n",
       " 'score_time': array([0.00598454, 0.00313687, 0.00199485, 0.00199986, 0.0019896 ]),\n",
       " 'test_accuracy': array([0.37037037, 0.51851852, 0.52830189, 0.49056604, 0.50943396]),\n",
       " 'test_f1_macro': array([0.36202356, 0.51444788, 0.52397661, 0.47918802, 0.48205608]),\n",
       " 'test_precision_macro': array([0.39871795, 0.51523109, 0.52645503, 0.50231481, 0.50079365]),\n",
       " 'test_recall_macro': array([0.36922371, 0.52254902, 0.52818627, 0.48503612, 0.49845201])}"
      ]
     },
     "execution_count": 75,
     "metadata": {},
     "output_type": "execute_result"
    }
   ],
   "source": [
    "scoring = ['accuracy','f1_macro','precision_macro', 'recall_macro']\n",
    "from sklearn.model_selection import cross_val_score\n",
    "from sklearn.model_selection import cross_validate\n",
    "from sklearn.metrics import recall_score\n",
    "scores = cross_validate(clf, X, y, cv=5,scoring=scoring)\n",
    "scores"
   ]
  },
  {
   "cell_type": "code",
   "execution_count": null,
   "id": "1b9996e6",
   "metadata": {},
   "outputs": [],
   "source": []
  }
 ],
 "metadata": {
  "kernelspec": {
   "display_name": "Python 3 (ipykernel)",
   "language": "python",
   "name": "python3"
  },
  "language_info": {
   "codemirror_mode": {
    "name": "ipython",
    "version": 3
   },
   "file_extension": ".py",
   "mimetype": "text/x-python",
   "name": "python",
   "nbconvert_exporter": "python",
   "pygments_lexer": "ipython3",
   "version": "3.9.7"
  }
 },
 "nbformat": 4,
 "nbformat_minor": 5
}
