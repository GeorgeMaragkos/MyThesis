{
 "cells": [
  {
   "cell_type": "code",
   "execution_count": 17,
   "id": "552c5487",
   "metadata": {},
   "outputs": [
    {
     "name": "stderr",
     "output_type": "stream",
     "text": [
      "[nltk_data] Downloading package wordnet to\n",
      "[nltk_data]     C:\\Users\\George\\AppData\\Roaming\\nltk_data...\n",
      "[nltk_data]   Package wordnet is already up-to-date!\n",
      "[nltk_data] Downloading package stopwords to\n",
      "[nltk_data]     C:\\Users\\George\\AppData\\Roaming\\nltk_data...\n",
      "[nltk_data]   Package stopwords is already up-to-date!\n"
     ]
    }
   ],
   "source": [
    "# all imports will be in this cell \n",
    "\n",
    "import pandas as pd\n",
    "import string\n",
    "import re\n",
    "import nltk\n",
    "from nltk.stem.porter import PorterStemmer\n",
    "from nltk.stem import WordNetLemmatizer\n",
    "\n",
    "nltk.download('wordnet')\n",
    "nltk.download('stopwords')\n",
    "stopwords = nltk.corpus.stopwords.words('english')\n",
    "porter_stemmer=PorterStemmer()\n",
    "wordnet_lemmatizer = WordNetLemmatizer()"
   ]
  },
  {
   "cell_type": "code",
   "execution_count": 18,
   "id": "586e5cd6",
   "metadata": {},
   "outputs": [
    {
     "data": {
      "text/html": [
       "<div>\n",
       "<style scoped>\n",
       "    .dataframe tbody tr th:only-of-type {\n",
       "        vertical-align: middle;\n",
       "    }\n",
       "\n",
       "    .dataframe tbody tr th {\n",
       "        vertical-align: top;\n",
       "    }\n",
       "\n",
       "    .dataframe thead th {\n",
       "        text-align: right;\n",
       "    }\n",
       "</style>\n",
       "<table border=\"1\" class=\"dataframe\">\n",
       "  <thead>\n",
       "    <tr style=\"text-align: right;\">\n",
       "      <th></th>\n",
       "      <th>CLASSES</th>\n",
       "      <th>TEXT</th>\n",
       "    </tr>\n",
       "  </thead>\n",
       "  <tbody>\n",
       "    <tr>\n",
       "      <th>0</th>\n",
       "      <td>GOOD</td>\n",
       "      <td>While P2E gaming platforms combine the metaver...</td>\n",
       "    </tr>\n",
       "    <tr>\n",
       "      <th>1</th>\n",
       "      <td>BAD</td>\n",
       "      <td>Ethereum's co-founder Gavin Wood said cryptoc...</td>\n",
       "    </tr>\n",
       "    <tr>\n",
       "      <th>2</th>\n",
       "      <td>GOOD</td>\n",
       "      <td>Binance Coins (BNB) price posted 1.63% gains ...</td>\n",
       "    </tr>\n",
       "    <tr>\n",
       "      <th>3</th>\n",
       "      <td>BAD</td>\n",
       "      <td>Digital asset investment products saw $141 mil...</td>\n",
       "    </tr>\n",
       "    <tr>\n",
       "      <th>4</th>\n",
       "      <td>BAD</td>\n",
       "      <td>Cardano was trading at $0.4936 by 10:11 (14:1...</td>\n",
       "    </tr>\n",
       "    <tr>\n",
       "      <th>...</th>\n",
       "      <td>...</td>\n",
       "      <td>...</td>\n",
       "    </tr>\n",
       "    <tr>\n",
       "      <th>262</th>\n",
       "      <td>GOOD</td>\n",
       "      <td>In its first major financing round, Ethereum s...</td>\n",
       "    </tr>\n",
       "    <tr>\n",
       "      <th>263</th>\n",
       "      <td>GOOD</td>\n",
       "      <td>Cryptocurrencies traded in the green early tod...</td>\n",
       "    </tr>\n",
       "    <tr>\n",
       "      <th>264</th>\n",
       "      <td>GOOD</td>\n",
       "      <td>One of the methods through which the governmen...</td>\n",
       "    </tr>\n",
       "    <tr>\n",
       "      <th>265</th>\n",
       "      <td>GOOD</td>\n",
       "      <td>Cryptocurrencies traded in the green early on ...</td>\n",
       "    </tr>\n",
       "    <tr>\n",
       "      <th>266</th>\n",
       "      <td>GOOD</td>\n",
       "      <td>Major cryptocurrencies were trading in the gre...</td>\n",
       "    </tr>\n",
       "  </tbody>\n",
       "</table>\n",
       "<p>267 rows × 2 columns</p>\n",
       "</div>"
      ],
      "text/plain": [
       "    CLASSES                                               TEXT\n",
       "0      GOOD  While P2E gaming platforms combine the metaver...\n",
       "1       BAD   Ethereum's co-founder Gavin Wood said cryptoc...\n",
       "2      GOOD  Binance Coins (BNB) price posted 1.63% gains ...\n",
       "3       BAD  Digital asset investment products saw $141 mil...\n",
       "4       BAD   Cardano was trading at $0.4936 by 10:11 (14:1...\n",
       "..      ...                                                ...\n",
       "262    GOOD  In its first major financing round, Ethereum s...\n",
       "263    GOOD  Cryptocurrencies traded in the green early tod...\n",
       "264    GOOD  One of the methods through which the governmen...\n",
       "265    GOOD  Cryptocurrencies traded in the green early on ...\n",
       "266    GOOD  Major cryptocurrencies were trading in the gre...\n",
       "\n",
       "[267 rows x 2 columns]"
      ]
     },
     "execution_count": 18,
     "metadata": {},
     "output_type": "execute_result"
    }
   ],
   "source": [
    "data=pd.read_csv(\"dataset_test_investing_crypto.csv\", encoding=\"ISO-8859-1\", sep=';', header=0)\n",
    "data"
   ]
  },
  {
   "cell_type": "code",
   "execution_count": 19,
   "id": "5b79d9ad",
   "metadata": {},
   "outputs": [],
   "source": [
    "# helper functions - all helper functions will be reported here\n",
    "\n",
    "def remove_punctuation(text):\n",
    "    punctuationfree=\"\".join([i for i in text if i not in string.punctuation])\n",
    "    return punctuationfree\n",
    "\n",
    "def tokenization(text):\n",
    "    tokens = re.split('W+', text)\n",
    "    return tokens\n",
    "\n",
    "def remove_stopwords(text):\n",
    "    output= [i for i in text if not i in stopwords]\n",
    "    return output\n",
    "\n",
    "def stemming(text):\n",
    "    stem_text=[porter_stemmer.stem(word) for word in text]\n",
    "    return stem_text\n",
    "\n",
    "def lemmatizer(text):\n",
    "    lemm_text = [wordnet_lemmatizer.lemmatize(word) for word in text]\n",
    "    return lemm_text"
   ]
  },
  {
   "cell_type": "code",
   "execution_count": 20,
   "id": "f2ab2563",
   "metadata": {},
   "outputs": [
    {
     "data": {
      "text/html": [
       "<div>\n",
       "<style scoped>\n",
       "    .dataframe tbody tr th:only-of-type {\n",
       "        vertical-align: middle;\n",
       "    }\n",
       "\n",
       "    .dataframe tbody tr th {\n",
       "        vertical-align: top;\n",
       "    }\n",
       "\n",
       "    .dataframe thead th {\n",
       "        text-align: right;\n",
       "    }\n",
       "</style>\n",
       "<table border=\"1\" class=\"dataframe\">\n",
       "  <thead>\n",
       "    <tr style=\"text-align: right;\">\n",
       "      <th></th>\n",
       "      <th>CLASSES</th>\n",
       "      <th>TEXT</th>\n",
       "      <th>clean_msg</th>\n",
       "      <th>msg_lower</th>\n",
       "      <th>no_stopwords</th>\n",
       "      <th>no_stopwords2</th>\n",
       "      <th>msg_stemmed</th>\n",
       "      <th>msg_lemmatized</th>\n",
       "      <th>msg_lemmatized_string</th>\n",
       "    </tr>\n",
       "  </thead>\n",
       "  <tbody>\n",
       "    <tr>\n",
       "      <th>0</th>\n",
       "      <td>GOOD</td>\n",
       "      <td>While P2E gaming platforms combine the metaver...</td>\n",
       "      <td>While P2E gaming platforms combine the metaver...</td>\n",
       "      <td>while p2e gaming platforms combine the metaver...</td>\n",
       "      <td>[while, gaming, platforms, combine, the, metav...</td>\n",
       "      <td>[gaming, platforms, combine, metaverse, web, o...</td>\n",
       "      <td>[game, platform, combin, metavers, web, offer,...</td>\n",
       "      <td>[game, platform, combin, metavers, web, offer,...</td>\n",
       "      <td>game platform combin metavers web offer medium...</td>\n",
       "    </tr>\n",
       "    <tr>\n",
       "      <th>1</th>\n",
       "      <td>BAD</td>\n",
       "      <td>Ethereum's co-founder Gavin Wood said cryptoc...</td>\n",
       "      <td>Ethereums cofounder Gavin Wood said cryptocur...</td>\n",
       "      <td>ethereums cofounder gavin wood said cryptocur...</td>\n",
       "      <td>[ethereums, cofounder, gavin, wood, said, cryp...</td>\n",
       "      <td>[ethereums, cofounder, gavin, wood, said, cryp...</td>\n",
       "      <td>[ethereum, cofound, gavin, wood, said, cryptoc...</td>\n",
       "      <td>[ethereum, cofound, gavin, wood, said, cryptoc...</td>\n",
       "      <td>ethereum cofound gavin wood said cryptocurr in...</td>\n",
       "    </tr>\n",
       "    <tr>\n",
       "      <th>2</th>\n",
       "      <td>GOOD</td>\n",
       "      <td>Binance Coins (BNB) price posted 1.63% gains ...</td>\n",
       "      <td>Binance Coins BNB price posted 163 gains in t...</td>\n",
       "      <td>binance coins bnb price posted 163 gains in t...</td>\n",
       "      <td>[binance, coin, bnb, price, posted, gains, in,...</td>\n",
       "      <td>[binance, coin, bnb, price, posted, gains, las...</td>\n",
       "      <td>[binanc, coin, bnb, price, post, gain, last, h...</td>\n",
       "      <td>[binanc, coin, bnb, price, post, gain, last, h...</td>\n",
       "      <td>binanc coin bnb price post gain last hour take...</td>\n",
       "    </tr>\n",
       "    <tr>\n",
       "      <th>3</th>\n",
       "      <td>BAD</td>\n",
       "      <td>Digital asset investment products saw $141 mil...</td>\n",
       "      <td>Digital asset investment products saw 141 mill...</td>\n",
       "      <td>digital asset investment products saw 141 mill...</td>\n",
       "      <td>[digital, asset, investment, products, saw, mi...</td>\n",
       "      <td>[digital, asset, investment, products, saw, mi...</td>\n",
       "      <td>[digit, asset, invest, product, saw, million, ...</td>\n",
       "      <td>[digit, asset, invest, product, saw, million, ...</td>\n",
       "      <td>digit asset invest product saw million outflow...</td>\n",
       "    </tr>\n",
       "    <tr>\n",
       "      <th>4</th>\n",
       "      <td>BAD</td>\n",
       "      <td>Cardano was trading at $0.4936 by 10:11 (14:1...</td>\n",
       "      <td>Cardano was trading at 04936 by 1011 1411 GMT...</td>\n",
       "      <td>cardano was trading at 04936 by 1011 1411 gmt...</td>\n",
       "      <td>[cardano, was, trading, at, by, gmt, on, the, ...</td>\n",
       "      <td>[cardano, trading, gmt, investingcom, index, t...</td>\n",
       "      <td>[cardano, trade, gmt, investingcom, index, tue...</td>\n",
       "      <td>[cardano, trade, gmt, investingcom, index, tue...</td>\n",
       "      <td>cardano trade gmt investingcom index tuesday d...</td>\n",
       "    </tr>\n",
       "  </tbody>\n",
       "</table>\n",
       "</div>"
      ],
      "text/plain": [
       "  CLASSES                                               TEXT  \\\n",
       "0    GOOD  While P2E gaming platforms combine the metaver...   \n",
       "1     BAD   Ethereum's co-founder Gavin Wood said cryptoc...   \n",
       "2    GOOD  Binance Coins (BNB) price posted 1.63% gains ...   \n",
       "3     BAD  Digital asset investment products saw $141 mil...   \n",
       "4     BAD   Cardano was trading at $0.4936 by 10:11 (14:1...   \n",
       "\n",
       "                                           clean_msg  \\\n",
       "0  While P2E gaming platforms combine the metaver...   \n",
       "1   Ethereums cofounder Gavin Wood said cryptocur...   \n",
       "2  Binance Coins BNB price posted 163 gains in t...   \n",
       "3  Digital asset investment products saw 141 mill...   \n",
       "4   Cardano was trading at 04936 by 1011 1411 GMT...   \n",
       "\n",
       "                                           msg_lower  \\\n",
       "0  while p2e gaming platforms combine the metaver...   \n",
       "1   ethereums cofounder gavin wood said cryptocur...   \n",
       "2  binance coins bnb price posted 163 gains in t...   \n",
       "3  digital asset investment products saw 141 mill...   \n",
       "4   cardano was trading at 04936 by 1011 1411 gmt...   \n",
       "\n",
       "                                        no_stopwords  \\\n",
       "0  [while, gaming, platforms, combine, the, metav...   \n",
       "1  [ethereums, cofounder, gavin, wood, said, cryp...   \n",
       "2  [binance, coin, bnb, price, posted, gains, in,...   \n",
       "3  [digital, asset, investment, products, saw, mi...   \n",
       "4  [cardano, was, trading, at, by, gmt, on, the, ...   \n",
       "\n",
       "                                       no_stopwords2  \\\n",
       "0  [gaming, platforms, combine, metaverse, web, o...   \n",
       "1  [ethereums, cofounder, gavin, wood, said, cryp...   \n",
       "2  [binance, coin, bnb, price, posted, gains, las...   \n",
       "3  [digital, asset, investment, products, saw, mi...   \n",
       "4  [cardano, trading, gmt, investingcom, index, t...   \n",
       "\n",
       "                                         msg_stemmed  \\\n",
       "0  [game, platform, combin, metavers, web, offer,...   \n",
       "1  [ethereum, cofound, gavin, wood, said, cryptoc...   \n",
       "2  [binanc, coin, bnb, price, post, gain, last, h...   \n",
       "3  [digit, asset, invest, product, saw, million, ...   \n",
       "4  [cardano, trade, gmt, investingcom, index, tue...   \n",
       "\n",
       "                                      msg_lemmatized  \\\n",
       "0  [game, platform, combin, metavers, web, offer,...   \n",
       "1  [ethereum, cofound, gavin, wood, said, cryptoc...   \n",
       "2  [binanc, coin, bnb, price, post, gain, last, h...   \n",
       "3  [digit, asset, invest, product, saw, million, ...   \n",
       "4  [cardano, trade, gmt, investingcom, index, tue...   \n",
       "\n",
       "                               msg_lemmatized_string  \n",
       "0  game platform combin metavers web offer medium...  \n",
       "1  ethereum cofound gavin wood said cryptocurr in...  \n",
       "2  binanc coin bnb price post gain last hour take...  \n",
       "3  digit asset invest product saw million outflow...  \n",
       "4  cardano trade gmt investingcom index tuesday d...  "
      ]
     },
     "execution_count": 20,
     "metadata": {},
     "output_type": "execute_result"
    }
   ],
   "source": [
    "# data preprocess\n",
    "\n",
    "# remove punctuation from Text column - create a new column \n",
    "data['clean_msg']=data['TEXT'].apply(lambda x:remove_punctuation(x))\n",
    "\n",
    "# lower all letters - create a new column \n",
    "data['msg_lower']=data['clean_msg'].apply(lambda x: x.lower())\n",
    "\n",
    "import gensim\n",
    "data['no_stopwords']=data['msg_lower'].apply(gensim.utils.simple_preprocess)\n",
    "\n",
    "# tokenize all rows - create a new column \n",
    "#data['msg_tokenied']= data['msg_lower'].apply(lambda x: tokenization(x))\n",
    "\n",
    "# remove stopwords - create a new column\n",
    "data['no_stopwords2']=data['no_stopwords'].apply(lambda x:remove_stopwords(x))\n",
    "\n",
    "# stemme texts - create a new column\n",
    "data['msg_stemmed']=data['no_stopwords2'].apply(lambda x:stemming(x))\n",
    "\n",
    "# lemmatize texts - create a new column\n",
    "data['msg_lemmatized']=data['msg_stemmed'].apply(lambda x:lemmatizer(x))\n",
    "\n",
    "data['msg_lemmatized_string']=data['msg_lemmatized'].apply(lambda x: ' '.join(map(str, x)))\n",
    "\n",
    "data.head()"
   ]
  },
  {
   "cell_type": "code",
   "execution_count": 21,
   "id": "429d9428",
   "metadata": {},
   "outputs": [],
   "source": [
    "#  Data analysis \n",
    "\n",
    "from sklearn.feature_extraction.text import TfidfVectorizer\n",
    "from sklearn.model_selection import train_test_split\n",
    "\n",
    "from sklearn.tree import DecisionTreeClassifier\n",
    "\n",
    "from sklearn.metrics import accuracy_score, recall_score, precision_score, f1_score\n",
    "from sklearn.metrics import confusion_matrix, ConfusionMatrixDisplay\n",
    "\n",
    "from sklearn.feature_extraction.text import CountVectorizer\n",
    "from sklearn.neighbors import KNeighborsClassifier\n",
    "from sklearn.discriminant_analysis import LinearDiscriminantAnalysis"
   ]
  },
  {
   "cell_type": "code",
   "execution_count": 22,
   "id": "af256906",
   "metadata": {},
   "outputs": [
    {
     "name": "stdout",
     "output_type": "stream",
     "text": [
      "[[0 0 0 ... 0 0 0]\n",
      " [0 0 0 ... 0 0 0]\n",
      " [0 0 0 ... 0 0 0]\n",
      " ...\n",
      " [0 0 0 ... 0 0 0]\n",
      " [0 0 0 ... 0 0 0]\n",
      " [0 0 0 ... 0 0 0]]\n"
     ]
    }
   ],
   "source": [
    "v = CountVectorizer()\n",
    "X = v.fit_transform(data['msg_lemmatized_string']).todense()\n",
    "y = data['CLASSES'].to_list()\n",
    "print(X)"
   ]
  },
  {
   "cell_type": "code",
   "execution_count": 23,
   "id": "e7d636e7",
   "metadata": {},
   "outputs": [
    {
     "name": "stdout",
     "output_type": "stream",
     "text": [
      "[[0 0 0 ... 0 0 0]\n",
      " [0 0 0 ... 0 0 0]\n",
      " [0 0 0 ... 0 0 0]\n",
      " ...\n",
      " [0 0 0 ... 0 0 0]\n",
      " [0 0 0 ... 0 0 0]\n",
      " [0 0 0 ... 0 0 0]]\n",
      "[[0 0 0 ... 0 0 0]\n",
      " [0 0 1 ... 0 0 0]\n",
      " [0 0 0 ... 0 0 0]\n",
      " ...\n",
      " [0 0 0 ... 0 0 0]\n",
      " [0 0 0 ... 0 0 0]\n",
      " [0 0 0 ... 0 0 0]]\n",
      "['GOOD', 'BAD', 'BAD', 'BAD', 'BAD', 'GOOD', 'NEUTRAL', 'GOOD', 'GOOD', 'NEUTRAL', 'GOOD', 'NEUTRAL', 'GOOD', 'GOOD', 'NEUTRAL', 'GOOD', 'BAD', 'NEUTRAL', 'GOOD', 'NEUTRAL', 'BAD', 'NEUTRAL', 'NEUTRAL', 'BAD', 'BAD', 'BAD', 'GOOD', 'GOOD', 'GOOD', 'NEUTRAL', 'BAD', 'BAD', 'NEUTRAL', 'NEUTRAL', 'NEUTRAL', 'GOOD', 'GOOD', 'NEUTRAL', 'BAD', 'NEUTRAL', 'BAD', 'BAD', 'NEUTRAL', 'NEUTRAL', 'NEUTRAL', 'BAD', 'BAD', 'GOOD', 'GOOD', 'BAD', 'BAD', 'BAD', 'GOOD', 'BAD', 'BAD', 'BAD', 'BAD', 'BAD', 'GOOD', 'BAD', 'BAD', 'GOOD', 'GOOD', 'NEUTRAL', 'BAD', 'NEUTRAL', 'NEUTRAL', 'BAD', 'BAD', 'GOOD', 'GOOD', 'BAD', 'NEUTRAL', 'NEUTRAL', 'GOOD', 'NEUTRAL', 'GOOD', 'BAD', 'GOOD', 'NEUTRAL', 'BAD', 'NEUTRAL', 'GOOD', 'NEUTRAL', 'BAD', 'GOOD', 'GOOD', 'GOOD', 'BAD', 'NEUTRAL', 'BAD', 'NEUTRAL', 'BAD', 'GOOD', 'BAD', 'NEUTRAL', 'GOOD', 'NEUTRAL', 'BAD', 'NEUTRAL', 'GOOD', 'NEUTRAL', 'GOOD', 'BAD', 'NEUTRAL', 'GOOD', 'GOOD', 'BAD', 'NEUTRAL', 'NEUTRAL', 'NEUTRAL', 'GOOD', 'GOOD', 'GOOD', 'BAD', 'NEUTRAL', 'GOOD', 'BAD', 'GOOD', 'NEUTRAL', 'BAD', 'GOOD', 'NEUTRAL', 'NEUTRAL', 'GOOD', 'GOOD', 'BAD', 'NEUTRAL', 'NEUTRAL', 'BAD', 'BAD', 'BAD', 'NEUTRAL', 'BAD', 'GOOD', 'NEUTRAL', 'NEUTRAL', 'BAD', 'GOOD', 'BAD', 'GOOD', 'GOOD', 'GOOD', 'GOOD', 'NEUTRAL', 'NEUTRAL', 'BAD', 'BAD', 'BAD', 'BAD', 'BAD', 'BAD', 'NEUTRAL', 'GOOD', 'BAD', 'GOOD', 'GOOD', 'NEUTRAL', 'NEUTRAL', 'GOOD', 'BAD', 'GOOD', 'GOOD', 'BAD', 'BAD', 'BAD', 'GOOD', 'NEUTRAL', 'BAD', 'BAD', 'BAD', 'GOOD', 'GOOD', 'NEUTRAL', 'NEUTRAL', 'NEUTRAL', 'GOOD', 'GOOD', 'BAD', 'NEUTRAL', 'NEUTRAL', 'NEUTRAL', 'GOOD', 'BAD', 'BAD', 'BAD']\n",
      "['BAD', 'GOOD', 'NEUTRAL', 'BAD', 'BAD', 'BAD', 'GOOD', 'BAD', 'GOOD', 'GOOD', 'NEUTRAL', 'GOOD', 'BAD', 'NEUTRAL', 'BAD', 'GOOD', 'GOOD', 'GOOD', 'GOOD', 'GOOD', 'BAD', 'NEUTRAL', 'BAD', 'NEUTRAL', 'BAD', 'GOOD', 'NEUTRAL', 'GOOD', 'NEUTRAL', 'GOOD', 'NEUTRAL', 'BAD', 'GOOD', 'BAD', 'BAD', 'GOOD', 'GOOD', 'NEUTRAL', 'NEUTRAL', 'GOOD', 'BAD', 'NEUTRAL', 'BAD', 'NEUTRAL', 'NEUTRAL', 'NEUTRAL', 'BAD', 'GOOD', 'GOOD', 'NEUTRAL', 'GOOD', 'GOOD', 'GOOD', 'NEUTRAL', 'NEUTRAL', 'BAD', 'BAD', 'BAD', 'NEUTRAL', 'NEUTRAL', 'BAD', 'NEUTRAL', 'NEUTRAL', 'GOOD', 'BAD', 'BAD', 'BAD', 'GOOD', 'BAD', 'BAD', 'BAD', 'GOOD', 'NEUTRAL', 'NEUTRAL', 'BAD', 'NEUTRAL', 'BAD', 'NEUTRAL', 'NEUTRAL', 'BAD', 'NEUTRAL']\n"
     ]
    }
   ],
   "source": [
    "# split dataset\n",
    "\n",
    "X_train , X_test , y_train , y_test = train_test_split(X, y, test_size=0.3,random_state=4)\n",
    "\n",
    "print(X_train)\n",
    "print(X_test)\n",
    "print(y_train)\n",
    "print(y_test)"
   ]
  },
  {
   "cell_type": "code",
   "execution_count": 24,
   "id": "7a60de85",
   "metadata": {},
   "outputs": [
    {
     "name": "stdout",
     "output_type": "stream",
     "text": [
      "Accuracy of LDA classifier on training set: 0.97\n",
      "Accuracy of LDA classifier on test set: 0.40\n",
      "Accuracy: 0.395\n",
      "F1-Score: 0.398\n",
      "Precision: 0.413\n",
      "Recall: 0.395\n"
     ]
    },
    {
     "data": {
      "text/plain": [
       "<sklearn.metrics._plot.confusion_matrix.ConfusionMatrixDisplay at 0x24c7f475a90>"
      ]
     },
     "execution_count": 24,
     "metadata": {},
     "output_type": "execute_result"
    },
    {
     "data": {
      "image/png": "[encoded data removed]",
      "text/plain": [
       "<Figure size 432x288 with 2 Axes>"
      ]
     },
     "metadata": {
      "needs_background": "light"
     },
     "output_type": "display_data"
    }
   ],
   "source": [
    "lda = LinearDiscriminantAnalysis().fit(X_train, y_train)\n",
    "y_pred = lda.predict(X_test)\n",
    "print('Accuracy of LDA classifier on training set: {:.2f}'\n",
    "     .format(lda.score(X_train, y_train)))\n",
    "print('Accuracy of LDA classifier on test set: {:.2f}'\n",
    "     .format(lda.score(X_test, y_test)))\n",
    "# Scores\n",
    "print('Accuracy: %.3f'%accuracy_score(y_test, y_pred))\n",
    "print('F1-Score: %.3f'%f1_score(y_test, y_pred, average=\"weighted\"))\n",
    "print('Precision: %.3f'%precision_score(y_test, y_pred, average=\"weighted\"))\n",
    "print('Recall: %.3f'%recall_score(y_test, y_pred, average=\"weighted\"))\n",
    "\n",
    "# Confusion Matrix\n",
    "conf_mat = confusion_matrix(y_test, y_pred)\n",
    "cmd = ConfusionMatrixDisplay(conf_mat, display_labels=['BAD', 'GOOB', 'NEUTRAL'])\n",
    "cmd.plot()"
   ]
  },
  {
   "cell_type": "code",
   "execution_count": 25,
   "id": "123448ef",
   "metadata": {},
   "outputs": [],
   "source": [
    "from sklearn.model_selection import GridSearchCV"
   ]
  },
  {
   "cell_type": "code",
   "execution_count": 26,
   "id": "f1451558",
   "metadata": {},
   "outputs": [],
   "source": [
    "param_dist={\n",
    "    'solver' : [\"svd\"]\n",
    "   \n",
    "}"
   ]
  },
  {
   "cell_type": "code",
   "execution_count": 27,
   "id": "9514c58c",
   "metadata": {},
   "outputs": [],
   "source": [
    "grid=GridSearchCV(lda,param_grid=param_dist,cv=5,scoring = 'accuracy',n_jobs=-1)"
   ]
  },
  {
   "cell_type": "code",
   "execution_count": 28,
   "id": "b7d58f33",
   "metadata": {},
   "outputs": [
    {
     "data": {
      "text/plain": [
       "GridSearchCV(cv=5, estimator=LinearDiscriminantAnalysis(), n_jobs=-1,\n",
       "             param_grid={'solver': ['svd']}, scoring='accuracy')"
      ]
     },
     "execution_count": 28,
     "metadata": {},
     "output_type": "execute_result"
    }
   ],
   "source": [
    "grid.fit(X_train,y_train)"
   ]
  },
  {
   "cell_type": "code",
   "execution_count": 29,
   "id": "063c00d4",
   "metadata": {},
   "outputs": [
    {
     "data": {
      "text/plain": [
       "LinearDiscriminantAnalysis()"
      ]
     },
     "execution_count": 29,
     "metadata": {},
     "output_type": "execute_result"
    }
   ],
   "source": [
    "grid.best_estimator_"
   ]
  },
  {
   "cell_type": "code",
   "execution_count": 30,
   "id": "57761098",
   "metadata": {},
   "outputs": [
    {
     "data": {
      "text/plain": [
       "0.5162162162162162"
      ]
     },
     "execution_count": 30,
     "metadata": {},
     "output_type": "execute_result"
    }
   ],
   "source": [
    "grid.best_score_"
   ]
  },
  {
   "cell_type": "code",
   "execution_count": 31,
   "id": "cb0c5312",
   "metadata": {},
   "outputs": [],
   "source": [
    "lda = LinearDiscriminantAnalysis()"
   ]
  },
  {
   "cell_type": "code",
   "execution_count": 32,
   "id": "155942f1",
   "metadata": {},
   "outputs": [
    {
     "data": {
      "text/plain": [
       "{'fit_time': array([0.08776474, 0.0849483 , 0.085145  , 0.08618069, 0.0851717 ]),\n",
       " 'score_time': array([0.00199413, 0.00199032, 0.00199437, 0.00306582, 0.003052  ]),\n",
       " 'test_accuracy': array([0.40740741, 0.55555556, 0.47169811, 0.47169811, 0.35849057]),\n",
       " 'test_f1_macro': array([0.41488949, 0.55238095, 0.47248677, 0.458986  , 0.3406298 ]),\n",
       " 'test_precision_macro': array([0.45421245, 0.57615385, 0.47962963, 0.49507389, 0.33333333]),\n",
       " 'test_recall_macro': array([0.40929939, 0.55294118, 0.4752451 , 0.47368421, 0.3498452 ])}"
      ]
     },
     "execution_count": 32,
     "metadata": {},
     "output_type": "execute_result"
    }
   ],
   "source": [
    "scoring = ['accuracy','f1_macro','precision_macro', 'recall_macro']\n",
    "from sklearn.model_selection import cross_val_score\n",
    "from sklearn.model_selection import cross_validate\n",
    "from sklearn.metrics import recall_score\n",
    "scores = cross_validate(lda, X, y, cv=5,scoring=scoring)\n",
    "scores"
   ]
  },
  {
   "cell_type": "code",
   "execution_count": null,
   "id": "e9c48006",
   "metadata": {},
   "outputs": [],
   "source": []
  }
 ],
 "metadata": {
  "kernelspec": {
   "display_name": "Python 3 (ipykernel)",
   "language": "python",
   "name": "python3"
  },
  "language_info": {
   "codemirror_mode": {
    "name": "ipython",
    "version": 3
   },
   "file_extension": ".py",
   "mimetype": "text/x-python",
   "name": "python",
   "nbconvert_exporter": "python",
   "pygments_lexer": "ipython3",
   "version": "3.9.7"
  }
 },
 "nbformat": 4,
 "nbformat_minor": 5
}
