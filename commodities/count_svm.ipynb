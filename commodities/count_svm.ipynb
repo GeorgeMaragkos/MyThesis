{
 "cells": [
  {
   "cell_type": "code",
   "execution_count": 1,
   "id": "0f733906",
   "metadata": {},
   "outputs": [
    {
     "name": "stderr",
     "output_type": "stream",
     "text": [
      "[nltk_data] Downloading package wordnet to\n",
      "[nltk_data]     C:\\Users\\George\\AppData\\Roaming\\nltk_data...\n",
      "[nltk_data]   Package wordnet is already up-to-date!\n",
      "[nltk_data] Downloading package stopwords to\n",
      "[nltk_data]     C:\\Users\\George\\AppData\\Roaming\\nltk_data...\n",
      "[nltk_data]   Package stopwords is already up-to-date!\n"
     ]
    }
   ],
   "source": [
    "# all imports will be in this cell \n",
    "\n",
    "import pandas as pd\n",
    "import string\n",
    "import re\n",
    "import nltk\n",
    "from nltk.stem.porter import PorterStemmer\n",
    "from nltk.stem import WordNetLemmatizer\n",
    "\n",
    "nltk.download('wordnet')\n",
    "nltk.download('stopwords')\n",
    "stopwords = nltk.corpus.stopwords.words('english')\n",
    "porter_stemmer=PorterStemmer()\n",
    "wordnet_lemmatizer = WordNetLemmatizer()"
   ]
  },
  {
   "cell_type": "code",
   "execution_count": 2,
   "id": "7f226373",
   "metadata": {},
   "outputs": [
    {
     "data": {
      "text/html": [
       "<div>\n",
       "<style scoped>\n",
       "    .dataframe tbody tr th:only-of-type {\n",
       "        vertical-align: middle;\n",
       "    }\n",
       "\n",
       "    .dataframe tbody tr th {\n",
       "        vertical-align: top;\n",
       "    }\n",
       "\n",
       "    .dataframe thead th {\n",
       "        text-align: right;\n",
       "    }\n",
       "</style>\n",
       "<table border=\"1\" class=\"dataframe\">\n",
       "  <thead>\n",
       "    <tr style=\"text-align: right;\">\n",
       "      <th></th>\n",
       "      <th>No</th>\n",
       "      <th>Classes</th>\n",
       "      <th>Text</th>\n",
       "    </tr>\n",
       "  </thead>\n",
       "  <tbody>\n",
       "    <tr>\n",
       "      <th>0</th>\n",
       "      <td>1</td>\n",
       "      <td>BAD</td>\n",
       "      <td>Copper prices plunged to their lowest level in...</td>\n",
       "    </tr>\n",
       "    <tr>\n",
       "      <th>1</th>\n",
       "      <td>2</td>\n",
       "      <td>BAD</td>\n",
       "      <td>Oil plunged more than 6 per cent for the secon...</td>\n",
       "    </tr>\n",
       "    <tr>\n",
       "      <th>2</th>\n",
       "      <td>3</td>\n",
       "      <td>NEUTRAL</td>\n",
       "      <td>President Joe Biden will call on Congress to e...</td>\n",
       "    </tr>\n",
       "    <tr>\n",
       "      <th>3</th>\n",
       "      <td>4</td>\n",
       "      <td>BAD</td>\n",
       "      <td>The chief executive of Kuwait’s state oil comp...</td>\n",
       "    </tr>\n",
       "    <tr>\n",
       "      <th>4</th>\n",
       "      <td>5</td>\n",
       "      <td>GOOD</td>\n",
       "      <td>Oil climbed as financial markets recovered fro...</td>\n",
       "    </tr>\n",
       "    <tr>\n",
       "      <th>...</th>\n",
       "      <td>...</td>\n",
       "      <td>...</td>\n",
       "      <td>...</td>\n",
       "    </tr>\n",
       "    <tr>\n",
       "      <th>496</th>\n",
       "      <td>497</td>\n",
       "      <td>BAD</td>\n",
       "      <td>Europe appears to be on the brink of an energy...</td>\n",
       "    </tr>\n",
       "    <tr>\n",
       "      <th>497</th>\n",
       "      <td>498</td>\n",
       "      <td>NEUTRAL</td>\n",
       "      <td>The two countries appear to have been chosen c...</td>\n",
       "    </tr>\n",
       "    <tr>\n",
       "      <th>498</th>\n",
       "      <td>499</td>\n",
       "      <td>NEUTRAL</td>\n",
       "      <td>Current negotiations between Russia and the Tu...</td>\n",
       "    </tr>\n",
       "    <tr>\n",
       "      <th>499</th>\n",
       "      <td>500</td>\n",
       "      <td>GOOD</td>\n",
       "      <td>An economy with strong fundamentals is one tha...</td>\n",
       "    </tr>\n",
       "    <tr>\n",
       "      <th>500</th>\n",
       "      <td>501</td>\n",
       "      <td>BAD</td>\n",
       "      <td>After the Heavily Indebted Poor Countries init...</td>\n",
       "    </tr>\n",
       "  </tbody>\n",
       "</table>\n",
       "<p>501 rows × 3 columns</p>\n",
       "</div>"
      ],
      "text/plain": [
       "      No  Classes                                               Text\n",
       "0      1      BAD  Copper prices plunged to their lowest level in...\n",
       "1      2      BAD  Oil plunged more than 6 per cent for the secon...\n",
       "2      3  NEUTRAL  President Joe Biden will call on Congress to e...\n",
       "3      4      BAD  The chief executive of Kuwait’s state oil comp...\n",
       "4      5     GOOD  Oil climbed as financial markets recovered fro...\n",
       "..   ...      ...                                                ...\n",
       "496  497      BAD  Europe appears to be on the brink of an energy...\n",
       "497  498  NEUTRAL  The two countries appear to have been chosen c...\n",
       "498  499  NEUTRAL  Current negotiations between Russia and the Tu...\n",
       "499  500     GOOD  An economy with strong fundamentals is one tha...\n",
       "500  501      BAD  After the Heavily Indebted Poor Countries init...\n",
       "\n",
       "[501 rows x 3 columns]"
      ]
     },
     "execution_count": 2,
     "metadata": {},
     "output_type": "execute_result"
    }
   ],
   "source": [
    "data=pd.read_excel(\"commodities_dataset_annotated.xlsx\")\n",
    "data"
   ]
  },
  {
   "cell_type": "code",
   "execution_count": 3,
   "id": "383a33a1",
   "metadata": {},
   "outputs": [],
   "source": [
    "# helper functions - all helper functions will be reported here\n",
    "\n",
    "def remove_punctuation(text):\n",
    "    punctuationfree=\"\".join([i for i in text if i not in string.punctuation])\n",
    "    return punctuationfree\n",
    "\n",
    "def tokenization(text):\n",
    "    tokens = re.split('W+', text)\n",
    "    return tokens\n",
    "\n",
    "def remove_stopwords(text):\n",
    "    output= [i for i in text if not i in stopwords]\n",
    "    return output\n",
    "\n",
    "def stemming(text):\n",
    "    stem_text=[porter_stemmer.stem(word) for word in text]\n",
    "    return stem_text\n",
    "\n",
    "def lemmatizer(text):\n",
    "    lemm_text = [wordnet_lemmatizer.lemmatize(word) for word in text]\n",
    "    return lemm_text"
   ]
  },
  {
   "cell_type": "code",
   "execution_count": 4,
   "id": "ef744cf6",
   "metadata": {},
   "outputs": [
    {
     "data": {
      "text/html": [
       "<div>\n",
       "<style scoped>\n",
       "    .dataframe tbody tr th:only-of-type {\n",
       "        vertical-align: middle;\n",
       "    }\n",
       "\n",
       "    .dataframe tbody tr th {\n",
       "        vertical-align: top;\n",
       "    }\n",
       "\n",
       "    .dataframe thead th {\n",
       "        text-align: right;\n",
       "    }\n",
       "</style>\n",
       "<table border=\"1\" class=\"dataframe\">\n",
       "  <thead>\n",
       "    <tr style=\"text-align: right;\">\n",
       "      <th></th>\n",
       "      <th>No</th>\n",
       "      <th>Classes</th>\n",
       "      <th>Text</th>\n",
       "      <th>clean_msg</th>\n",
       "      <th>msg_lower</th>\n",
       "      <th>no_stopwords</th>\n",
       "      <th>no_stopwords2</th>\n",
       "      <th>msg_stemmed</th>\n",
       "      <th>msg_lemmatized</th>\n",
       "      <th>msg_lemmatized_string</th>\n",
       "    </tr>\n",
       "  </thead>\n",
       "  <tbody>\n",
       "    <tr>\n",
       "      <th>0</th>\n",
       "      <td>1</td>\n",
       "      <td>BAD</td>\n",
       "      <td>Copper prices plunged to their lowest level in...</td>\n",
       "      <td>Copper prices plunged to their lowest level in...</td>\n",
       "      <td>copper prices plunged to their lowest level in...</td>\n",
       "      <td>[copper, prices, plunged, to, their, lowest, l...</td>\n",
       "      <td>[copper, prices, plunged, lowest, level, year,...</td>\n",
       "      <td>[copper, price, plung, lowest, level, year, we...</td>\n",
       "      <td>[copper, price, plung, lowest, level, year, we...</td>\n",
       "      <td>copper price plung lowest level year wednesday...</td>\n",
       "    </tr>\n",
       "    <tr>\n",
       "      <th>1</th>\n",
       "      <td>2</td>\n",
       "      <td>BAD</td>\n",
       "      <td>Oil plunged more than 6 per cent for the secon...</td>\n",
       "      <td>Oil plunged more than 6 per cent for the secon...</td>\n",
       "      <td>oil plunged more than 6 per cent for the secon...</td>\n",
       "      <td>[oil, plunged, more, than, per, cent, for, the...</td>\n",
       "      <td>[oil, plunged, per, cent, second, time, less, ...</td>\n",
       "      <td>[oil, plung, per, cent, second, time, less, we...</td>\n",
       "      <td>[oil, plung, per, cent, second, time, le, week...</td>\n",
       "      <td>oil plung per cent second time le week concern...</td>\n",
       "    </tr>\n",
       "    <tr>\n",
       "      <th>2</th>\n",
       "      <td>3</td>\n",
       "      <td>NEUTRAL</td>\n",
       "      <td>President Joe Biden will call on Congress to e...</td>\n",
       "      <td>President Joe Biden will call on Congress to e...</td>\n",
       "      <td>president joe biden will call on congress to e...</td>\n",
       "      <td>[president, joe, biden, will, call, on, congre...</td>\n",
       "      <td>[president, joe, biden, call, congress, enact,...</td>\n",
       "      <td>[presid, joe, biden, call, congress, enact, ga...</td>\n",
       "      <td>[presid, joe, biden, call, congress, enact, ga...</td>\n",
       "      <td>presid joe biden call congress enact gasolin t...</td>\n",
       "    </tr>\n",
       "    <tr>\n",
       "      <th>3</th>\n",
       "      <td>4</td>\n",
       "      <td>BAD</td>\n",
       "      <td>The chief executive of Kuwait’s state oil comp...</td>\n",
       "      <td>The chief executive of Kuwait’s state oil comp...</td>\n",
       "      <td>the chief executive of kuwait’s state oil comp...</td>\n",
       "      <td>[the, chief, executive, of, kuwait, state, oil...</td>\n",
       "      <td>[chief, executive, kuwait, state, oil, company...</td>\n",
       "      <td>[chief, execut, kuwait, state, oil, compani, s...</td>\n",
       "      <td>[chief, execut, kuwait, state, oil, compani, s...</td>\n",
       "      <td>chief execut kuwait state oil compani said u p...</td>\n",
       "    </tr>\n",
       "    <tr>\n",
       "      <th>4</th>\n",
       "      <td>5</td>\n",
       "      <td>GOOD</td>\n",
       "      <td>Oil climbed as financial markets recovered fro...</td>\n",
       "      <td>Oil climbed as financial markets recovered fro...</td>\n",
       "      <td>oil climbed as financial markets recovered fro...</td>\n",
       "      <td>[oil, climbed, as, financial, markets, recover...</td>\n",
       "      <td>[oil, climbed, financial, markets, recovered, ...</td>\n",
       "      <td>[oil, climb, financi, market, recov, last, wee...</td>\n",
       "      <td>[oil, climb, financi, market, recov, last, wee...</td>\n",
       "      <td>oil climb financi market recov last week rout ...</td>\n",
       "    </tr>\n",
       "  </tbody>\n",
       "</table>\n",
       "</div>"
      ],
      "text/plain": [
       "   No  Classes                                               Text  \\\n",
       "0   1      BAD  Copper prices plunged to their lowest level in...   \n",
       "1   2      BAD  Oil plunged more than 6 per cent for the secon...   \n",
       "2   3  NEUTRAL  President Joe Biden will call on Congress to e...   \n",
       "3   4      BAD  The chief executive of Kuwait’s state oil comp...   \n",
       "4   5     GOOD  Oil climbed as financial markets recovered fro...   \n",
       "\n",
       "                                           clean_msg  \\\n",
       "0  Copper prices plunged to their lowest level in...   \n",
       "1  Oil plunged more than 6 per cent for the secon...   \n",
       "2  President Joe Biden will call on Congress to e...   \n",
       "3  The chief executive of Kuwait’s state oil comp...   \n",
       "4  Oil climbed as financial markets recovered fro...   \n",
       "\n",
       "                                           msg_lower  \\\n",
       "0  copper prices plunged to their lowest level in...   \n",
       "1  oil plunged more than 6 per cent for the secon...   \n",
       "2  president joe biden will call on congress to e...   \n",
       "3  the chief executive of kuwait’s state oil comp...   \n",
       "4  oil climbed as financial markets recovered fro...   \n",
       "\n",
       "                                        no_stopwords  \\\n",
       "0  [copper, prices, plunged, to, their, lowest, l...   \n",
       "1  [oil, plunged, more, than, per, cent, for, the...   \n",
       "2  [president, joe, biden, will, call, on, congre...   \n",
       "3  [the, chief, executive, of, kuwait, state, oil...   \n",
       "4  [oil, climbed, as, financial, markets, recover...   \n",
       "\n",
       "                                       no_stopwords2  \\\n",
       "0  [copper, prices, plunged, lowest, level, year,...   \n",
       "1  [oil, plunged, per, cent, second, time, less, ...   \n",
       "2  [president, joe, biden, call, congress, enact,...   \n",
       "3  [chief, executive, kuwait, state, oil, company...   \n",
       "4  [oil, climbed, financial, markets, recovered, ...   \n",
       "\n",
       "                                         msg_stemmed  \\\n",
       "0  [copper, price, plung, lowest, level, year, we...   \n",
       "1  [oil, plung, per, cent, second, time, less, we...   \n",
       "2  [presid, joe, biden, call, congress, enact, ga...   \n",
       "3  [chief, execut, kuwait, state, oil, compani, s...   \n",
       "4  [oil, climb, financi, market, recov, last, wee...   \n",
       "\n",
       "                                      msg_lemmatized  \\\n",
       "0  [copper, price, plung, lowest, level, year, we...   \n",
       "1  [oil, plung, per, cent, second, time, le, week...   \n",
       "2  [presid, joe, biden, call, congress, enact, ga...   \n",
       "3  [chief, execut, kuwait, state, oil, compani, s...   \n",
       "4  [oil, climb, financi, market, recov, last, wee...   \n",
       "\n",
       "                               msg_lemmatized_string  \n",
       "0  copper price plung lowest level year wednesday...  \n",
       "1  oil plung per cent second time le week concern...  \n",
       "2  presid joe biden call congress enact gasolin t...  \n",
       "3  chief execut kuwait state oil compani said u p...  \n",
       "4  oil climb financi market recov last week rout ...  "
      ]
     },
     "execution_count": 4,
     "metadata": {},
     "output_type": "execute_result"
    }
   ],
   "source": [
    "# data preprocess\n",
    "\n",
    "# remove punctuation from Text column - create a new column \n",
    "data['clean_msg']=data['Text'].apply(lambda x:remove_punctuation(x))\n",
    "\n",
    "# lower all letters - create a new column \n",
    "data['msg_lower']=data['clean_msg'].apply(lambda x: x.lower())\n",
    "\n",
    "import gensim\n",
    "data['no_stopwords']=data['msg_lower'].apply(gensim.utils.simple_preprocess)\n",
    "\n",
    "# tokenize all rows - create a new column \n",
    "#data['msg_tokenied']= data['msg_lower'].apply(lambda x: tokenization(x))\n",
    "\n",
    "# remove stopwords - create a new column\n",
    "data['no_stopwords2']=data['no_stopwords'].apply(lambda x:remove_stopwords(x))\n",
    "\n",
    "# stemme texts - create a new column\n",
    "data['msg_stemmed']=data['no_stopwords2'].apply(lambda x:stemming(x))\n",
    "\n",
    "# lemmatize texts - create a new column\n",
    "data['msg_lemmatized']=data['msg_stemmed'].apply(lambda x:lemmatizer(x))\n",
    "\n",
    "data['msg_lemmatized_string']=data['msg_lemmatized'].apply(lambda x: ' '.join(map(str, x)))\n",
    "\n",
    "data.head()"
   ]
  },
  {
   "cell_type": "code",
   "execution_count": 5,
   "id": "4c672c1f",
   "metadata": {},
   "outputs": [],
   "source": [
    "#  Data analysis \n",
    "\n",
    "from sklearn.feature_extraction.text import TfidfVectorizer\n",
    "from sklearn.model_selection import train_test_split\n",
    "\n",
    "from sklearn.tree import DecisionTreeClassifier\n",
    "\n",
    "from sklearn.metrics import accuracy_score, recall_score, precision_score, f1_score\n",
    "from sklearn.metrics import confusion_matrix, ConfusionMatrixDisplay\n",
    "\n",
    "from sklearn.feature_extraction.text import CountVectorizer\n",
    "from sklearn.neighbors import KNeighborsClassifier\n",
    "from sklearn.discriminant_analysis import LinearDiscriminantAnalysis\n",
    "from sklearn.naive_bayes import GaussianNB\n",
    "from sklearn.svm import SVC"
   ]
  },
  {
   "cell_type": "code",
   "execution_count": 6,
   "id": "268ab5c9",
   "metadata": {},
   "outputs": [
    {
     "name": "stdout",
     "output_type": "stream",
     "text": [
      "[[1 0 0 ... 0 0 0]\n",
      " [0 0 0 ... 0 0 0]\n",
      " [0 0 0 ... 0 0 0]\n",
      " ...\n",
      " [0 0 0 ... 0 0 0]\n",
      " [0 0 0 ... 0 0 0]\n",
      " [0 0 0 ... 0 0 0]]\n"
     ]
    }
   ],
   "source": [
    "v = CountVectorizer()\n",
    "X = v.fit_transform(data['msg_lemmatized_string'])\n",
    "y = data['Classes'].to_list()\n",
    "print(X.toarray())"
   ]
  },
  {
   "cell_type": "code",
   "execution_count": 7,
   "id": "d5165d6a",
   "metadata": {},
   "outputs": [
    {
     "name": "stdout",
     "output_type": "stream",
     "text": [
      "  (0, 2004)\t1\n",
      "  (0, 2663)\t1\n",
      "  (0, 1605)\t1\n",
      "  (0, 3294)\t1\n",
      "  (0, 100)\t1\n",
      "  (0, 2695)\t1\n",
      "  (0, 707)\t1\n",
      "  (0, 717)\t1\n",
      "  (0, 1598)\t1\n",
      "  (0, 1001)\t1\n",
      "  (0, 1306)\t1\n",
      "  (0, 299)\t1\n",
      "  (0, 2780)\t1\n",
      "  (0, 2423)\t1\n",
      "  (0, 2584)\t1\n",
      "  (0, 800)\t1\n",
      "  (1, 3515)\t1\n",
      "  (1, 2503)\t1\n",
      "  (1, 2109)\t1\n",
      "  (1, 1609)\t1\n",
      "  (1, 1274)\t1\n",
      "  (1, 618)\t1\n",
      "  (1, 2387)\t1\n",
      "  (1, 1262)\t1\n",
      "  (1, 1607)\t1\n",
      "  :\t:\n",
      "  (348, 1263)\t1\n",
      "  (348, 410)\t1\n",
      "  (349, 2372)\t1\n",
      "  (349, 18)\t1\n",
      "  (349, 2109)\t1\n",
      "  (349, 1131)\t1\n",
      "  (349, 1827)\t1\n",
      "  (349, 2521)\t1\n",
      "  (349, 1001)\t1\n",
      "  (349, 2813)\t1\n",
      "  (349, 3285)\t1\n",
      "  (349, 1855)\t1\n",
      "  (349, 1618)\t1\n",
      "  (349, 1903)\t1\n",
      "  (349, 989)\t2\n",
      "  (349, 66)\t1\n",
      "  (349, 3496)\t1\n",
      "  (349, 2887)\t1\n",
      "  (349, 639)\t1\n",
      "  (349, 875)\t1\n",
      "  (349, 3204)\t1\n",
      "  (349, 2877)\t1\n",
      "  (349, 2725)\t1\n",
      "  (349, 1635)\t1\n",
      "  (349, 1340)\t1\n",
      "  (0, 695)\t1\n",
      "  (0, 2372)\t3\n",
      "  (0, 3515)\t1\n",
      "  (0, 1913)\t1\n",
      "  (0, 1560)\t1\n",
      "  (0, 232)\t4\n",
      "  (0, 37)\t1\n",
      "  (0, 1866)\t2\n",
      "  (0, 2109)\t1\n",
      "  (0, 1444)\t1\n",
      "  (0, 934)\t1\n",
      "  (0, 103)\t1\n",
      "  (0, 1881)\t2\n",
      "  (0, 2571)\t1\n",
      "  (0, 466)\t1\n",
      "  (0, 2364)\t1\n",
      "  (0, 217)\t2\n",
      "  (0, 1146)\t1\n",
      "  (0, 1269)\t2\n",
      "  (0, 2148)\t1\n",
      "  (0, 618)\t1\n",
      "  (0, 2194)\t1\n",
      "  (0, 602)\t1\n",
      "  (0, 1262)\t1\n",
      "  (0, 3237)\t7\n",
      "  :\t:\n",
      "  (149, 1540)\t1\n",
      "  (149, 2085)\t1\n",
      "  (149, 2795)\t1\n",
      "  (149, 1306)\t1\n",
      "  (149, 764)\t1\n",
      "  (149, 2664)\t1\n",
      "  (149, 2404)\t1\n",
      "  (149, 1293)\t1\n",
      "  (149, 2039)\t1\n",
      "  (149, 2992)\t1\n",
      "  (149, 2310)\t1\n",
      "  (149, 403)\t1\n",
      "  (149, 1178)\t1\n",
      "  (149, 2034)\t1\n",
      "  (149, 2417)\t1\n",
      "  (150, 1866)\t1\n",
      "  (150, 3192)\t1\n",
      "  (150, 1564)\t1\n",
      "  (150, 1185)\t1\n",
      "  (150, 2565)\t1\n",
      "  (150, 3206)\t1\n",
      "  (150, 2243)\t1\n",
      "  (150, 2185)\t1\n",
      "  (150, 1088)\t1\n",
      "  (150, 2753)\t1\n",
      "['BAD', 'NEUTRAL', 'BAD', 'NEUTRAL', 'NEUTRAL', 'GOOD', 'GOOD', 'NEUTRAL', 'GOOD', 'BAD', 'GOOD', 'BAD', 'GOOD', 'NEUTRAL', 'BAD', 'BAD', 'NEUTRAL', 'GOOD', 'BAD', 'GOOD', 'GOOD', 'GOOD', 'BAD', 'BAD', 'BAD', 'BAD', 'NEUTRAL', 'NEUTRAL', 'GOOD', 'GOOD', 'BAD', 'NEUTRAL', 'GOOD', 'GOOD', 'BAD', 'NEUTRAL', 'BAD', 'GOOD', 'NEUTRAL', 'GOOD', 'NEUTRAL', 'BAD', 'NEUTRAL', 'GOOD', 'GOOD', 'NEUTRAL', 'BAD', 'GOOD', 'GOOD', 'GOOD', 'GOOD', 'NEUTRAL', 'NEUTRAL', 'BAD', 'BAD', 'NEUTRAL', 'GOOD', 'BAD', 'BAD', 'NEUTRAL', 'GOOD', 'NEUTRAL', 'NEUTRAL', 'GOOD', 'BAD', 'GOOD', 'BAD', 'NEUTRAL', 'GOOD', 'BAD', 'NEUTRAL', 'NEUTRAL', 'BAD', 'NEUTRAL', 'BAD', 'BAD', 'GOOD', 'NEUTRAL', 'BAD', 'GOOD', 'NEUTRAL', 'BAD', 'BAD', 'GOOD', 'GOOD', 'GOOD', 'GOOD', 'BAD', 'GOOD', 'NEUTRAL', 'BAD', 'GOOD', 'GOOD', 'NEUTRAL', 'NEUTRAL', 'NEUTRAL', 'BAD', 'NEUTRAL', 'NEUTRAL', 'BAD', 'NEUTRAL', 'NEUTRAL', 'NEUTRAL', 'BAD', 'BAD', 'BAD', 'BAD', 'BAD', 'NEUTRAL', 'NEUTRAL', 'GOOD', 'NEUTRAL', 'GOOD', 'GOOD', 'NEUTRAL', 'NEUTRAL', 'NEUTRAL', 'GOOD', 'NEUTRAL', 'NEUTRAL', 'BAD', 'NEUTRAL', 'NEUTRAL', 'BAD', 'NEUTRAL', 'BAD', 'GOOD', 'BAD', 'BAD', 'BAD', 'NEUTRAL', 'NEUTRAL', 'BAD', 'BAD', 'BAD', 'GOOD', 'GOOD', 'BAD', 'NEUTRAL', 'GOOD', 'BAD', 'NEUTRAL', 'GOOD', 'BAD', 'BAD', 'BAD', 'NEUTRAL', 'GOOD', 'GOOD', 'GOOD', 'NEUTRAL', 'GOOD', 'NEUTRAL', 'BAD', 'NEUTRAL', 'NEUTRAL', 'GOOD', 'BAD', 'BAD', 'BAD', 'BAD', 'NEUTRAL', 'GOOD', 'BAD', 'GOOD', 'NEUTRAL', 'BAD', 'NEUTRAL', 'BAD', 'BAD', 'GOOD', 'BAD', 'BAD', 'GOOD', 'BAD', 'BAD', 'BAD', 'NEUTRAL', 'GOOD', 'NEUTRAL', 'GOOD', 'NEUTRAL', 'BAD', 'GOOD', 'NEUTRAL', 'GOOD', 'NEUTRAL', 'GOOD', 'BAD', 'NEUTRAL', 'GOOD', 'BAD', 'NEUTRAL', 'NEUTRAL', 'GOOD', 'NEUTRAL', 'NEUTRAL', 'BAD', 'BAD', 'NEUTRAL', 'GOOD', 'NEUTRAL', 'BAD', 'NEUTRAL', 'BAD', 'GOOD', 'GOOD', 'NEUTRAL', 'NEUTRAL', 'BAD', 'GOOD', 'BAD', 'GOOD', 'NEUTRAL', 'BAD', 'GOOD', 'NEUTRAL', 'GOOD', 'GOOD', 'GOOD', 'BAD', 'GOOD', 'BAD', 'BAD', 'GOOD', 'BAD', 'GOOD', 'GOOD', 'GOOD', 'NEUTRAL', 'NEUTRAL', 'BAD', 'NEUTRAL', 'GOOD', 'GOOD', 'BAD', 'GOOD', 'GOOD', 'BAD', 'GOOD', 'GOOD', 'NEUTRAL', 'NEUTRAL', 'GOOD', 'BAD', 'BAD', 'GOOD', 'GOOD', 'NEUTRAL', 'BAD', 'NEUTRAL', 'BAD', 'NEUTRAL', 'NEUTRAL', 'NEUTRAL', 'GOOD', 'BAD', 'NEUTRAL', 'GOOD', 'BAD', 'GOOD', 'GOOD', 'GOOD', 'BAD', 'GOOD', 'NEUTRAL', 'GOOD', 'BAD', 'BAD', 'NEUTRAL', 'BAD', 'NEUTRAL', 'BAD', 'BAD', 'NEUTRAL', 'BAD', 'GOOD', 'GOOD', 'BAD', 'NEUTRAL', 'BAD', 'BAD', 'GOOD', 'GOOD', 'NEUTRAL', 'NEUTRAL', 'GOOD', 'BAD', 'NEUTRAL', 'NEUTRAL', 'BAD', 'GOOD', 'GOOD', 'GOOD', 'NEUTRAL', 'GOOD', 'GOOD', 'NEUTRAL', 'BAD', 'BAD', 'BAD', 'GOOD', 'GOOD', 'GOOD', 'BAD', 'GOOD', 'NEUTRAL', 'GOOD', 'BAD', 'NEUTRAL', 'GOOD', 'BAD', 'NEUTRAL', 'BAD', 'BAD', 'GOOD', 'GOOD', 'GOOD', 'GOOD', 'NEUTRAL', 'GOOD', 'BAD', 'NEUTRAL', 'BAD', 'BAD', 'BAD', 'NEUTRAL', 'NEUTRAL', 'BAD', 'BAD', 'GOOD', 'BAD', 'GOOD', 'NEUTRAL', 'GOOD', 'NEUTRAL', 'NEUTRAL', 'BAD', 'BAD', 'NEUTRAL', 'BAD', 'BAD', 'NEUTRAL', 'BAD', 'NEUTRAL', 'NEUTRAL', 'BAD', 'NEUTRAL', 'NEUTRAL', 'NEUTRAL']\n",
      "['NEUTRAL', 'GOOD', 'BAD', 'GOOD', 'GOOD', 'BAD', 'GOOD', 'NEUTRAL', 'BAD', 'BAD', 'NEUTRAL', 'BAD', 'GOOD', 'NEUTRAL', 'GOOD', 'NEUTRAL', 'NEUTRAL', 'GOOD', 'NEUTRAL', 'BAD', 'NEUTRAL', 'NEUTRAL', 'BAD', 'GOOD', 'BAD', 'NEUTRAL', 'BAD', 'GOOD', 'GOOD', 'NEUTRAL', 'NEUTRAL', 'BAD', 'NEUTRAL', 'NEUTRAL', 'GOOD', 'BAD', 'GOOD', 'NEUTRAL', 'GOOD', 'NEUTRAL', 'GOOD', 'BAD', 'BAD', 'BAD', 'NEUTRAL', 'GOOD', 'BAD', 'NEUTRAL', 'BAD', 'NEUTRAL', 'GOOD', 'BAD', 'BAD', 'NEUTRAL', 'GOOD', 'BAD', 'NEUTRAL', 'GOOD', 'GOOD', 'BAD', 'BAD', 'NEUTRAL', 'BAD', 'NEUTRAL', 'NEUTRAL', 'GOOD', 'BAD', 'BAD', 'GOOD', 'GOOD', 'GOOD', 'BAD', 'NEUTRAL', 'GOOD', 'NEUTRAL', 'NEUTRAL', 'GOOD', 'NEUTRAL', 'GOOD', 'NEUTRAL', 'GOOD', 'BAD', 'NEUTRAL', 'BAD', 'BAD', 'NEUTRAL', 'GOOD', 'BAD', 'NEUTRAL', 'BAD', 'GOOD', 'NEUTRAL', 'NEUTRAL', 'GOOD', 'NEUTRAL', 'GOOD', 'BAD', 'BAD', 'GOOD', 'BAD', 'NEUTRAL', 'GOOD', 'GOOD', 'NEUTRAL', 'NEUTRAL', 'BAD', 'GOOD', 'GOOD', 'BAD', 'BAD', 'NEUTRAL', 'NEUTRAL', 'GOOD', 'GOOD', 'NEUTRAL', 'GOOD', 'NEUTRAL', 'BAD', 'NEUTRAL', 'NEUTRAL', 'BAD', 'NEUTRAL', 'GOOD', 'NEUTRAL', 'BAD', 'BAD', 'BAD', 'GOOD', 'NEUTRAL', 'GOOD', 'GOOD', 'GOOD', 'BAD', 'GOOD', 'NEUTRAL', 'GOOD', 'GOOD', 'GOOD', 'BAD', 'NEUTRAL', 'GOOD', 'GOOD', 'GOOD', 'NEUTRAL', 'NEUTRAL', 'NEUTRAL', 'BAD', 'GOOD', 'GOOD', 'NEUTRAL', 'BAD']\n"
     ]
    }
   ],
   "source": [
    "# split dataset\n",
    "\n",
    "X_train , X_test , y_train , y_test = train_test_split(X, y, test_size=0.3,random_state=4)\n",
    "\n",
    "print(X_train)\n",
    "print(X_test)\n",
    "print(y_train)\n",
    "print(y_test)"
   ]
  },
  {
   "cell_type": "code",
   "execution_count": 8,
   "id": "74180755",
   "metadata": {},
   "outputs": [
    {
     "name": "stdout",
     "output_type": "stream",
     "text": [
      "Accuracy of training set:                   : 0.934\n",
      "Accuracy                                    : 0.523\n",
      "F1-Score                                    : 0.506\n",
      "Precision                                   : 0.513\n",
      "Recall                                      : 0.523\n"
     ]
    },
    {
     "data": {
      "text/plain": [
       "<sklearn.metrics._plot.confusion_matrix.ConfusionMatrixDisplay at 0x2189bbebd00>"
      ]
     },
     "execution_count": 8,
     "metadata": {},
     "output_type": "execute_result"
    },
    {
     "data": {
      "image/png": "[encoded data removed]",
      "text/plain": [
       "<Figure size 432x288 with 2 Axes>"
      ]
     },
     "metadata": {
      "needs_background": "light"
     },
     "output_type": "display_data"
    }
   ],
   "source": [
    "svm = SVC().fit(X_train, y_train)\n",
    "y_pred = svm.predict(X_test)\n",
    "\n",
    "# Scores\n",
    "print('Accuracy of training set:                   : {:.3f}'.format(svm.score(X_train, y_train)))\n",
    "print('Accuracy                                    : %.3f'%accuracy_score(y_test, y_pred))\n",
    "print('F1-Score                                    : %.3f'%f1_score(y_test, y_pred, average=\"weighted\"))\n",
    "print('Precision                                   : %.3f'%precision_score(y_test, y_pred, average=\"weighted\"))\n",
    "print('Recall                                      : %.3f'%recall_score(y_test, y_pred, average=\"weighted\"))\n",
    "\n",
    "# Confusion Matrix\n",
    "conf_mat = confusion_matrix(y_test, y_pred)\n",
    "cmd = ConfusionMatrixDisplay(conf_mat, display_labels=['BAD', 'GOOB', 'NEUTRAL'])\n",
    "cmd.plot()"
   ]
  },
  {
   "cell_type": "code",
   "execution_count": 9,
   "id": "9d375c8d",
   "metadata": {},
   "outputs": [],
   "source": [
    "param_dist={\n",
    "    'C':[0.5,1.0,2.0, 3.0],  # penalty parameter C of the error term\n",
    "    \"kernel\":['linear','poly','rbf','sigmoid'], # specifies the kernel type to be used in the algorithm  \n",
    "    'gamma':[0.02, 0.08,0.2,1.0]\n",
    "}"
   ]
  },
  {
   "cell_type": "code",
   "execution_count": 10,
   "id": "0f345a11",
   "metadata": {},
   "outputs": [],
   "source": [
    "from sklearn.model_selection import GridSearchCV"
   ]
  },
  {
   "cell_type": "code",
   "execution_count": 11,
   "id": "1419a122",
   "metadata": {},
   "outputs": [],
   "source": [
    "grid=GridSearchCV(svm,param_grid=param_dist,cv=10,n_jobs=-1)"
   ]
  },
  {
   "cell_type": "code",
   "execution_count": 12,
   "id": "89337494",
   "metadata": {},
   "outputs": [
    {
     "data": {
      "text/plain": [
       "GridSearchCV(cv=10, estimator=SVC(), n_jobs=-1,\n",
       "             param_grid={'C': [0.5, 1.0, 2.0, 3.0],\n",
       "                         'gamma': [0.02, 0.08, 0.2, 1.0],\n",
       "                         'kernel': ['linear', 'poly', 'rbf', 'sigmoid']})"
      ]
     },
     "execution_count": 12,
     "metadata": {},
     "output_type": "execute_result"
    }
   ],
   "source": [
    "grid.fit(X_train,y_train)"
   ]
  },
  {
   "cell_type": "code",
   "execution_count": 13,
   "id": "c9b3b704",
   "metadata": {},
   "outputs": [
    {
     "data": {
      "text/plain": [
       "SVC(C=2.0, gamma=0.02)"
      ]
     },
     "execution_count": 13,
     "metadata": {},
     "output_type": "execute_result"
    }
   ],
   "source": [
    "grid.best_estimator_"
   ]
  },
  {
   "cell_type": "code",
   "execution_count": 14,
   "id": "962a1c42",
   "metadata": {},
   "outputs": [
    {
     "data": {
      "text/plain": [
       "0.6"
      ]
     },
     "execution_count": 14,
     "metadata": {},
     "output_type": "execute_result"
    }
   ],
   "source": [
    "grid.best_score_"
   ]
  },
  {
   "cell_type": "code",
   "execution_count": 15,
   "id": "00942ea3",
   "metadata": {},
   "outputs": [
    {
     "data": {
      "text/plain": [
       "{'C': 2.0, 'gamma': 0.02, 'kernel': 'rbf'}"
      ]
     },
     "execution_count": 15,
     "metadata": {},
     "output_type": "execute_result"
    }
   ],
   "source": [
    "grid.best_params_"
   ]
  },
  {
   "cell_type": "code",
   "execution_count": 16,
   "id": "d9d82f9d",
   "metadata": {},
   "outputs": [],
   "source": [
    "svm = SVC(C=2.0, gamma=0.02, kernel='rbf')"
   ]
  },
  {
   "cell_type": "code",
   "execution_count": 17,
   "id": "e6bfbd12",
   "metadata": {},
   "outputs": [
    {
     "data": {
      "text/plain": [
       "{'fit_time': array([0.06735516, 0.04392242, 0.04000163, 0.04997706, 0.04997516]),\n",
       " 'score_time': array([0.0199914 , 0.01001954, 0.00999498, 0.        , 0.00999355]),\n",
       " 'test_accuracy': array([0.51485149, 0.55      , 0.66      , 0.68      , 0.57      ]),\n",
       " 'test_f1_macro': array([0.50778852, 0.55325482, 0.65792159, 0.66928933, 0.56190476]),\n",
       " 'test_precision_macro': array([0.62842713, 0.56666667, 0.66709307, 0.67505814, 0.59078191]),\n",
       " 'test_recall_macro': array([0.51336898, 0.54961378, 0.65894236, 0.67795603, 0.57070707])}"
      ]
     },
     "execution_count": 17,
     "metadata": {},
     "output_type": "execute_result"
    }
   ],
   "source": [
    "scoring = ['accuracy','f1_macro','precision_macro', 'recall_macro']\n",
    "from sklearn.model_selection import cross_val_score\n",
    "from sklearn.model_selection import cross_validate\n",
    "from sklearn.metrics import recall_score\n",
    "scores = cross_validate(svm, X, y, cv=5,scoring=scoring)\n",
    "scores"
   ]
  },
  {
   "cell_type": "code",
   "execution_count": null,
   "id": "b7f3b889",
   "metadata": {},
   "outputs": [],
   "source": []
  }
 ],
 "metadata": {
  "kernelspec": {
   "display_name": "Python 3 (ipykernel)",
   "language": "python",
   "name": "python3"
  },
  "language_info": {
   "codemirror_mode": {
    "name": "ipython",
    "version": 3
   },
   "file_extension": ".py",
   "mimetype": "text/x-python",
   "name": "python",
   "nbconvert_exporter": "python",
   "pygments_lexer": "ipython3",
   "version": "3.9.7"
  }
 },
 "nbformat": 4,
 "nbformat_minor": 5
}
