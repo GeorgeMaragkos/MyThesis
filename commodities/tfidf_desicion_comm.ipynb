{
 "cells": [
  {
   "cell_type": "code",
   "execution_count": 1,
   "id": "5edae938",
   "metadata": {},
   "outputs": [
    {
     "name": "stderr",
     "output_type": "stream",
     "text": [
      "[nltk_data] Downloading package wordnet to\n",
      "[nltk_data]     C:\\Users\\George\\AppData\\Roaming\\nltk_data...\n",
      "[nltk_data]   Package wordnet is already up-to-date!\n",
      "[nltk_data] Downloading package stopwords to\n",
      "[nltk_data]     C:\\Users\\George\\AppData\\Roaming\\nltk_data...\n",
      "[nltk_data]   Package stopwords is already up-to-date!\n"
     ]
    }
   ],
   "source": [
    "# all imports will be in this cell \n",
    "\n",
    "import pandas as pd\n",
    "import string\n",
    "import re\n",
    "import nltk\n",
    "from nltk.stem.porter import PorterStemmer\n",
    "from nltk.stem import WordNetLemmatizer\n",
    "\n",
    "nltk.download('wordnet')\n",
    "nltk.download('stopwords')\n",
    "stopwords = nltk.corpus.stopwords.words('english')\n",
    "porter_stemmer=PorterStemmer()\n",
    "wordnet_lemmatizer = WordNetLemmatizer()"
   ]
  },
  {
   "cell_type": "code",
   "execution_count": 2,
   "id": "a4a51751",
   "metadata": {},
   "outputs": [
    {
     "data": {
      "text/html": [
       "<div>\n",
       "<style scoped>\n",
       "    .dataframe tbody tr th:only-of-type {\n",
       "        vertical-align: middle;\n",
       "    }\n",
       "\n",
       "    .dataframe tbody tr th {\n",
       "        vertical-align: top;\n",
       "    }\n",
       "\n",
       "    .dataframe thead th {\n",
       "        text-align: right;\n",
       "    }\n",
       "</style>\n",
       "<table border=\"1\" class=\"dataframe\">\n",
       "  <thead>\n",
       "    <tr style=\"text-align: right;\">\n",
       "      <th></th>\n",
       "      <th>No</th>\n",
       "      <th>Classes</th>\n",
       "      <th>Text</th>\n",
       "    </tr>\n",
       "  </thead>\n",
       "  <tbody>\n",
       "    <tr>\n",
       "      <th>0</th>\n",
       "      <td>1</td>\n",
       "      <td>BAD</td>\n",
       "      <td>Copper prices plunged to their lowest level in...</td>\n",
       "    </tr>\n",
       "    <tr>\n",
       "      <th>1</th>\n",
       "      <td>2</td>\n",
       "      <td>BAD</td>\n",
       "      <td>Oil plunged more than 6 per cent for the secon...</td>\n",
       "    </tr>\n",
       "    <tr>\n",
       "      <th>2</th>\n",
       "      <td>3</td>\n",
       "      <td>NEUTRAL</td>\n",
       "      <td>President Joe Biden will call on Congress to e...</td>\n",
       "    </tr>\n",
       "    <tr>\n",
       "      <th>3</th>\n",
       "      <td>4</td>\n",
       "      <td>BAD</td>\n",
       "      <td>The chief executive of Kuwait’s state oil comp...</td>\n",
       "    </tr>\n",
       "    <tr>\n",
       "      <th>4</th>\n",
       "      <td>5</td>\n",
       "      <td>GOOD</td>\n",
       "      <td>Oil climbed as financial markets recovered fro...</td>\n",
       "    </tr>\n",
       "    <tr>\n",
       "      <th>...</th>\n",
       "      <td>...</td>\n",
       "      <td>...</td>\n",
       "      <td>...</td>\n",
       "    </tr>\n",
       "    <tr>\n",
       "      <th>496</th>\n",
       "      <td>497</td>\n",
       "      <td>BAD</td>\n",
       "      <td>Europe appears to be on the brink of an energy...</td>\n",
       "    </tr>\n",
       "    <tr>\n",
       "      <th>497</th>\n",
       "      <td>498</td>\n",
       "      <td>NEUTRAL</td>\n",
       "      <td>The two countries appear to have been chosen c...</td>\n",
       "    </tr>\n",
       "    <tr>\n",
       "      <th>498</th>\n",
       "      <td>499</td>\n",
       "      <td>NEUTRAL</td>\n",
       "      <td>Current negotiations between Russia and the Tu...</td>\n",
       "    </tr>\n",
       "    <tr>\n",
       "      <th>499</th>\n",
       "      <td>500</td>\n",
       "      <td>GOOD</td>\n",
       "      <td>An economy with strong fundamentals is one tha...</td>\n",
       "    </tr>\n",
       "    <tr>\n",
       "      <th>500</th>\n",
       "      <td>501</td>\n",
       "      <td>BAD</td>\n",
       "      <td>After the Heavily Indebted Poor Countries init...</td>\n",
       "    </tr>\n",
       "  </tbody>\n",
       "</table>\n",
       "<p>501 rows × 3 columns</p>\n",
       "</div>"
      ],
      "text/plain": [
       "      No  Classes                                               Text\n",
       "0      1      BAD  Copper prices plunged to their lowest level in...\n",
       "1      2      BAD  Oil plunged more than 6 per cent for the secon...\n",
       "2      3  NEUTRAL  President Joe Biden will call on Congress to e...\n",
       "3      4      BAD  The chief executive of Kuwait’s state oil comp...\n",
       "4      5     GOOD  Oil climbed as financial markets recovered fro...\n",
       "..   ...      ...                                                ...\n",
       "496  497      BAD  Europe appears to be on the brink of an energy...\n",
       "497  498  NEUTRAL  The two countries appear to have been chosen c...\n",
       "498  499  NEUTRAL  Current negotiations between Russia and the Tu...\n",
       "499  500     GOOD  An economy with strong fundamentals is one tha...\n",
       "500  501      BAD  After the Heavily Indebted Poor Countries init...\n",
       "\n",
       "[501 rows x 3 columns]"
      ]
     },
     "execution_count": 2,
     "metadata": {},
     "output_type": "execute_result"
    }
   ],
   "source": [
    "data=pd.read_excel(\"commodities_dataset_annotated.xlsx\")\n",
    "data"
   ]
  },
  {
   "cell_type": "code",
   "execution_count": 3,
   "id": "573e5ea6",
   "metadata": {},
   "outputs": [],
   "source": [
    "# helper functions - all helper functions will be reported here\n",
    "\n",
    "def remove_punctuation(text):\n",
    "    punctuationfree=\"\".join([i for i in text if i not in string.punctuation])\n",
    "    return punctuationfree\n",
    "\n",
    "def tokenization(text):\n",
    "    tokens = re.split('W+', text)\n",
    "    return tokens\n",
    "\n",
    "def remove_stopwords(text):\n",
    "    output= [i for i in text if not i in stopwords]\n",
    "    return output\n",
    "\n",
    "def stemming(text):\n",
    "    stem_text=[porter_stemmer.stem(word) for word in text]\n",
    "    return stem_text\n",
    "\n",
    "def lemmatizer(text):\n",
    "    lemm_text = [wordnet_lemmatizer.lemmatize(word) for word in text]\n",
    "    return lemm_text"
   ]
  },
  {
   "cell_type": "code",
   "execution_count": 4,
   "id": "075650fb",
   "metadata": {},
   "outputs": [
    {
     "data": {
      "text/html": [
       "<div>\n",
       "<style scoped>\n",
       "    .dataframe tbody tr th:only-of-type {\n",
       "        vertical-align: middle;\n",
       "    }\n",
       "\n",
       "    .dataframe tbody tr th {\n",
       "        vertical-align: top;\n",
       "    }\n",
       "\n",
       "    .dataframe thead th {\n",
       "        text-align: right;\n",
       "    }\n",
       "</style>\n",
       "<table border=\"1\" class=\"dataframe\">\n",
       "  <thead>\n",
       "    <tr style=\"text-align: right;\">\n",
       "      <th></th>\n",
       "      <th>No</th>\n",
       "      <th>Classes</th>\n",
       "      <th>Text</th>\n",
       "      <th>clean_msg</th>\n",
       "      <th>msg_lower</th>\n",
       "      <th>no_stopwords</th>\n",
       "      <th>no_stopwords2</th>\n",
       "      <th>msg_stemmed</th>\n",
       "      <th>msg_lemmatized</th>\n",
       "      <th>msg_lemmatized_string</th>\n",
       "    </tr>\n",
       "  </thead>\n",
       "  <tbody>\n",
       "    <tr>\n",
       "      <th>0</th>\n",
       "      <td>1</td>\n",
       "      <td>BAD</td>\n",
       "      <td>Copper prices plunged to their lowest level in...</td>\n",
       "      <td>Copper prices plunged to their lowest level in...</td>\n",
       "      <td>copper prices plunged to their lowest level in...</td>\n",
       "      <td>[copper, prices, plunged, to, their, lowest, l...</td>\n",
       "      <td>[copper, prices, plunged, lowest, level, year,...</td>\n",
       "      <td>[copper, price, plung, lowest, level, year, we...</td>\n",
       "      <td>[copper, price, plung, lowest, level, year, we...</td>\n",
       "      <td>copper price plung lowest level year wednesday...</td>\n",
       "    </tr>\n",
       "    <tr>\n",
       "      <th>1</th>\n",
       "      <td>2</td>\n",
       "      <td>BAD</td>\n",
       "      <td>Oil plunged more than 6 per cent for the secon...</td>\n",
       "      <td>Oil plunged more than 6 per cent for the secon...</td>\n",
       "      <td>oil plunged more than 6 per cent for the secon...</td>\n",
       "      <td>[oil, plunged, more, than, per, cent, for, the...</td>\n",
       "      <td>[oil, plunged, per, cent, second, time, less, ...</td>\n",
       "      <td>[oil, plung, per, cent, second, time, less, we...</td>\n",
       "      <td>[oil, plung, per, cent, second, time, le, week...</td>\n",
       "      <td>oil plung per cent second time le week concern...</td>\n",
       "    </tr>\n",
       "    <tr>\n",
       "      <th>2</th>\n",
       "      <td>3</td>\n",
       "      <td>NEUTRAL</td>\n",
       "      <td>President Joe Biden will call on Congress to e...</td>\n",
       "      <td>President Joe Biden will call on Congress to e...</td>\n",
       "      <td>president joe biden will call on congress to e...</td>\n",
       "      <td>[president, joe, biden, will, call, on, congre...</td>\n",
       "      <td>[president, joe, biden, call, congress, enact,...</td>\n",
       "      <td>[presid, joe, biden, call, congress, enact, ga...</td>\n",
       "      <td>[presid, joe, biden, call, congress, enact, ga...</td>\n",
       "      <td>presid joe biden call congress enact gasolin t...</td>\n",
       "    </tr>\n",
       "    <tr>\n",
       "      <th>3</th>\n",
       "      <td>4</td>\n",
       "      <td>BAD</td>\n",
       "      <td>The chief executive of Kuwait’s state oil comp...</td>\n",
       "      <td>The chief executive of Kuwait’s state oil comp...</td>\n",
       "      <td>the chief executive of kuwait’s state oil comp...</td>\n",
       "      <td>[the, chief, executive, of, kuwait, state, oil...</td>\n",
       "      <td>[chief, executive, kuwait, state, oil, company...</td>\n",
       "      <td>[chief, execut, kuwait, state, oil, compani, s...</td>\n",
       "      <td>[chief, execut, kuwait, state, oil, compani, s...</td>\n",
       "      <td>chief execut kuwait state oil compani said u p...</td>\n",
       "    </tr>\n",
       "    <tr>\n",
       "      <th>4</th>\n",
       "      <td>5</td>\n",
       "      <td>GOOD</td>\n",
       "      <td>Oil climbed as financial markets recovered fro...</td>\n",
       "      <td>Oil climbed as financial markets recovered fro...</td>\n",
       "      <td>oil climbed as financial markets recovered fro...</td>\n",
       "      <td>[oil, climbed, as, financial, markets, recover...</td>\n",
       "      <td>[oil, climbed, financial, markets, recovered, ...</td>\n",
       "      <td>[oil, climb, financi, market, recov, last, wee...</td>\n",
       "      <td>[oil, climb, financi, market, recov, last, wee...</td>\n",
       "      <td>oil climb financi market recov last week rout ...</td>\n",
       "    </tr>\n",
       "  </tbody>\n",
       "</table>\n",
       "</div>"
      ],
      "text/plain": [
       "   No  Classes                                               Text  \\\n",
       "0   1      BAD  Copper prices plunged to their lowest level in...   \n",
       "1   2      BAD  Oil plunged more than 6 per cent for the secon...   \n",
       "2   3  NEUTRAL  President Joe Biden will call on Congress to e...   \n",
       "3   4      BAD  The chief executive of Kuwait’s state oil comp...   \n",
       "4   5     GOOD  Oil climbed as financial markets recovered fro...   \n",
       "\n",
       "                                           clean_msg  \\\n",
       "0  Copper prices plunged to their lowest level in...   \n",
       "1  Oil plunged more than 6 per cent for the secon...   \n",
       "2  President Joe Biden will call on Congress to e...   \n",
       "3  The chief executive of Kuwait’s state oil comp...   \n",
       "4  Oil climbed as financial markets recovered fro...   \n",
       "\n",
       "                                           msg_lower  \\\n",
       "0  copper prices plunged to their lowest level in...   \n",
       "1  oil plunged more than 6 per cent for the secon...   \n",
       "2  president joe biden will call on congress to e...   \n",
       "3  the chief executive of kuwait’s state oil comp...   \n",
       "4  oil climbed as financial markets recovered fro...   \n",
       "\n",
       "                                        no_stopwords  \\\n",
       "0  [copper, prices, plunged, to, their, lowest, l...   \n",
       "1  [oil, plunged, more, than, per, cent, for, the...   \n",
       "2  [president, joe, biden, will, call, on, congre...   \n",
       "3  [the, chief, executive, of, kuwait, state, oil...   \n",
       "4  [oil, climbed, as, financial, markets, recover...   \n",
       "\n",
       "                                       no_stopwords2  \\\n",
       "0  [copper, prices, plunged, lowest, level, year,...   \n",
       "1  [oil, plunged, per, cent, second, time, less, ...   \n",
       "2  [president, joe, biden, call, congress, enact,...   \n",
       "3  [chief, executive, kuwait, state, oil, company...   \n",
       "4  [oil, climbed, financial, markets, recovered, ...   \n",
       "\n",
       "                                         msg_stemmed  \\\n",
       "0  [copper, price, plung, lowest, level, year, we...   \n",
       "1  [oil, plung, per, cent, second, time, less, we...   \n",
       "2  [presid, joe, biden, call, congress, enact, ga...   \n",
       "3  [chief, execut, kuwait, state, oil, compani, s...   \n",
       "4  [oil, climb, financi, market, recov, last, wee...   \n",
       "\n",
       "                                      msg_lemmatized  \\\n",
       "0  [copper, price, plung, lowest, level, year, we...   \n",
       "1  [oil, plung, per, cent, second, time, le, week...   \n",
       "2  [presid, joe, biden, call, congress, enact, ga...   \n",
       "3  [chief, execut, kuwait, state, oil, compani, s...   \n",
       "4  [oil, climb, financi, market, recov, last, wee...   \n",
       "\n",
       "                               msg_lemmatized_string  \n",
       "0  copper price plung lowest level year wednesday...  \n",
       "1  oil plung per cent second time le week concern...  \n",
       "2  presid joe biden call congress enact gasolin t...  \n",
       "3  chief execut kuwait state oil compani said u p...  \n",
       "4  oil climb financi market recov last week rout ...  "
      ]
     },
     "execution_count": 4,
     "metadata": {},
     "output_type": "execute_result"
    }
   ],
   "source": [
    "# data preprocess\n",
    "\n",
    "# remove punctuation from Text column - create a new column \n",
    "data['clean_msg']=data['Text'].apply(lambda x:remove_punctuation(x))\n",
    "\n",
    "# lower all letters - create a new column \n",
    "data['msg_lower']=data['clean_msg'].apply(lambda x: x.lower())\n",
    "\n",
    "import gensim\n",
    "data['no_stopwords']=data['msg_lower'].apply(gensim.utils.simple_preprocess)\n",
    "\n",
    "# tokenize all rows - create a new column \n",
    "#data['msg_tokenied']= data['msg_lower'].apply(lambda x: tokenization(x))\n",
    "\n",
    "# remove stopwords - create a new column\n",
    "data['no_stopwords2']=data['no_stopwords'].apply(lambda x:remove_stopwords(x))\n",
    "\n",
    "# stemme texts - create a new column\n",
    "data['msg_stemmed']=data['no_stopwords2'].apply(lambda x:stemming(x))\n",
    "\n",
    "# lemmatize texts - create a new column\n",
    "data['msg_lemmatized']=data['msg_stemmed'].apply(lambda x:lemmatizer(x))\n",
    "\n",
    "data['msg_lemmatized_string']=data['msg_lemmatized'].apply(lambda x: ' '.join(map(str, x)))\n",
    "\n",
    "data.head()"
   ]
  },
  {
   "cell_type": "code",
   "execution_count": 5,
   "id": "4b8bf34a",
   "metadata": {},
   "outputs": [],
   "source": [
    "#  Data analysis \n",
    "\n",
    "from sklearn.feature_extraction.text import TfidfVectorizer\n",
    "from sklearn.model_selection import train_test_split\n",
    "\n",
    "from sklearn.tree import DecisionTreeClassifier\n",
    "\n",
    "from sklearn.metrics import accuracy_score, recall_score, precision_score, f1_score\n",
    "from sklearn.metrics import confusion_matrix, ConfusionMatrixDisplay\n",
    "\n",
    "from sklearn.feature_extraction.text import CountVectorizer\n",
    "from sklearn import tree"
   ]
  },
  {
   "cell_type": "code",
   "execution_count": 6,
   "id": "82ccf978",
   "metadata": {},
   "outputs": [
    {
     "name": "stdout",
     "output_type": "stream",
     "text": [
      "[[0.10703543 0.         0.         ... 0.         0.         0.        ]\n",
      " [0.         0.         0.         ... 0.         0.         0.        ]\n",
      " [0.         0.         0.         ... 0.         0.         0.        ]\n",
      " ...\n",
      " [0.         0.         0.         ... 0.         0.         0.        ]\n",
      " [0.         0.         0.         ... 0.         0.         0.        ]\n",
      " [0.         0.         0.         ... 0.         0.         0.        ]]\n"
     ]
    }
   ],
   "source": [
    "# TfId\n",
    "\n",
    "v = TfidfVectorizer(token_pattern=r\"\\b\\w+\\b\")\n",
    "X = v.fit_transform(data['msg_lemmatized_string'])\n",
    "\n",
    "y = data['Classes'].to_list()\n",
    "\n",
    "print(X.toarray())\n",
    "## pd.DataFrame(X).to_excel(\"TEMP.xlsx\", index=False) # save a xlsx file to see the tokenized data\n"
   ]
  },
  {
   "cell_type": "code",
   "execution_count": 7,
   "id": "f79d9048",
   "metadata": {},
   "outputs": [
    {
     "name": "stdout",
     "output_type": "stream",
     "text": [
      "  (0, 800)\t0.34100162882274054\n",
      "  (0, 2585)\t0.3172950078019781\n",
      "  (0, 2423)\t0.3578217441167612\n",
      "  (0, 2781)\t0.28185562844476975\n",
      "  (0, 299)\t0.2194214198783914\n",
      "  (0, 1306)\t0.2637215764733745\n",
      "  (0, 1001)\t0.15831542407821567\n",
      "  (0, 1598)\t0.23385476616553325\n",
      "  (0, 717)\t0.1910348841168864\n",
      "  (0, 707)\t0.2021463005642938\n",
      "  (0, 2696)\t0.2637215764733745\n",
      "  (0, 100)\t0.23156162043166945\n",
      "  (0, 3296)\t0.1921702153529348\n",
      "  (0, 1605)\t0.22935502944567035\n",
      "  (0, 2664)\t0.1826681038438084\n",
      "  (0, 2004)\t0.23385476616553325\n",
      "  (1, 850)\t0.2761285658730104\n",
      "  (1, 23)\t0.2373551584060944\n",
      "  (1, 455)\t0.19378617772181017\n",
      "  (1, 422)\t0.24679761540991446\n",
      "  (1, 886)\t0.2373551584060944\n",
      "  (1, 2539)\t0.2296401092784935\n",
      "  (1, 1092)\t0.2174666649468185\n",
      "  (1, 2363)\t0.24679761540991446\n",
      "  (1, 999)\t0.22311712818490614\n",
      "  :\t:\n",
      "  (348, 103)\t0.13009004763690107\n",
      "  (349, 1340)\t0.24779295788608666\n",
      "  (349, 1635)\t0.24779295788608666\n",
      "  (349, 2726)\t0.22711007488502544\n",
      "  (349, 2878)\t0.22711007488502544\n",
      "  (349, 3205)\t0.21972803441505054\n",
      "  (349, 875)\t0.2361449622312157\n",
      "  (349, 639)\t0.24779295788608666\n",
      "  (349, 2888)\t0.17524618312784923\n",
      "  (349, 3498)\t0.20808003876017958\n",
      "  (349, 66)\t0.20331110659888538\n",
      "  (349, 989)\t0.41616007752035916\n",
      "  (349, 1903)\t0.17098022794295317\n",
      "  (349, 1618)\t0.20331110659888538\n",
      "  (349, 1855)\t0.15070427425574828\n",
      "  (349, 3286)\t0.14949555387185717\n",
      "  (349, 2814)\t0.21972803441505054\n",
      "  (349, 1001)\t0.10963405063089247\n",
      "  (349, 2522)\t0.1690047568425034\n",
      "  (349, 1827)\t0.17098022794295317\n",
      "  (349, 1131)\t0.20808003876017958\n",
      "  (349, 3294)\t0.10159004785377862\n",
      "  (349, 2109)\t0.09306908197004163\n",
      "  (349, 18)\t0.13076433184064795\n",
      "  (349, 2372)\t0.08338916956304732\n",
      "  (0, 2327)\t0.0986772827442833\n",
      "  (0, 858)\t0.09254587769256684\n",
      "  (0, 1088)\t0.08482122087876899\n",
      "  (0, 1411)\t0.0986772827442833\n",
      "  (0, 3452)\t0.08819557657652466\n",
      "  (0, 2418)\t0.0986772827442833\n",
      "  (0, 3241)\t0.0986772827442833\n",
      "  (0, 1158)\t0.09254587769256684\n",
      "  (0, 326)\t0.0986772827442833\n",
      "  (0, 2906)\t0.0986772827442833\n",
      "  (0, 860)\t0.0986772827442833\n",
      "  (0, 1357)\t0.0986772827442833\n",
      "  (0, 1570)\t0.0986772827442833\n",
      "  (0, 1759)\t0.1973545654885666\n",
      "  (0, 2086)\t0.1973545654885666\n",
      "  (0, 122)\t0.0986772827442833\n",
      "  (0, 9)\t0.0986772827442833\n",
      "  (0, 1400)\t0.0986772827442833\n",
      "  (0, 110)\t0.0986772827442833\n",
      "  (0, 1376)\t0.0986772827442833\n",
      "  (0, 1584)\t0.0986772827442833\n",
      "  (0, 587)\t0.08482122087876899\n",
      "  (0, 2298)\t0.0986772827442833\n",
      "  (0, 2576)\t0.0986772827442833\n",
      "  (0, 3318)\t0.0986772827442833\n",
      "  :\t:\n",
      "  (149, 2085)\t0.19122238484039122\n",
      "  (149, 1540)\t0.14798081018439174\n",
      "  (149, 1001)\t0.21876389794669743\n",
      "  (149, 2746)\t0.19122238484039122\n",
      "  (149, 816)\t0.1985874504323257\n",
      "  (149, 3057)\t0.11665832952011383\n",
      "  (149, 717)\t0.1319882005702698\n",
      "  (149, 1050)\t0.16322199618937838\n",
      "  (149, 2866)\t0.15699492195891804\n",
      "  (149, 100)\t0.15998858922128267\n",
      "  (149, 1605)\t0.1584640301074697\n",
      "  (149, 2664)\t0.12620749576383924\n",
      "  (149, 2459)\t0.16322199618937838\n",
      "  (149, 1317)\t0.121749873235365\n",
      "  (149, 2372)\t0.0831974175685979\n",
      "  (150, 2754)\t0.4345304746939572\n",
      "  (150, 1088)\t0.3735145957361473\n",
      "  (150, 2185)\t0.4075305181328547\n",
      "  (150, 2243)\t0.26906032631124366\n",
      "  (150, 3207)\t0.3210111520256766\n",
      "  (150, 2566)\t0.27485442141847294\n",
      "  (150, 1185)\t0.2564586852141424\n",
      "  (150, 1564)\t0.2286976908112693\n",
      "  (150, 3193)\t0.2637302754955222\n",
      "  (150, 1866)\t0.2587954192305335\n",
      "['BAD', 'NEUTRAL', 'BAD', 'NEUTRAL', 'NEUTRAL', 'GOOD', 'GOOD', 'NEUTRAL', 'GOOD', 'BAD', 'GOOD', 'BAD', 'GOOD', 'NEUTRAL', 'BAD', 'BAD', 'NEUTRAL', 'GOOD', 'BAD', 'GOOD', 'GOOD', 'GOOD', 'BAD', 'BAD', 'BAD', 'BAD', 'NEUTRAL', 'NEUTRAL', 'GOOD', 'GOOD', 'BAD', 'NEUTRAL', 'GOOD', 'GOOD', 'BAD', 'NEUTRAL', 'BAD', 'GOOD', 'NEUTRAL', 'GOOD', 'NEUTRAL', 'BAD', 'NEUTRAL', 'GOOD', 'GOOD', 'NEUTRAL', 'BAD', 'GOOD', 'GOOD', 'GOOD', 'GOOD', 'NEUTRAL', 'NEUTRAL', 'BAD', 'BAD', 'NEUTRAL', 'GOOD', 'BAD', 'BAD', 'NEUTRAL', 'GOOD', 'NEUTRAL', 'NEUTRAL', 'GOOD', 'BAD', 'GOOD', 'BAD', 'NEUTRAL', 'GOOD', 'BAD', 'NEUTRAL', 'NEUTRAL', 'BAD', 'NEUTRAL', 'BAD', 'BAD', 'GOOD', 'NEUTRAL', 'BAD', 'GOOD', 'NEUTRAL', 'BAD', 'BAD', 'GOOD', 'GOOD', 'GOOD', 'GOOD', 'BAD', 'GOOD', 'NEUTRAL', 'BAD', 'GOOD', 'GOOD', 'NEUTRAL', 'NEUTRAL', 'NEUTRAL', 'BAD', 'NEUTRAL', 'NEUTRAL', 'BAD', 'NEUTRAL', 'NEUTRAL', 'NEUTRAL', 'BAD', 'BAD', 'BAD', 'BAD', 'BAD', 'NEUTRAL', 'NEUTRAL', 'GOOD', 'NEUTRAL', 'GOOD', 'GOOD', 'NEUTRAL', 'NEUTRAL', 'NEUTRAL', 'GOOD', 'NEUTRAL', 'NEUTRAL', 'BAD', 'NEUTRAL', 'NEUTRAL', 'BAD', 'NEUTRAL', 'BAD', 'GOOD', 'BAD', 'BAD', 'BAD', 'NEUTRAL', 'NEUTRAL', 'BAD', 'BAD', 'BAD', 'GOOD', 'GOOD', 'BAD', 'NEUTRAL', 'GOOD', 'BAD', 'NEUTRAL', 'GOOD', 'BAD', 'BAD', 'BAD', 'NEUTRAL', 'GOOD', 'GOOD', 'GOOD', 'NEUTRAL', 'GOOD', 'NEUTRAL', 'BAD', 'NEUTRAL', 'NEUTRAL', 'GOOD', 'BAD', 'BAD', 'BAD', 'BAD', 'NEUTRAL', 'GOOD', 'BAD', 'GOOD', 'NEUTRAL', 'BAD', 'NEUTRAL', 'BAD', 'BAD', 'GOOD', 'BAD', 'BAD', 'GOOD', 'BAD', 'BAD', 'BAD', 'NEUTRAL', 'GOOD', 'NEUTRAL', 'GOOD', 'NEUTRAL', 'BAD', 'GOOD', 'NEUTRAL', 'GOOD', 'NEUTRAL', 'GOOD', 'BAD', 'NEUTRAL', 'GOOD', 'BAD', 'NEUTRAL', 'NEUTRAL', 'GOOD', 'NEUTRAL', 'NEUTRAL', 'BAD', 'BAD', 'NEUTRAL', 'GOOD', 'NEUTRAL', 'BAD', 'NEUTRAL', 'BAD', 'GOOD', 'GOOD', 'NEUTRAL', 'NEUTRAL', 'BAD', 'GOOD', 'BAD', 'GOOD', 'NEUTRAL', 'BAD', 'GOOD', 'NEUTRAL', 'GOOD', 'GOOD', 'GOOD', 'BAD', 'GOOD', 'BAD', 'BAD', 'GOOD', 'BAD', 'GOOD', 'GOOD', 'GOOD', 'NEUTRAL', 'NEUTRAL', 'BAD', 'NEUTRAL', 'GOOD', 'GOOD', 'BAD', 'GOOD', 'GOOD', 'BAD', 'GOOD', 'GOOD', 'NEUTRAL', 'NEUTRAL', 'GOOD', 'BAD', 'BAD', 'GOOD', 'GOOD', 'NEUTRAL', 'BAD', 'NEUTRAL', 'BAD', 'NEUTRAL', 'NEUTRAL', 'NEUTRAL', 'GOOD', 'BAD', 'NEUTRAL', 'GOOD', 'BAD', 'GOOD', 'GOOD', 'GOOD', 'BAD', 'GOOD', 'NEUTRAL', 'GOOD', 'BAD', 'BAD', 'NEUTRAL', 'BAD', 'NEUTRAL', 'BAD', 'BAD', 'NEUTRAL', 'BAD', 'GOOD', 'GOOD', 'BAD', 'NEUTRAL', 'BAD', 'BAD', 'GOOD', 'GOOD', 'NEUTRAL', 'NEUTRAL', 'GOOD', 'BAD', 'NEUTRAL', 'NEUTRAL', 'BAD', 'GOOD', 'GOOD', 'GOOD', 'NEUTRAL', 'GOOD', 'GOOD', 'NEUTRAL', 'BAD', 'BAD', 'BAD', 'GOOD', 'GOOD', 'GOOD', 'BAD', 'GOOD', 'NEUTRAL', 'GOOD', 'BAD', 'NEUTRAL', 'GOOD', 'BAD', 'NEUTRAL', 'BAD', 'BAD', 'GOOD', 'GOOD', 'GOOD', 'GOOD', 'NEUTRAL', 'GOOD', 'BAD', 'NEUTRAL', 'BAD', 'BAD', 'BAD', 'NEUTRAL', 'NEUTRAL', 'BAD', 'BAD', 'GOOD', 'BAD', 'GOOD', 'NEUTRAL', 'GOOD', 'NEUTRAL', 'NEUTRAL', 'BAD', 'BAD', 'NEUTRAL', 'BAD', 'BAD', 'NEUTRAL', 'BAD', 'NEUTRAL', 'NEUTRAL', 'BAD', 'NEUTRAL', 'NEUTRAL', 'NEUTRAL']\n",
      "['NEUTRAL', 'GOOD', 'BAD', 'GOOD', 'GOOD', 'BAD', 'GOOD', 'NEUTRAL', 'BAD', 'BAD', 'NEUTRAL', 'BAD', 'GOOD', 'NEUTRAL', 'GOOD', 'NEUTRAL', 'NEUTRAL', 'GOOD', 'NEUTRAL', 'BAD', 'NEUTRAL', 'NEUTRAL', 'BAD', 'GOOD', 'BAD', 'NEUTRAL', 'BAD', 'GOOD', 'GOOD', 'NEUTRAL', 'NEUTRAL', 'BAD', 'NEUTRAL', 'NEUTRAL', 'GOOD', 'BAD', 'GOOD', 'NEUTRAL', 'GOOD', 'NEUTRAL', 'GOOD', 'BAD', 'BAD', 'BAD', 'NEUTRAL', 'GOOD', 'BAD', 'NEUTRAL', 'BAD', 'NEUTRAL', 'GOOD', 'BAD', 'BAD', 'NEUTRAL', 'GOOD', 'BAD', 'NEUTRAL', 'GOOD', 'GOOD', 'BAD', 'BAD', 'NEUTRAL', 'BAD', 'NEUTRAL', 'NEUTRAL', 'GOOD', 'BAD', 'BAD', 'GOOD', 'GOOD', 'GOOD', 'BAD', 'NEUTRAL', 'GOOD', 'NEUTRAL', 'NEUTRAL', 'GOOD', 'NEUTRAL', 'GOOD', 'NEUTRAL', 'GOOD', 'BAD', 'NEUTRAL', 'BAD', 'BAD', 'NEUTRAL', 'GOOD', 'BAD', 'NEUTRAL', 'BAD', 'GOOD', 'NEUTRAL', 'NEUTRAL', 'GOOD', 'NEUTRAL', 'GOOD', 'BAD', 'BAD', 'GOOD', 'BAD', 'NEUTRAL', 'GOOD', 'GOOD', 'NEUTRAL', 'NEUTRAL', 'BAD', 'GOOD', 'GOOD', 'BAD', 'BAD', 'NEUTRAL', 'NEUTRAL', 'GOOD', 'GOOD', 'NEUTRAL', 'GOOD', 'NEUTRAL', 'BAD', 'NEUTRAL', 'NEUTRAL', 'BAD', 'NEUTRAL', 'GOOD', 'NEUTRAL', 'BAD', 'BAD', 'BAD', 'GOOD', 'NEUTRAL', 'GOOD', 'GOOD', 'GOOD', 'BAD', 'GOOD', 'NEUTRAL', 'GOOD', 'GOOD', 'GOOD', 'BAD', 'NEUTRAL', 'GOOD', 'GOOD', 'GOOD', 'NEUTRAL', 'NEUTRAL', 'NEUTRAL', 'BAD', 'GOOD', 'GOOD', 'NEUTRAL', 'BAD']\n"
     ]
    }
   ],
   "source": [
    "# split dataset\n",
    "\n",
    "X_train , X_test , y_train , y_test = train_test_split(X, y, test_size=0.3,random_state=4)\n",
    "\n",
    "print(X_train)\n",
    "print(X_test)\n",
    "print(y_train)\n",
    "print(y_test)"
   ]
  },
  {
   "cell_type": "code",
   "execution_count": 8,
   "id": "bd9ff348",
   "metadata": {},
   "outputs": [
    {
     "name": "stdout",
     "output_type": "stream",
     "text": [
      "Accuracy of training set:                   : 1.000\n",
      "Accuracy                                    : 0.510\n",
      "F1-Score                                    : 0.508\n",
      "Precision                                   : 0.515\n",
      "Recall                                      : 0.510\n"
     ]
    },
    {
     "data": {
      "text/plain": [
       "<sklearn.metrics._plot.confusion_matrix.ConfusionMatrixDisplay at 0x1479f913e50>"
      ]
     },
     "execution_count": 8,
     "metadata": {},
     "output_type": "execute_result"
    },
    {
     "data": {
      "image/png": "[encoded data removed]",
      "text/plain": [
       "<Figure size 432x288 with 2 Axes>"
      ]
     },
     "metadata": {
      "needs_background": "light"
     },
     "output_type": "display_data"
    }
   ],
   "source": [
    "# Decision Tree classifier\n",
    "\n",
    "clf = tree.DecisionTreeClassifier().fit(X_train, y_train)\n",
    "y_pred = clf.predict(X_test)\n",
    "\n",
    "# Scores\n",
    "print('Accuracy of training set:                   : {:.3f}'.format(clf.score(X_train, y_train)))\n",
    "print('Accuracy                                    : %.3f'%accuracy_score(y_test, y_pred))\n",
    "print('F1-Score                                    : %.3f'%f1_score(y_test, y_pred, average=\"weighted\"))\n",
    "print('Precision                                   : %.3f'%precision_score(y_test, y_pred, average=\"weighted\"))\n",
    "print('Recall                                      : %.3f'%recall_score(y_test, y_pred, average=\"weighted\"))\n",
    "\n",
    "# Confusion Matrix\n",
    "conf_mat = confusion_matrix(y_test, y_pred)\n",
    "cmd = ConfusionMatrixDisplay(conf_mat, display_labels=['BAD', 'GOOB', 'NEUTRAL'])\n",
    "cmd.plot()"
   ]
  },
  {
   "cell_type": "code",
   "execution_count": 9,
   "id": "b9159386",
   "metadata": {},
   "outputs": [],
   "source": [
    "param_dist={\n",
    "     'criterion': ['gini','entropy'], \n",
    "     'splitter': ['best', 'random'], \n",
    "     'max_depth': [2,4,6,8,10,None], \n",
    "     'min_samples_split': [2,5,7,10,12], \n",
    "     'min_samples_leaf': [1,3,5,7, 10], \n",
    "}"
   ]
  },
  {
   "cell_type": "code",
   "execution_count": 10,
   "id": "aaeabdda",
   "metadata": {},
   "outputs": [],
   "source": [
    "from sklearn.model_selection import GridSearchCV\n",
    "from sklearn import metrics"
   ]
  },
  {
   "cell_type": "code",
   "execution_count": 11,
   "id": "097798ae",
   "metadata": {},
   "outputs": [],
   "source": [
    "grid=GridSearchCV(clf,param_grid=param_dist,cv=5,n_jobs=-1)"
   ]
  },
  {
   "cell_type": "code",
   "execution_count": 12,
   "id": "16febdac",
   "metadata": {},
   "outputs": [
    {
     "data": {
      "text/plain": [
       "GridSearchCV(cv=5, estimator=DecisionTreeClassifier(), n_jobs=-1,\n",
       "             param_grid={'criterion': ['gini', 'entropy'],\n",
       "                         'max_depth': [2, 4, 6, 8, 10, None],\n",
       "                         'min_samples_leaf': [1, 3, 5, 7, 10],\n",
       "                         'min_samples_split': [2, 5, 7, 10, 12],\n",
       "                         'splitter': ['best', 'random']})"
      ]
     },
     "execution_count": 12,
     "metadata": {},
     "output_type": "execute_result"
    }
   ],
   "source": [
    "grid.fit(X_train,y_train)"
   ]
  },
  {
   "cell_type": "code",
   "execution_count": 13,
   "id": "79e5b3ef",
   "metadata": {},
   "outputs": [
    {
     "data": {
      "text/plain": [
       "DecisionTreeClassifier(criterion='entropy', min_samples_split=5,\n",
       "                       splitter='random')"
      ]
     },
     "execution_count": 13,
     "metadata": {},
     "output_type": "execute_result"
    }
   ],
   "source": [
    "grid.best_estimator_"
   ]
  },
  {
   "cell_type": "code",
   "execution_count": 14,
   "id": "cce09cef",
   "metadata": {},
   "outputs": [
    {
     "data": {
      "text/plain": [
       "0.5657142857142856"
      ]
     },
     "execution_count": 14,
     "metadata": {},
     "output_type": "execute_result"
    }
   ],
   "source": [
    "grid.best_score_"
   ]
  },
  {
   "cell_type": "code",
   "execution_count": 15,
   "id": "a83e18d7",
   "metadata": {},
   "outputs": [
    {
     "data": {
      "text/plain": [
       "{'criterion': 'entropy',\n",
       " 'max_depth': None,\n",
       " 'min_samples_leaf': 1,\n",
       " 'min_samples_split': 5,\n",
       " 'splitter': 'random'}"
      ]
     },
     "execution_count": 15,
     "metadata": {},
     "output_type": "execute_result"
    }
   ],
   "source": [
    "grid.best_params_"
   ]
  },
  {
   "cell_type": "code",
   "execution_count": 18,
   "id": "878fc1bf",
   "metadata": {},
   "outputs": [],
   "source": [
    "clf = tree.DecisionTreeClassifier(criterion= \"entropy\" ,max_depth=None,min_samples_leaf= 1,min_samples_split= 5,splitter=\"random\",random_state=4)"
   ]
  },
  {
   "cell_type": "code",
   "execution_count": 19,
   "id": "92ff31b3",
   "metadata": {},
   "outputs": [
    {
     "data": {
      "text/plain": [
       "{'fit_time': array([0.01798701, 0.02094507, 0.01995111, 0.02229142, 0.02006602]),\n",
       " 'score_time': array([0.00198627, 0.00199842, 0.00298762, 0.00199747, 0.00199389]),\n",
       " 'test_accuracy': array([0.45544554, 0.49      , 0.53      , 0.51      , 0.57      ]),\n",
       " 'test_f1_macro': array([0.45820027, 0.49084249, 0.51511593, 0.50790459, 0.56469413]),\n",
       " 'test_precision_macro': array([0.46847545, 0.49427855, 0.54103967, 0.52929293, 0.57329457]),\n",
       " 'test_recall_macro': array([0.45513963, 0.48930481, 0.5285205 , 0.50920974, 0.56981581])}"
      ]
     },
     "execution_count": 19,
     "metadata": {},
     "output_type": "execute_result"
    }
   ],
   "source": [
    "scoring = ['accuracy','f1_macro','precision_macro', 'recall_macro']\n",
    "from sklearn.model_selection import cross_val_score\n",
    "from sklearn.model_selection import cross_validate\n",
    "from sklearn.metrics import recall_score\n",
    "scores = cross_validate(clf, X, y, cv=5,scoring=scoring)\n",
    "scores"
   ]
  },
  {
   "cell_type": "code",
   "execution_count": null,
   "id": "01395040",
   "metadata": {},
   "outputs": [],
   "source": []
  }
 ],
 "metadata": {
  "kernelspec": {
   "display_name": "Python 3 (ipykernel)",
   "language": "python",
   "name": "python3"
  },
  "language_info": {
   "codemirror_mode": {
    "name": "ipython",
    "version": 3
   },
   "file_extension": ".py",
   "mimetype": "text/x-python",
   "name": "python",
   "nbconvert_exporter": "python",
   "pygments_lexer": "ipython3",
   "version": "3.9.7"
  }
 },
 "nbformat": 4,
 "nbformat_minor": 5
}
